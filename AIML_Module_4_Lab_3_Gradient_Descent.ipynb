{
  "nbformat": 4,
  "nbformat_minor": 0,
  "metadata": {
    "colab": {
      "provenance": [],
      "include_colab_link": true
    },
    "kernelspec": {
      "name": "python3",
      "display_name": "Python 3"
    },
    "language_info": {
      "name": "python"
    }
  },
  "cells": [
    {
      "cell_type": "markdown",
      "metadata": {
        "id": "view-in-github",
        "colab_type": "text"
      },
      "source": [
        "<a href=\"https://colab.research.google.com/github/Harshitha2011/FMML_IIITH_DEC23/blob/main/AIML_Module_4_Lab_3_Gradient_Descent.ipynb\" target=\"_parent\"><img src=\"https://colab.research.google.com/assets/colab-badge.svg\" alt=\"Open In Colab\"/></a>"
      ]
    },
    {
      "cell_type": "markdown",
      "source": [
        "# Module 4: Perceptron and Gradient Descent\n",
        "## Lab 3: Gradient Descent\n",
        "\n",
        "Gradient descent is a very important algorithm to understand, as it underpins many of the more advanced algorithms used in Machine Learning and Deep Learning.\n",
        "\n",
        "A brief overview of the algorithm is\n",
        "\n",
        "*   start with a random initialization of the solution.\n",
        "*   incrementally change the solution by moving in the direction of negative gradient of the objective function.\n",
        "*   repeat the previous step until some convergence criteria is met.\n",
        "\n",
        "The key equation for change in weight is:\n",
        "$$w^{k+1} \\leftarrow w^k - \\eta \\Delta J$$\n",
        "\n",
        "In this lab, we will discuss stochastic gradient descent, mini-batch gradient descent and batch gradient descent.\n"
      ],
      "metadata": {
        "id": "XYxxkQg6xCjD"
      }
    },
    {
      "cell_type": "code",
      "metadata": {
        "id": "Fr-MnaGs7JmZ"
      },
      "source": [
        "import numpy as np\n",
        "import matplotlib.pyplot as plt"
      ],
      "execution_count": 1,
      "outputs": []
    },
    {
      "cell_type": "code",
      "metadata": {
        "id": "7ob_zZms7VOu"
      },
      "source": [
        "np.random.seed(42)"
      ],
      "execution_count": 2,
      "outputs": []
    },
    {
      "cell_type": "markdown",
      "metadata": {
        "id": "v4Kix4bcChiy"
      },
      "source": [
        "# Creating the Data\n",
        "\n",
        "Let's generate some data with:\n",
        "\\begin{equation} y_0= 4 \\end{equation}\n",
        "\\begin{equation} y_1= 3 \\end{equation}\n",
        "\n",
        "and also add some noise to the data."
      ]
    },
    {
      "cell_type": "code",
      "metadata": {
        "id": "MtAS7eFZ9hX6"
      },
      "source": [
        "X = 2 * np.random.rand(100, 1)\n",
        "y = 4 + 3 * X + np.random.randn(100, 1)"
      ],
      "execution_count": 3,
      "outputs": []
    },
    {
      "cell_type": "markdown",
      "metadata": {
        "id": "zD95NaF-CxM-"
      },
      "source": [
        "Let's also plot the data we just created"
      ]
    },
    {
      "cell_type": "code",
      "metadata": {
        "colab": {
          "base_uri": "https://localhost:8080/",
          "height": 466
        },
        "id": "3IiEP4BQ7Wja",
        "outputId": "fba079fd-8d8e-41e2-fb51-ff19aeb14fb9"
      },
      "source": [
        "plt.plot(X, y, 'b.')\n",
        "plt.xlabel('x')\n",
        "plt.ylabel('y', rotation=0)"
      ],
      "execution_count": 4,
      "outputs": [
        {
          "output_type": "execute_result",
          "data": {
            "text/plain": [
              "Text(0, 0.5, 'y')"
            ]
          },
          "metadata": {},
          "execution_count": 4
        },
        {
          "output_type": "display_data",
          "data": {
            "text/plain": [
              "<Figure size 640x480 with 1 Axes>"
            ],
            "image/png": "[encoded data removed]"
          },
          "metadata": {}
        }
      ]
    },
    {
      "cell_type": "markdown",
      "metadata": {
        "id": "ScwxpouoDDyZ"
      },
      "source": [
        "## Cost Function\n",
        "\n",
        "The equation for calculating cost function is as shown below. The cost function is only for linear regression. For other algorithms, the cost function will be different and the gradients would have to be derived from the cost functions\n",
        "\n",
        "\\begin{equation}\n",
        "J(y_{pred}) = \\frac{1}{2} m \\sum_{i=1}^{m} (h(y_{pred})^{(i)} - y^{(i)})^2\n",
        "\\end{equation}"
      ]
    },
    {
      "cell_type": "code",
      "metadata": {
        "id": "PUeTUAXH7ZaV"
      },
      "source": [
        "def cal_cost(y_pred, X, y):\n",
        "    '''\n",
        "    Calculates the cost for given X and Y.\n",
        "    y_pred = Vector of y_preds\n",
        "    X = Row of X's np.zeros((2, j))\n",
        "    y = Actual y's np.zeros((2, 1))\n",
        "\n",
        "    where:\n",
        "        j is the no of features\n",
        "    '''\n",
        "\n",
        "    m = len(y)\n",
        "\n",
        "    predictions = X.dot(y_pred)\n",
        "    cost = (1 / 2 * m) * np.sum(np.square(predictions - y))\n",
        "\n",
        "    return cost"
      ],
      "execution_count": 5,
      "outputs": []
    },
    {
      "cell_type": "markdown",
      "metadata": {
        "id": "FcXqsVNpDbKC"
      },
      "source": [
        "## Gradients\n",
        "\n",
        "\\begin{equation}\n",
        "y_{pred_0}: = y_{pred_0} -\\alpha . (1/m .\\sum_{i=1}^{m}(h(y_{pred}^{(i)} - y^{(i)}).X_0^{(i)})\n",
        "\\end{equation}\n",
        "\\begin{equation}\n",
        "y_{pred_1}: = y_{pred_1} -\\alpha . (1/m .\\sum_{i=1}^{m}(h(y_{pred}^{(i)} - y^{(i)}).X_0^{(i)})\n",
        "\\end{equation}\n",
        ".\n",
        "\n",
        ".\n",
        "\n",
        ".\n",
        "\n",
        ".\n",
        "\n",
        "\\begin{equation}\n",
        "y_{pred_j}: = y_{pred_j} -\\alpha . (1/m .\\sum_{i=1}^{m}(h(y_{pred}^{(i)} - y^{(i)}).X_0^{(i)})\n",
        "\\end{equation}"
      ]
    },
    {
      "cell_type": "code",
      "metadata": {
        "id": "fwxBFXP88NBW"
      },
      "source": [
        "def gradient_descent(X, y, y_pred, learning_rate=0.01, iterations=100):\n",
        "    '''\n",
        "    X = Matrix of X with added bias units\n",
        "    y = Vector of Y\n",
        "    y_pred = Vector of y_preds np.random.randn(j, 1)\n",
        "    learning_rate\n",
        "    iterations = no of iterations\n",
        "\n",
        "    Returns the final y_pred vector and array of cost history over no of iterations\n",
        "    '''\n",
        "\n",
        "    m = len(y)\n",
        "    cost_history = np.zeros(iterations)\n",
        "    y_pred_history = np.zeros((iterations, 2))\n",
        "\n",
        "    for it in range(iterations):\n",
        "        prediction = np.dot(X, y_pred)\n",
        "        y_pred = y_pred - (1 / m) * learning_rate * (X.T.dot((prediction - y)))\n",
        "        y_pred_history[it,:] = y_pred.T\n",
        "        cost_history[it]  = cal_cost(y_pred, X, y)\n",
        "\n",
        "    return y_pred, cost_history, y_pred_history"
      ],
      "execution_count": 6,
      "outputs": []
    },
    {
      "cell_type": "markdown",
      "metadata": {
        "id": "1iSohSB2EtK1"
      },
      "source": [
        "Let's do 1000 iterations with a learning rate of 0.01.\n",
        "We will start with a random prediction."
      ]
    },
    {
      "cell_type": "code",
      "metadata": {
        "colab": {
          "base_uri": "https://localhost:8080/"
        },
        "id": "18AX7hrU8bv5",
        "outputId": "290a4381-c336-42be-c77e-fb67b2ae1a16"
      },
      "source": [
        "lr = 0.01\n",
        "n_iter = 1000\n",
        "\n",
        "y_pred = np.random.randn(2,1)\n",
        "X_b = np.c_[np.ones((len(X), 1)), X]\n",
        "y_pred, cost_history, y_pred_history = gradient_descent(X_b, y, y_pred, lr, n_iter)\n",
        "\n",
        "print('y_pred[0]: {:0.3f}\\ny_pred[1]: {:0.3f}'.format(y_pred[0][0], y_pred[1][0]))\n",
        "print('Final error: {:0.3f}'.format(cost_history[-1]))"
      ],
      "execution_count": 7,
      "outputs": [
        {
          "output_type": "stream",
          "name": "stdout",
          "text": [
            "y_pred[0]: 3.903\n",
            "y_pred[1]: 3.046\n",
            "Final error: 4180.375\n"
          ]
        }
      ]
    },
    {
      "cell_type": "markdown",
      "metadata": {
        "id": "m7fao2MaE216"
      },
      "source": [
        "Plotting the error vs Number of iterations"
      ]
    },
    {
      "cell_type": "code",
      "metadata": {
        "colab": {
          "base_uri": "https://localhost:8080/",
          "height": 713
        },
        "id": "DrkrAAbk8hIs",
        "outputId": "e427294b-b079-44fc-b54b-a2071e4f6d0b"
      },
      "source": [
        "fig, ax = plt.subplots(figsize=(12,8))\n",
        "\n",
        "ax.set_ylabel('Error')\n",
        "ax.set_xlabel('Number of iterations')\n",
        "\n",
        "ax.plot(range(n_iter), cost_history, 'b.')"
      ],
      "execution_count": 8,
      "outputs": [
        {
          "output_type": "execute_result",
          "data": {
            "text/plain": [
              "[<matplotlib.lines.Line2D at 0x7e92905d6740>]"
            ]
          },
          "metadata": {},
          "execution_count": 8
        },
        {
          "output_type": "display_data",
          "data": {
            "text/plain": [
              "<Figure size 1200x800 with 1 Axes>"
            ],
            "image/png": "[encoded data removed]"
          },
          "metadata": {}
        }
      ]
    },
    {
      "cell_type": "markdown",
      "metadata": {
        "id": "IG5tWAy-FCaW"
      },
      "source": [
        "Zooming in..."
      ]
    },
    {
      "cell_type": "code",
      "metadata": {
        "colab": {
          "base_uri": "https://localhost:8080/",
          "height": 693
        },
        "id": "WZ7BoFHy8kTk",
        "outputId": "c2bdc221-c3e0-41bd-9ac7-84bfda1ab2e3"
      },
      "source": [
        "fig,ax = plt.subplots(figsize=(10,8))\n",
        "ax.plot(range(200), cost_history[:200], 'b.')"
      ],
      "execution_count": 9,
      "outputs": [
        {
          "output_type": "execute_result",
          "data": {
            "text/plain": [
              "[<matplotlib.lines.Line2D at 0x7e9290169990>]"
            ]
          },
          "metadata": {},
          "execution_count": 9
        },
        {
          "output_type": "display_data",
          "data": {
            "text/plain": [
              "<Figure size 1000x800 with 1 Axes>"
            ],
            "image/png": "[encoded data removed]"
          },
          "metadata": {}
        }
      ]
    },
    {
      "cell_type": "markdown",
      "metadata": {
        "id": "JYhOp3fjnh2G"
      },
      "source": [
        "# Stochastic Gradient Descent"
      ]
    },
    {
      "cell_type": "markdown",
      "source": [
        "In Batch Gradient Descent we were considering all the examples for every step of Gradient Descent. But what if our dataset is very huge. Deep learning models crave for data. The more the data the more chances of a model to be good. Suppose our dataset has 5 million examples, then just to take one step the model will have to calculate the gradients of all the 5 million examples. This does not seem an efficient way. To tackle this problem we have Stochastic Gradient Descent. In Stochastic Gradient Descent (SGD), we consider just one example at a time to take a single step."
      ],
      "metadata": {
        "id": "10N2dcwWUctJ"
      }
    },
    {
      "cell_type": "code",
      "metadata": {
        "id": "aVwD7Cqw8m1d"
      },
      "source": [
        "def stocashtic_gradient_descent(X, y, y_pred, learning_rate=0.01, iterations=10):\n",
        "    '''\n",
        "    X = Matrix of X with added bias units\n",
        "    y = Vector of Y\n",
        "    y_pred = Vector of y_pred np.random.randn(j,1)\n",
        "    learning_rate\n",
        "    iterations = no of iterations\n",
        "\n",
        "    Returns the final y_pred vector and array of cost history over no of iterations\n",
        "    '''\n",
        "\n",
        "    m = len(y)\n",
        "    cost_history = np.zeros(iterations)\n",
        "\n",
        "    for it in range(iterations):\n",
        "        cost = 0.0\n",
        "\n",
        "        for i in range(m):\n",
        "            rand_ind = np.random.randint(0,m)\n",
        "            X_i = X[rand_ind, :].reshape(1, X.shape[1])\n",
        "            y_i = y[rand_ind].reshape(1,1)\n",
        "            prediction = np.dot(X_i, y_pred)\n",
        "\n",
        "            y_pred = y_pred - (1 / m) * learning_rate *(X_i.T.dot((prediction - y_i)))\n",
        "            cost += cal_cost(y_pred, X_i, y_i)\n",
        "\n",
        "        cost_history[it]  = cost\n",
        "\n",
        "    return y_pred, cost_history"
      ],
      "execution_count": 10,
      "outputs": []
    },
    {
      "cell_type": "code",
      "metadata": {
        "colab": {
          "base_uri": "https://localhost:8080/"
        },
        "id": "Yk6pfB5c8tPz",
        "outputId": "8e4d5f87-a64c-4b85-e5ae-86b41e7ab12d"
      },
      "source": [
        "lr = 0.5\n",
        "n_iter = 50\n",
        "y_pred = np.random.randn(2, 1)\n",
        "X_b = np.c_[np.ones((len(X), 1)), X]\n",
        "y_pred, cost_history = stocashtic_gradient_descent(X_b, y, y_pred, lr, n_iter)\n",
        "\n",
        "print('y_pred[0]: {:0.3f}\\ny_pred[1]: {:0.3f}'.format(y_pred[0][0], y_pred[1][0]))\n",
        "print('Final error: {:0.3f}'.format(cost_history[-1]))"
      ],
      "execution_count": 11,
      "outputs": [
        {
          "output_type": "stream",
          "name": "stdout",
          "text": [
            "y_pred[0]: 4.121\n",
            "y_pred[1]: 2.755\n",
            "Final error: 41.313\n"
          ]
        }
      ]
    },
    {
      "cell_type": "code",
      "metadata": {
        "colab": {
          "base_uri": "https://localhost:8080/",
          "height": 713
        },
        "id": "YiJUgS7o8u2e",
        "outputId": "9ef7e9a4-5865-4205-db16-ee71943b48a4"
      },
      "source": [
        "fig, ax = plt.subplots(figsize=(10,8))\n",
        "\n",
        "ax.set_ylabel('Error')\n",
        "ax.set_xlabel('Number of iterations')\n",
        "y_pred = np.random.randn(2,1)\n",
        "\n",
        "ax.plot(range(n_iter), cost_history, 'b.')"
      ],
      "execution_count": 12,
      "outputs": [
        {
          "output_type": "execute_result",
          "data": {
            "text/plain": [
              "[<matplotlib.lines.Line2D at 0x7e92901f67a0>]"
            ]
          },
          "metadata": {},
          "execution_count": 12
        },
        {
          "output_type": "display_data",
          "data": {
            "text/plain": [
              "<Figure size 1000x800 with 1 Axes>"
            ],
            "image/png": "[encoded data removed]"
          },
          "metadata": {}
        }
      ]
    },
    {
      "cell_type": "markdown",
      "metadata": {
        "id": "ScckWktynk1o"
      },
      "source": [
        "# Mini Batch Gradient Descent"
      ]
    },
    {
      "cell_type": "markdown",
      "source": [
        "We have seen the Batch Gradient Descent. We have also seen the Stochastic Gradient Descent. Batch Gradient Descent can be used for smoother curves. SGD can be used when the dataset is large. Batch Gradient Descent converges directly to minima. SGD converges faster for larger datasets. But, since in SGD we use only one example at a time, we cannot implement the vectorized implementation on it. This can slow down the computations. To tackle this problem, a mixture of Batch Gradient Descent and SGD is used.\n",
        "Neither we use all the dataset all at once nor we use the single example at a time. We use a batch of a fixed number of training examples which is less than the actual dataset and call it a mini-batch. Doing this helps us achieve the advantages of both the former variants we saw."
      ],
      "metadata": {
        "id": "ZTVz-QssUkuE"
      }
    },
    {
      "cell_type": "code",
      "metadata": {
        "id": "4JtxFVL78wEm"
      },
      "source": [
        "def minibatch_gradient_descent(X, y, y_pred, learning_rate=0.01, iterations=10, batch_size=20):\n",
        "    '''\n",
        "    X = Matrix of X without added bias units\n",
        "    y = Vector of Y\n",
        "    y_pred = Vector of y_preds np.random.randn(j, 1)\n",
        "    learning_rate\n",
        "    iterations = no of iterations\n",
        "\n",
        "    Returns the final theta vector and array of cost history over no of iterations\n",
        "    '''\n",
        "\n",
        "    m = len(y)\n",
        "    cost_history = np.zeros(iterations)\n",
        "    n_batches = int(m / batch_size)\n",
        "\n",
        "    for it in range(iterations):\n",
        "        cost = 0.0\n",
        "        indices = np.random.permutation(m)\n",
        "        X = X[indices]\n",
        "        y = y[indices]\n",
        "\n",
        "        for i in range(0, m, batch_size):\n",
        "            X_i = X[i: i + batch_size]\n",
        "            y_i = y[i: i + batch_size]\n",
        "\n",
        "            X_i = np.c_[np.ones(len(X_i)), X_i]\n",
        "            prediction = np.dot(X_i, y_pred)\n",
        "\n",
        "            y_pred = y_pred - (1 / m) * learning_rate * (X_i.T.dot((prediction - y_i)))\n",
        "            cost += cal_cost(y_pred, X_i, y_i)\n",
        "\n",
        "        cost_history[it]  = cost\n",
        "\n",
        "    return y_pred, cost_history"
      ],
      "execution_count": 13,
      "outputs": []
    },
    {
      "cell_type": "code",
      "metadata": {
        "colab": {
          "base_uri": "https://localhost:8080/"
        },
        "id": "SpbsVwA28znL",
        "outputId": "3ff1ba18-3e85-4974-94c3-cd9b2e3d2c33"
      },
      "source": [
        "lr = 0.1\n",
        "n_iter = 200\n",
        "y_pred = np.random.randn(2,1)\n",
        "y_pred, cost_history = minibatch_gradient_descent(X, y, y_pred, lr, n_iter)\n",
        "\n",
        "print('y_pred[0]: {:0.3f}\\ny_pred[1]: {:0.3f}'.format(y_pred[0][0], y_pred[1][0]))\n",
        "print('Final error: {:0.3f}'.format(cost_history[-1]))"
      ],
      "execution_count": 14,
      "outputs": [
        {
          "output_type": "stream",
          "name": "stdout",
          "text": [
            "y_pred[0]: 4.148\n",
            "y_pred[1]: 2.827\n",
            "Final error: 807.488\n"
          ]
        }
      ]
    },
    {
      "cell_type": "code",
      "metadata": {
        "colab": {
          "base_uri": "https://localhost:8080/",
          "height": 713
        },
        "id": "Q_ivOYHT817C",
        "outputId": "20e6d52f-d062-4ca1-b764-fefaeee03653"
      },
      "source": [
        "fig, ax = plt.subplots(figsize=(10,8))\n",
        "\n",
        "ax.set_ylabel('Error')\n",
        "ax.set_xlabel('Number of iterations')\n",
        "y_pred = np.random.randn(2,1)\n",
        "\n",
        "ax.plot(range(n_iter), cost_history, 'b.')"
      ],
      "execution_count": 15,
      "outputs": [
        {
          "output_type": "execute_result",
          "data": {
            "text/plain": [
              "[<matplotlib.lines.Line2D at 0x7e929006ba60>]"
            ]
          },
          "metadata": {},
          "execution_count": 15
        },
        {
          "output_type": "display_data",
          "data": {
            "text/plain": [
              "<Figure size 1000x800 with 1 Axes>"
            ],
            "image/png": "[encoded data removed]"
          },
          "metadata": {}
        }
      ]
    },
    {
      "cell_type": "code",
      "metadata": {
        "id": "3Sn1erIU83ck"
      },
      "source": [],
      "execution_count": 15,
      "outputs": []
    },
    {
      "cell_type": "markdown",
      "source": [
        "Things to try out:\n",
        "\n",
        "1. Change batch size in mini-batch gradient descent.\n",
        "2. Test all the three out on real datasets.\n",
        "3. Compare the effects of changing learning rate by the same amount in Batch GD, SGD and Mini-batch GD."
      ],
      "metadata": {
        "id": "0neTARjKUoP4"
      }
    },
    {
      "cell_type": "markdown",
      "source": [
        "ANSWER 1>>>\n"
      ],
      "metadata": {
        "id": "36RurAdExf_J"
      }
    },
    {
      "cell_type": "code",
      "source": [
        "def minibatch_gradient_descent(X, y, y_pred, learning_rate, iterations, batch_size):\n",
        "    '''\n",
        "    X = Matrix of X without added bias units\n",
        "    y = Vector of Y\n",
        "    y_pred = Vector of y_preds np.random.randn(j, 1)\n",
        "    learning_rate\n",
        "    iterations = no of iterations\n",
        "\n",
        "    Returns the final theta vector and array of cost history over no of iterations\n",
        "    '''\n",
        "\n",
        "    m = len(y)\n",
        "    cost_history = np.zeros(iterations)\n",
        "    n_batches = int(m / batch_size)\n",
        "\n",
        "    for it in range(iterations):\n",
        "        cost = 0.0\n",
        "        indices = np.random.permutation(m)\n",
        "        X = X[indices]\n",
        "        y = y[indices]\n",
        "\n",
        "        for i in range(0, m, batch_size):\n",
        "            X_i = X[i: i + batch_size]\n",
        "            y_i = y[i: i + batch_size]\n",
        "\n",
        "            X_i = np.c_[np.ones(len(X_i)), X_i]\n",
        "            prediction = np.dot(X_i, y_pred)\n",
        "\n",
        "            y_pred = y_pred - (1 / m) * learning_rate * (X_i.T.dot((prediction - y_i)))\n",
        "            cost += cal_cost(y_pred, X_i, y_i)\n",
        "\n",
        "        cost_history[it]  = cost\n",
        "\n",
        "    return y_pred, cost_history\n",
        "\n",
        "lr = 0.1\n",
        "n_iter = 200\n",
        "y_pred = np.random.randn(2,1)\n",
        "batch_size1=[10,30,40,50,5,100,150]\n",
        "cost_history1=[]\n",
        "\n",
        "for bt_size in batch_size1:\n",
        "  y_pred, cost_history = minibatch_gradient_descent(X, y, y_pred, lr, n_iter , bt_size)\n",
        "  cost_history1.append(cost_history)\n",
        "  print(f\"For Batch size:{bt_size}\")\n",
        "  print('y_pred[0]: {:0.3f}\\ny_pred[1]: {:0.3f}'.format(y_pred[0][0], y_pred[1][0]))\n",
        "  print('Final error: {:0.3f}\\n'.format(cost_history[-1]))"
      ],
      "metadata": {
        "colab": {
          "base_uri": "https://localhost:8080/"
        },
        "id": "IF8_n0RVnZzq",
        "outputId": "56fddb4d-631a-41eb-b569-5175c601abe8"
      },
      "execution_count": 19,
      "outputs": [
        {
          "output_type": "stream",
          "name": "stdout",
          "text": [
            "For Batch size:10\n",
            "y_pred[0]: 4.165\n",
            "y_pred[1]: 2.814\n",
            "Final error: 402.794\n",
            "\n",
            "For Batch size:30\n",
            "y_pred[0]: 4.213\n",
            "y_pred[1]: 2.771\n",
            "Final error: 1116.147\n",
            "\n",
            "For Batch size:40\n",
            "y_pred[0]: 4.216\n",
            "y_pred[1]: 2.771\n",
            "Final error: 1411.741\n",
            "\n",
            "For Batch size:50\n",
            "y_pred[0]: 4.215\n",
            "y_pred[1]: 2.771\n",
            "Final error: 2015.415\n",
            "\n",
            "For Batch size:5\n",
            "y_pred[0]: 4.216\n",
            "y_pred[1]: 2.771\n",
            "Final error: 201.187\n",
            "\n",
            "For Batch size:100\n",
            "y_pred[0]: 4.215\n",
            "y_pred[1]: 2.770\n",
            "Final error: 4032.923\n",
            "\n",
            "For Batch size:150\n",
            "y_pred[0]: 4.215\n",
            "y_pred[1]: 2.770\n",
            "Final error: 4032.923\n",
            "\n"
          ]
        }
      ]
    },
    {
      "cell_type": "code",
      "source": [
        "fig, ax = plt.subplots(figsize=(10,8))\n",
        "\n",
        "ax.set_ylabel('Error')\n",
        "ax.set_xlabel('Number of iterations')\n",
        "y_pred = np.random.randn(2,1)\n",
        "\n",
        "for bt_size, cost_history in zip(batch_size1 , cost_history1):\n",
        "  ax.plot(range(n_iter), cost_history, label=str(bt_size))\n",
        "\n",
        "\n",
        "plt.legend()\n",
        "plt.show()"
      ],
      "metadata": {
        "colab": {
          "base_uri": "https://localhost:8080/",
          "height": 696
        },
        "id": "YptyTWEFn5M3",
        "outputId": "ce6b4348-906c-4e4f-d444-8c0029a17a12"
      },
      "execution_count": 24,
      "outputs": [
        {
          "output_type": "display_data",
          "data": {
            "text/plain": [
              "<Figure size 1000x800 with 1 Axes>"
            ],
            "image/png": "[encoded data removed]"
          },
          "metadata": {}
        }
      ]
    },
    {
      "cell_type": "markdown",
      "source": [
        "ANSWER 2>>.\n"
      ],
      "metadata": {
        "id": "2_RVwZj_xcTU"
      }
    },
    {
      "cell_type": "code",
      "source": [
        "from google.colab import files\n",
        "uploaded = files.upload()"
      ],
      "metadata": {
        "colab": {
          "base_uri": "https://localhost:8080/",
          "height": 73
        },
        "id": "H_J-SJVMozzE",
        "outputId": "7fe5ec77-903c-419d-e376-1a2c424aec71"
      },
      "execution_count": 25,
      "outputs": [
        {
          "output_type": "display_data",
          "data": {
            "text/plain": [
              "<IPython.core.display.HTML object>"
            ],
            "text/html": [
              "\n",
              "     <input type=\"file\" id=\"files-bedac266-ab63-4eb6-ad7d-95c64346527d\" name=\"files[]\" multiple disabled\n",
              "        style=\"border:none\" />\n",
              "     <output id=\"result-bedac266-ab63-4eb6-ad7d-95c64346527d\">\n",
              "      Upload widget is only available when the cell has been executed in the\n",
              "      current browser session. Please rerun this cell to enable.\n",
              "      </output>\n",
              "      <script>// Copyright 2017 Google LLC\n",
              "//\n",
              "// Licensed under the Apache License, Version 2.0 (the \"License\");\n",
              "// you may not use this file except in compliance with the License.\n",
              "// You may obtain a copy of the License at\n",
              "//\n",
              "//      http://www.apache.org/licenses/LICENSE-2.0\n",
              "//\n",
              "// Unless required by applicable law or agreed to in writing, software\n",
              "// distributed under the License is distributed on an \"AS IS\" BASIS,\n",
              "// WITHOUT WARRANTIES OR CONDITIONS OF ANY KIND, either express or implied.\n",
              "// See the License for the specific language governing permissions and\n",
              "// limitations under the License.\n",
              "\n",
              "/**\n",
              " * @fileoverview Helpers for google.colab Python module.\n",
              " */\n",
              "(function(scope) {\n",
              "function span(text, styleAttributes = {}) {\n",
              "  const element = document.createElement('span');\n",
              "  element.textContent = text;\n",
              "  for (const key of Object.keys(styleAttributes)) {\n",
              "    element.style[key] = styleAttributes[key];\n",
              "  }\n",
              "  return element;\n",
              "}\n",
              "\n",
              "// Max number of bytes which will be uploaded at a time.\n",
              "const MAX_PAYLOAD_SIZE = 100 * 1024;\n",
              "\n",
              "function _uploadFiles(inputId, outputId) {\n",
              "  const steps = uploadFilesStep(inputId, outputId);\n",
              "  const outputElement = document.getElementById(outputId);\n",
              "  // Cache steps on the outputElement to make it available for the next call\n",
              "  // to uploadFilesContinue from Python.\n",
              "  outputElement.steps = steps;\n",
              "\n",
              "  return _uploadFilesContinue(outputId);\n",
              "}\n",
              "\n",
              "// This is roughly an async generator (not supported in the browser yet),\n",
              "// where there are multiple asynchronous steps and the Python side is going\n",
              "// to poll for completion of each step.\n",
              "// This uses a Promise to block the python side on completion of each step,\n",
              "// then passes the result of the previous step as the input to the next step.\n",
              "function _uploadFilesContinue(outputId) {\n",
              "  const outputElement = document.getElementById(outputId);\n",
              "  const steps = outputElement.steps;\n",
              "\n",
              "  const next = steps.next(outputElement.lastPromiseValue);\n",
              "  return Promise.resolve(next.value.promise).then((value) => {\n",
              "    // Cache the last promise value to make it available to the next\n",
              "    // step of the generator.\n",
              "    outputElement.lastPromiseValue = value;\n",
              "    return next.value.response;\n",
              "  });\n",
              "}\n",
              "\n",
              "/**\n",
              " * Generator function which is called between each async step of the upload\n",
              " * process.\n",
              " * @param {string} inputId Element ID of the input file picker element.\n",
              " * @param {string} outputId Element ID of the output display.\n",
              " * @return {!Iterable<!Object>} Iterable of next steps.\n",
              " */\n",
              "function* uploadFilesStep(inputId, outputId) {\n",
              "  const inputElement = document.getElementById(inputId);\n",
              "  inputElement.disabled = false;\n",
              "\n",
              "  const outputElement = document.getElementById(outputId);\n",
              "  outputElement.innerHTML = '';\n",
              "\n",
              "  const pickedPromise = new Promise((resolve) => {\n",
              "    inputElement.addEventListener('change', (e) => {\n",
              "      resolve(e.target.files);\n",
              "    });\n",
              "  });\n",
              "\n",
              "  const cancel = document.createElement('button');\n",
              "  inputElement.parentElement.appendChild(cancel);\n",
              "  cancel.textContent = 'Cancel upload';\n",
              "  const cancelPromise = new Promise((resolve) => {\n",
              "    cancel.onclick = () => {\n",
              "      resolve(null);\n",
              "    };\n",
              "  });\n",
              "\n",
              "  // Wait for the user to pick the files.\n",
              "  const files = yield {\n",
              "    promise: Promise.race([pickedPromise, cancelPromise]),\n",
              "    response: {\n",
              "      action: 'starting',\n",
              "    }\n",
              "  };\n",
              "\n",
              "  cancel.remove();\n",
              "\n",
              "  // Disable the input element since further picks are not allowed.\n",
              "  inputElement.disabled = true;\n",
              "\n",
              "  if (!files) {\n",
              "    return {\n",
              "      response: {\n",
              "        action: 'complete',\n",
              "      }\n",
              "    };\n",
              "  }\n",
              "\n",
              "  for (const file of files) {\n",
              "    const li = document.createElement('li');\n",
              "    li.append(span(file.name, {fontWeight: 'bold'}));\n",
              "    li.append(span(\n",
              "        `(${file.type || 'n/a'}) - ${file.size} bytes, ` +\n",
              "        `last modified: ${\n",
              "            file.lastModifiedDate ? file.lastModifiedDate.toLocaleDateString() :\n",
              "                                    'n/a'} - `));\n",
              "    const percent = span('0% done');\n",
              "    li.appendChild(percent);\n",
              "\n",
              "    outputElement.appendChild(li);\n",
              "\n",
              "    const fileDataPromise = new Promise((resolve) => {\n",
              "      const reader = new FileReader();\n",
              "      reader.onload = (e) => {\n",
              "        resolve(e.target.result);\n",
              "      };\n",
              "      reader.readAsArrayBuffer(file);\n",
              "    });\n",
              "    // Wait for the data to be ready.\n",
              "    let fileData = yield {\n",
              "      promise: fileDataPromise,\n",
              "      response: {\n",
              "        action: 'continue',\n",
              "      }\n",
              "    };\n",
              "\n",
              "    // Use a chunked sending to avoid message size limits. See b/62115660.\n",
              "    let position = 0;\n",
              "    do {\n",
              "      const length = Math.min(fileData.byteLength - position, MAX_PAYLOAD_SIZE);\n",
              "      const chunk = new Uint8Array(fileData, position, length);\n",
              "      position += length;\n",
              "\n",
              "      const base64 = btoa(String.fromCharCode.apply(null, chunk));\n",
              "      yield {\n",
              "        response: {\n",
              "          action: 'append',\n",
              "          file: file.name,\n",
              "          data: base64,\n",
              "        },\n",
              "      };\n",
              "\n",
              "      let percentDone = fileData.byteLength === 0 ?\n",
              "          100 :\n",
              "          Math.round((position / fileData.byteLength) * 100);\n",
              "      percent.textContent = `${percentDone}% done`;\n",
              "\n",
              "    } while (position < fileData.byteLength);\n",
              "  }\n",
              "\n",
              "  // All done.\n",
              "  yield {\n",
              "    response: {\n",
              "      action: 'complete',\n",
              "    }\n",
              "  };\n",
              "}\n",
              "\n",
              "scope.google = scope.google || {};\n",
              "scope.google.colab = scope.google.colab || {};\n",
              "scope.google.colab._files = {\n",
              "  _uploadFiles,\n",
              "  _uploadFilesContinue,\n",
              "};\n",
              "})(self);\n",
              "</script> "
            ]
          },
          "metadata": {}
        },
        {
          "output_type": "stream",
          "name": "stdout",
          "text": [
            "Saving Salary_Data.csv to Salary_Data.csv\n"
          ]
        }
      ]
    },
    {
      "cell_type": "code",
      "source": [
        "import numpy as np\n",
        "import pandas as pd\n",
        "import matplotlib.pyplot as plt"
      ],
      "metadata": {
        "id": "CrdvxQ6crJ0g"
      },
      "execution_count": 26,
      "outputs": []
    },
    {
      "cell_type": "code",
      "source": [
        "df = pd.read_csv(\"Salary_Data.csv\")"
      ],
      "metadata": {
        "id": "5CGpemQHq_BA"
      },
      "execution_count": 27,
      "outputs": []
    },
    {
      "cell_type": "code",
      "source": [
        "df.head()\n",
        "df.describe()"
      ],
      "metadata": {
        "colab": {
          "base_uri": "https://localhost:8080/",
          "height": 774
        },
        "id": "v7OA1v_hrYMn",
        "outputId": "9998cbc7-4069-43ce-d45a-1f41fc2d9587"
      },
      "execution_count": 45,
      "outputs": [
        {
          "output_type": "execute_result",
          "data": {
            "text/plain": [
              "       YearsExperience         Salary\n",
              "count        30.000000      30.000000\n",
              "mean          5.313333   76003.000000\n",
              "std           2.837888   27414.429785\n",
              "min           1.100000   37731.000000\n",
              "25%           3.200000   56720.750000\n",
              "50%           4.700000   65237.000000\n",
              "75%           7.700000  100544.750000\n",
              "max          10.500000  122391.000000"
            ],
            "text/html": [
              "\n",
              "  <div id=\"df-a7cc7ef5-4080-4db0-a2ed-b0b767a75626\" class=\"colab-df-container\">\n",
              "    <div>\n",
              "<style scoped>\n",
              "    .dataframe tbody tr th:only-of-type {\n",
              "        vertical-align: middle;\n",
              "    }\n",
              "\n",
              "    .dataframe tbody tr th {\n",
              "        vertical-align: top;\n",
              "    }\n",
              "\n",
              "    .dataframe thead th {\n",
              "        text-align: right;\n",
              "    }\n",
              "</style>\n",
              "<table border=\"1\" class=\"dataframe\">\n",
              "  <thead>\n",
              "    <tr style=\"text-align: right;\">\n",
              "      <th></th>\n",
              "      <th>YearsExperience</th>\n",
              "      <th>Salary</th>\n",
              "    </tr>\n",
              "  </thead>\n",
              "  <tbody>\n",
              "    <tr>\n",
              "      <th>count</th>\n",
              "      <td>30.000000</td>\n",
              "      <td>30.000000</td>\n",
              "    </tr>\n",
              "    <tr>\n",
              "      <th>mean</th>\n",
              "      <td>5.313333</td>\n",
              "      <td>76003.000000</td>\n",
              "    </tr>\n",
              "    <tr>\n",
              "      <th>std</th>\n",
              "      <td>2.837888</td>\n",
              "      <td>27414.429785</td>\n",
              "    </tr>\n",
              "    <tr>\n",
              "      <th>min</th>\n",
              "      <td>1.100000</td>\n",
              "      <td>37731.000000</td>\n",
              "    </tr>\n",
              "    <tr>\n",
              "      <th>25%</th>\n",
              "      <td>3.200000</td>\n",
              "      <td>56720.750000</td>\n",
              "    </tr>\n",
              "    <tr>\n",
              "      <th>50%</th>\n",
              "      <td>4.700000</td>\n",
              "      <td>65237.000000</td>\n",
              "    </tr>\n",
              "    <tr>\n",
              "      <th>75%</th>\n",
              "      <td>7.700000</td>\n",
              "      <td>100544.750000</td>\n",
              "    </tr>\n",
              "    <tr>\n",
              "      <th>max</th>\n",
              "      <td>10.500000</td>\n",
              "      <td>122391.000000</td>\n",
              "    </tr>\n",
              "  </tbody>\n",
              "</table>\n",
              "</div>\n",
              "    <div class=\"colab-df-buttons\">\n",
              "\n",
              "  <div class=\"colab-df-container\">\n",
              "    <button class=\"colab-df-convert\" onclick=\"convertToInteractive('df-a7cc7ef5-4080-4db0-a2ed-b0b767a75626')\"\n",
              "            title=\"Convert this dataframe to an interactive table.\"\n",
              "            style=\"display:none;\">\n",
              "\n",
              "  <svg xmlns=\"http://www.w3.org/2000/svg\" height=\"24px\" viewBox=\"0 -960 960 960\">\n",
              "    <path d=\"M120-120v-720h720v720H120Zm60-500h600v-160H180v160Zm220 220h160v-160H400v160Zm0 220h160v-160H400v160ZM180-400h160v-160H180v160Zm440 0h160v-160H620v160ZM180-180h160v-160H180v160Zm440 0h160v-160H620v160Z\"/>\n",
              "  </svg>\n",
              "    </button>\n",
              "\n",
              "  <style>\n",
              "    .colab-df-container {\n",
              "      display:flex;\n",
              "      gap: 12px;\n",
              "    }\n",
              "\n",
              "    .colab-df-convert {\n",
              "      background-color: #E8F0FE;\n",
              "      border: none;\n",
              "      border-radius: 50%;\n",
              "      cursor: pointer;\n",
              "      display: none;\n",
              "      fill: #1967D2;\n",
              "      height: 32px;\n",
              "      padding: 0 0 0 0;\n",
              "      width: 32px;\n",
              "    }\n",
              "\n",
              "    .colab-df-convert:hover {\n",
              "      background-color: #E2EBFA;\n",
              "      box-shadow: 0px 1px 2px rgba(60, 64, 67, 0.3), 0px 1px 3px 1px rgba(60, 64, 67, 0.15);\n",
              "      fill: #174EA6;\n",
              "    }\n",
              "\n",
              "    .colab-df-buttons div {\n",
              "      margin-bottom: 4px;\n",
              "    }\n",
              "\n",
              "    [theme=dark] .colab-df-convert {\n",
              "      background-color: #3B4455;\n",
              "      fill: #D2E3FC;\n",
              "    }\n",
              "\n",
              "    [theme=dark] .colab-df-convert:hover {\n",
              "      background-color: #434B5C;\n",
              "      box-shadow: 0px 1px 3px 1px rgba(0, 0, 0, 0.15);\n",
              "      filter: drop-shadow(0px 1px 2px rgba(0, 0, 0, 0.3));\n",
              "      fill: #FFFFFF;\n",
              "    }\n",
              "  </style>\n",
              "\n",
              "    <script>\n",
              "      const buttonEl =\n",
              "        document.querySelector('#df-a7cc7ef5-4080-4db0-a2ed-b0b767a75626 button.colab-df-convert');\n",
              "      buttonEl.style.display =\n",
              "        google.colab.kernel.accessAllowed ? 'block' : 'none';\n",
              "\n",
              "      async function convertToInteractive(key) {\n",
              "        const element = document.querySelector('#df-a7cc7ef5-4080-4db0-a2ed-b0b767a75626');\n",
              "        const dataTable =\n",
              "          await google.colab.kernel.invokeFunction('convertToInteractive',\n",
              "                                                    [key], {});\n",
              "        if (!dataTable) return;\n",
              "\n",
              "        const docLinkHtml = 'Like what you see? Visit the ' +\n",
              "          '<a target=\"_blank\" href=https://colab.research.google.com/notebooks/data_table.ipynb>data table notebook</a>'\n",
              "          + ' to learn more about interactive tables.';\n",
              "        element.innerHTML = '';\n",
              "        dataTable['output_type'] = 'display_data';\n",
              "        await google.colab.output.renderOutput(dataTable, element);\n",
              "        const docLink = document.createElement('div');\n",
              "        docLink.innerHTML = docLinkHtml;\n",
              "        element.appendChild(docLink);\n",
              "      }\n",
              "    </script>\n",
              "  </div>\n",
              "\n",
              "\n",
              "<div id=\"df-11796197-136f-4260-ab1b-ff3e731ca8e0\">\n",
              "  <button class=\"colab-df-quickchart\" onclick=\"quickchart('df-11796197-136f-4260-ab1b-ff3e731ca8e0')\"\n",
              "            title=\"Suggest charts\"\n",
              "            style=\"display:none;\">\n",
              "\n",
              "<svg xmlns=\"http://www.w3.org/2000/svg\" height=\"24px\"viewBox=\"0 0 24 24\"\n",
              "     width=\"24px\">\n",
              "    <g>\n",
              "        <path d=\"M19 3H5c-1.1 0-2 .9-2 2v14c0 1.1.9 2 2 2h14c1.1 0 2-.9 2-2V5c0-1.1-.9-2-2-2zM9 17H7v-7h2v7zm4 0h-2V7h2v10zm4 0h-2v-4h2v4z\"/>\n",
              "    </g>\n",
              "</svg>\n",
              "  </button>\n",
              "\n",
              "<style>\n",
              "  .colab-df-quickchart {\n",
              "      --bg-color: #E8F0FE;\n",
              "      --fill-color: #1967D2;\n",
              "      --hover-bg-color: #E2EBFA;\n",
              "      --hover-fill-color: #174EA6;\n",
              "      --disabled-fill-color: #AAA;\n",
              "      --disabled-bg-color: #DDD;\n",
              "  }\n",
              "\n",
              "  [theme=dark] .colab-df-quickchart {\n",
              "      --bg-color: #3B4455;\n",
              "      --fill-color: #D2E3FC;\n",
              "      --hover-bg-color: #434B5C;\n",
              "      --hover-fill-color: #FFFFFF;\n",
              "      --disabled-bg-color: #3B4455;\n",
              "      --disabled-fill-color: #666;\n",
              "  }\n",
              "\n",
              "  .colab-df-quickchart {\n",
              "    background-color: var(--bg-color);\n",
              "    border: none;\n",
              "    border-radius: 50%;\n",
              "    cursor: pointer;\n",
              "    display: none;\n",
              "    fill: var(--fill-color);\n",
              "    height: 32px;\n",
              "    padding: 0;\n",
              "    width: 32px;\n",
              "  }\n",
              "\n",
              "  .colab-df-quickchart:hover {\n",
              "    background-color: var(--hover-bg-color);\n",
              "    box-shadow: 0 1px 2px rgba(60, 64, 67, 0.3), 0 1px 3px 1px rgba(60, 64, 67, 0.15);\n",
              "    fill: var(--button-hover-fill-color);\n",
              "  }\n",
              "\n",
              "  .colab-df-quickchart-complete:disabled,\n",
              "  .colab-df-quickchart-complete:disabled:hover {\n",
              "    background-color: var(--disabled-bg-color);\n",
              "    fill: var(--disabled-fill-color);\n",
              "    box-shadow: none;\n",
              "  }\n",
              "\n",
              "  .colab-df-spinner {\n",
              "    border: 2px solid var(--fill-color);\n",
              "    border-color: transparent;\n",
              "    border-bottom-color: var(--fill-color);\n",
              "    animation:\n",
              "      spin 1s steps(1) infinite;\n",
              "  }\n",
              "\n",
              "  @keyframes spin {\n",
              "    0% {\n",
              "      border-color: transparent;\n",
              "      border-bottom-color: var(--fill-color);\n",
              "      border-left-color: var(--fill-color);\n",
              "    }\n",
              "    20% {\n",
              "      border-color: transparent;\n",
              "      border-left-color: var(--fill-color);\n",
              "      border-top-color: var(--fill-color);\n",
              "    }\n",
              "    30% {\n",
              "      border-color: transparent;\n",
              "      border-left-color: var(--fill-color);\n",
              "      border-top-color: var(--fill-color);\n",
              "      border-right-color: var(--fill-color);\n",
              "    }\n",
              "    40% {\n",
              "      border-color: transparent;\n",
              "      border-right-color: var(--fill-color);\n",
              "      border-top-color: var(--fill-color);\n",
              "    }\n",
              "    60% {\n",
              "      border-color: transparent;\n",
              "      border-right-color: var(--fill-color);\n",
              "    }\n",
              "    80% {\n",
              "      border-color: transparent;\n",
              "      border-right-color: var(--fill-color);\n",
              "      border-bottom-color: var(--fill-color);\n",
              "    }\n",
              "    90% {\n",
              "      border-color: transparent;\n",
              "      border-bottom-color: var(--fill-color);\n",
              "    }\n",
              "  }\n",
              "</style>\n",
              "\n",
              "  <script>\n",
              "    async function quickchart(key) {\n",
              "      const quickchartButtonEl =\n",
              "        document.querySelector('#' + key + ' button');\n",
              "      quickchartButtonEl.disabled = true;  // To prevent multiple clicks.\n",
              "      quickchartButtonEl.classList.add('colab-df-spinner');\n",
              "      try {\n",
              "        const charts = await google.colab.kernel.invokeFunction(\n",
              "            'suggestCharts', [key], {});\n",
              "      } catch (error) {\n",
              "        console.error('Error during call to suggestCharts:', error);\n",
              "      }\n",
              "      quickchartButtonEl.classList.remove('colab-df-spinner');\n",
              "      quickchartButtonEl.classList.add('colab-df-quickchart-complete');\n",
              "    }\n",
              "    (() => {\n",
              "      let quickchartButtonEl =\n",
              "        document.querySelector('#df-11796197-136f-4260-ab1b-ff3e731ca8e0 button');\n",
              "      quickchartButtonEl.style.display =\n",
              "        google.colab.kernel.accessAllowed ? 'block' : 'none';\n",
              "    })();\n",
              "  </script>\n",
              "</div>\n",
              "\n",
              "    </div>\n",
              "  </div>\n"
            ]
          },
          "metadata": {},
          "execution_count": 45
        },
        {
          "output_type": "display_data",
          "data": {
            "text/plain": [
              "<google.colab._quickchart_helpers.SectionTitle at 0x7e9260dcd450>"
            ],
            "text/html": [
              "<h4 class=\"colab-quickchart-section-title\">Distributions</h4>\n",
              "<style>\n",
              "  .colab-quickchart-section-title {\n",
              "      clear: both;\n",
              "  }\n",
              "</style>"
            ]
          },
          "metadata": {}
        },
        {
          "output_type": "display_data",
          "data": {
            "text/plain": [
              "from matplotlib import pyplot as plt\n",
              "_df_0['YearsExperience'].plot(kind='hist', bins=20, title='YearsExperience')\n",
              "plt.gca().spines[['top', 'right',]].set_visible(False)"
            ],
            "text/html": [
              "      <div class=\"colab-quickchart-chart-with-code\" id=\"chart-630170e7-0e3e-41a0-9220-5b0bcf9c42e2\">\n",
              "        <img style=\"width: 180px;\" src=\"data:image/png;base64,iVBORw0KGgoAAAANSUhEUgAAAjEAAAGrCAYAAAAxesZMAAAAOXRFWHRTb2Z0d2FyZQBNYXRwbG90\n",
              "bGliIHZlcnNpb24zLjcuMSwgaHR0cHM6Ly9tYXRwbG90bGliLm9yZy/bCgiHAAAACXBIWXMAAA9h\n",
              "AAAPYQGoP6dpAAAqpElEQVR4nO3de3CU9b3H8c+S4HJpEiAQEgxJhJCggLloUg5YLm05IiLQoKNY\n",
              "lFtCsHWwEzsgg6ggNvQMYGktBxAOHuUMiBB7Io62grdwpFzEoEK5BAhJKBClmIQQYrL5nT847nEl\n",
              "Cdk0y+Zn3q+ZZ4Z9nmef/e7TNfPu7pOswxhjBAAAYJl2/h4AAACgOYgYAABgJSIGAABYiYgBAABW\n",
              "ImIAAICViBgAAGAlIgYAAFiJiAEAAFYiYgAAgJWIGAD4P3fddZeeffZZf48BoIkcfO0A8P1mjNHY\n",
              "sWPVrl07vfHGGx7bfvazn6mqqkpvvfWWHA7HdZnnpZde0vTp09WpUyeP9SNHjrxqPgBoTKC/BwDg\n",
              "Ww6HQy+99JISEhL0wgsv6NFHH5UkrVq1Sn/961914MCBFg2YmpoatW/fvtF9evXqpZKSkhZ7zH/W\n",
              "119/rRtuuMHfYwDwEh8nAW1Ajx49tGHDBs2dO1efffaZ/va3v+nXv/61Xn75Ze3bt08//OEP1bVr\n",
              "V/Xr10+///3v3fe7fPmy7rvvPt14440KCgpSfHy8/vjHP3ocOyYmRk8//bRGjx6toKAgLVu2TEVF\n",
              "RRozZoy6deumkJAQDRw4UHl5eU2a9f3331fnzp21d+9eSVfeSbr77rt1zz33yBijwsJCORwOvfji\n",
              "i7rlllsUHBysn/zkJzp+/Lj7GC6XS8uWLdPNN9+skJAQ3XbbbdqxY4d7+0svvaTIyEj98Y9/VExM\n",
              "jEJDQyVJI0aM0JNPPune7/Tp03rwwQd14403KiwsTJMmTdIXX3zh3j5ixAg99thjevDBBxUSEqLe\n",
              "vXvr3//93z2ez65du/TjH/9Y3bt3V7du3TRy5EhVVVVJkr766is98sgjio6OVmhoqMaMGaMTJ040\n",
              "6TwBkGQAtBnz5883AwYMMImJieaJJ54w7777rgkJCTHbt283LpfLfPbZZyYyMtJs2LDBGGPMpUuX\n",
              "zH/8x3+YCxcuGJfLZbZt22ZuuOEG8/bbb7uPGR0dbXr27Gk++ugjU1dXZyorK82DDz5o0tPTTVVV\n",
              "lXG5XObw4cPmxIkTxhhj1q9fb2688cZG5/y3f/s3ExUVZb788kuzcOFC06dPH3PhwgVjjDEnT540\n",
              "kkxKSoopKioylZWVZsaMGebmm282NTU1xhhjnn76aZOQkGAOHz5sXC6XycnJMZ06dTIFBQXuGQIC\n",
              "AkxGRoapqKgwlZWVxhhjhg8fbubPn2+MMeby5csmPj7ePP744+bixYumoqLCTJ482fz0pz91zzl8\n",
              "+HATHBxsduzYYVwul9myZYtp166dOXbsmDHGmM8//9x06NDBvPDCC6aystJUV1eb9957z1y+fNnU\n",
              "1dWZESNGmAcffNCcP3/eXL582cyZM8fcfPPN5uuvv/5n/6cG2gQiBmhDampqzG233WYSExNNTU2N\n",
              "ueeee8wTTzzhsc/ixYvNT37ykwaPMW7cOJOVleW+HR0dfdUxpk6dasaOHWs+//xzU1dX57Ft/fr1\n",
              "xuFwmJCQEI/lmWee8dhv4sSJJiEhwXTu3Nl88skn7vXfRExubq57XXl5uQkICDAffvihMcaY4OBg\n",
              "j9Ayxpif/vSn5tlnn3XPEBAQ4I6Xb3w7YrZu3Wp69erlMX9JSYmRZIqLi937T5s2zeMY3bt3N5s2\n",
              "bTLGGPPLX/7S3H333fWdRvPxxx+b9u3bm4qKCve62tpa06FDB5OXl1fvfQB44poYoA0JDAzUwIED\n",
              "VVtbq8DAQB07dkzbt2/3+AjE5XIpKipKklRdXa358+crNzdX586dk8Ph0KVLl3T//fd7HPemm27y\n",
              "uL106VItXrxYaWlpunDhgu6++24tWbJEPXv2lNS0a2KysrI0dOhQTZo0SYmJiVdt//ZjBgUFqXv3\n",
              "7iouLta5c+dUXl6u++67T+3a/f8n5jU1NYqNjXXfDgsLu+ri4m87duyYzp07p65du3qsdzqdKioq\n",
              "UmRkpPu5fFvnzp1VUVEhSTp58qT69+/f4PFra2vdx/m24uLiBucC8P+IGKANCw8P16RJk/TUU0/V\n",
              "u3358uV644039MYbb6hfv35q166dxo8fL/OdX2r8dixIUmhoqJ5//nk9//zzOn36tCZPnqysrCz9\n",
              "13/9V5PmKisr05QpUzRjxgxt3rxZb7zxhu655x6PfQoLCzVw4EBJ0sWLF/Xll18qMjJSXbp0UYcO\n",
              "HbRt2zYNGzaswcf47szfFR4erujoaI9rbbwVExOjo0ePNnj8G264QV988cU1L4QGUD8u7AXasMce\n",
              "e0x/+MMftGPHDtXW1qq2tlaff/65PvzwQ0lXYsLpdKpHjx6qq6vTa6+9pr/85S/XPO6mTZt0/Phx\n",
              "1dXVKSgoSE6nU4GBTfv/TMYYTZkyRfHx8XrxxRe1evVqPfzww1dd8Lp48WKVlJTo0qVLevzxxxUb\n",
              "G6shQ4bI6XRq1qxZmjNnjv72t7/JGKOqqip9+OGHDQZFfdLS0lRTU6MFCxaorKxMklRaWqpXX321\n",
              "ycd45JFH9M4772jVqlWqqqpSTU2NPvjgA1VXV+uOO+7QwIED9cgjj6i0tFSSdOHCBW3dulWXLl1q\n",
              "8mMAbRkRA7RhEyZM0CuvvKKnnnpKYWFhCgsLU3p6ur788ktJ0q9//Wv17t1b0dHR6tWrl3bs2KEJ\n",
              "EyZc87gHDhzQj3/8YwUFBalv377q0qWLli5d6t7+97//XT/4wQ88loSEBEnSb3/7W3366ad65ZVX\n",
              "5HA4NGnSJE2ePFkTJ050/1aPJM2YMUOjRo1Sz549dfToUb3xxhvuUFq6dKkmTZqk++67T126dFFM\n",
              "TIyys7NVU1PT5HMTFBSkXbt2qaioSIMGDVJwcLCGDBniDrymGDhwoLZv366NGzeqV69e6tmzpxYt\n",
              "WqS6ujoFBATonXfeUadOnfTDH/5QQUFBSkhI0Ouvv37d/mYPYDv+2B0AqxQWFuqmm27SsWPHPK5x\n",
              "AdD28E4MAACwEhEDAACsxMdJAADASrwTAwAArETEAAAAKxExAADASkQMAACw0vc+YlasWOHvEQAA\n",
              "gA987yPm1KlT/h4BAAD4wPc+YgAAwPcTEQMAAKxExAAAACsRMQAAwEpEDAAAsBIRAwAArETEAAAA\n",
              "KxExAADASkQMAACwEhEDAACsRMQAAAArETEAAMBKPouYy5cva8KECYqLi1NCQoJGjRqlgoKCevfd\n",
              "tm2b+vfvr379+iktLU3l5eVN2gYAANoun74TM3PmTB05ckQHDhzQ+PHjlZ6eftU+Fy9e1IwZM/Sn\n",
              "P/1Jx44dU69evfTss89ecxsAAGjbfBYxHTp00JgxY+RwOCRJgwcPVmFh4VX7vfXWW0pKSlL//v0l\n",
              "Sb/4xS+0cePGa26rT3V1tcrLyz0Wl8vVws8MAAC0BoHX64FWrFih8ePHX7W+qKhI0dHR7tsxMTE6\n",
              "c+aMamtrG90WGHj16NnZ2Vq4cKHHusGDB7fgs7g+Yp54098jeK1wyd3+HgEA0MZclwt7f/Ob36ig\n",
              "oEDZ2dk+fZx58+aprKzMY0lNTfXpYwIAAP/wecQsXbpUOTk5euutt9SpU6ertkdFRenUqVPu24WF\n",
              "hYqIiFBgYGCj2+rjdDoVHBzssQQEBLT8kwIAAH7n04hZvny5Nm7cqHfeeUddunSpd5/Ro0dr//79\n",
              "Onz4sCRp5cqVeuCBB665DQAAtG0+uyampKREjz/+uPr06aORI0dKuvJOye7du/XUU0+pV69emjVr\n",
              "loKCgrR27VpNmDBBtbW1GjhwoP7zP/9TkhrdBgAA2jaHMcb4ewhfysrK0vLly/09hle4sBcAgGvj\n",
              "L/YCAAArETEAAMBKRAwAALASEQMAAKxExAAAACsRMQAAwEpEDAAAsBIRAwAArETEAAAAKxExAADA\n",
              "SkQMAACwEhEDAACsRMQAAAArETEAAMBKRAwAALASEQMAAKxExAAAACsRMQAAwEpEDAAAsBIRAwAA\n",
              "rETEAAAAKxExAADASkQMAACwEhEDAACsRMQAAAArETEAAMBKRAwAALASEQMAAKxExAAAACsRMQAA\n",
              "wEpEDAAAsBIRAwAArETEAAAAKxExAADASkQMAACwkk8jZvbs2YqJiZHD4VB+fn69+6xfv16JiYnu\n",
              "pXv37kpLS5MkFRYWKiAgwGP78ePHfTkyAACwRKAvD37vvfdqzpw5uuOOOxrcZ9q0aZo2bZr79sCB\n",
              "A/Xzn//cfTsoKKjBAAIAAG2XTyNm2LBhXu2/e/dulZaWaty4cc16vOrqalVXV3usc7lczToWAABo\n",
              "3VrVNTHr1q3TQw89pPbt27vXVVZWKiUlRcnJyVq0aFGjUZKdna2QkBCPZc+ePddjdAAAcJ21moip\n",
              "rKzUpk2bNGPGDPe6iIgInT59Wnv37tX27duVl5enZcuWNXiMefPmqayszGNJTU29HuMDAIDrrNVE\n",
              "zGuvvaYBAwbolltuca9zOp0KCwuTJHXr1k3Tp09XXl5eg8dwOp0KDg72WAICAnw+OwAAuP5aTcSs\n",
              "W7fO410YSSotLVVNTY2kK9e75OTkKCkpyR/jAQCAVsanEZOZmanIyEiVlJTozjvvVGxsrCQpPT1d\n",
              "ubm57v2OHDmi/Px83X///R7337lzp5KSkpSQkKDk5GSFh4dr/vz5vhwZAABYwmGMMf4ewpeysrK0\n",
              "fPlyf4/hlZgn3vT3CF4rXHK3v0cAALQxrebjJAAAAG8QMQAAwEpEDAAAsBIRAwAArETEAAAAKxEx\n",
              "AADASkQMAACwEhEDAACsRMQAAAArETEAAMBKRAwAALASEQMAAKxExAAAACsRMQAAwEpEDAAAsBIR\n",
              "AwAArETEAAAAKxExAADASkQMAACwEhEDAACsRMQAAAArETEAAMBKRAwAALASEQMAAKxExAAAACsR\n",
              "MQAAwEpEDAAAsBIRAwAArETEAAAAKxExAADASkQMAACwEhEDAACsRMQAAAArETEAAMBKRAwAALCS\n",
              "TyNm9uzZiomJkcPhUH5+fr37vP/+++rYsaMSExPdS1VVlXv7unXr1K9fP/Xt21cZGRmqqanx5cgA\n",
              "AMASPo2Ye++9Vzt37lR0dHSj+8XHxys/P9+9dOzYUZJ08uRJLViwQHl5eSooKNC5c+e0Zs0aX44M\n",
              "AAAs4dOIGTZsmCIjI5t9/y1btmjcuHEKDw+Xw+HQrFmztHHjxgb3r66uVnl5ucficrma/fgAAKD1\n",
              "ahXXxBw/flzJyclKSUnRypUr3euLioo83sWJiYlRUVFRg8fJzs5WSEiIx7Jnzx6fzg4AAPzD7xGT\n",
              "nJyskpIS7d+/X6+//rpWrVqlzZs3N+tY8+bNU1lZmceSmprawhMDAIDWwO8RExwcrJCQEElSZGSk\n",
              "Jk2apLy8PElSVFSUTp065d63sLBQUVFRDR7L6XQqODjYYwkICPDtEwAAAH7h94g5c+aM6urqJEkV\n",
              "FRXatm2bkpKSJEkTJ05Ubm6uzp49K2OMVq1apQceeMCf4wIAgFbCpxGTmZmpyMhIlZSU6M4771Rs\n",
              "bKwkKT09Xbm5uZKkrVu3atCgQUpISNDgwYM1atQoTZs2TZLUp08fLVy4UEOHDlVsbKx69OihzMxM\n",
              "X44MAAAs4TDGGH8P4UtZWVlavny5v8fwSswTb/p7BK8VLrnb3yMAANoYv3+cBAAA0BxEDAAAsBIR\n",
              "AwAArETEAAAAKxExAADASkQMAACwEhEDAACsRMQAAAArETEAAMBKRAwAALASEQMAAKxExAAAACsR\n",
              "MQAAwEpEDAAAsBIRAwAArETEAAAAKxExAADASkQMAACwEhEDAACsRMQAAAArETEAAMBKRAwAALAS\n",
              "EQMAAKxExAAAACsRMQAAwEpEDAAAsBIRAwAArETEAAAAKxExAADASkQMAACwEhEDAACsRMQAAAAr\n",
              "ETEAAMBKRAwAALASEQMAAKzk04iZPXu2YmJi5HA4lJ+fX+8+7777rlJTU3XLLbdowIABmjNnjurq\n",
              "6iRJhYWFCggIUGJions5fvy4L0cGAACW8GnE3Hvvvdq5c6eio6Mb3Kdr167atGmTDh06pI8//lgf\n",
              "ffSRXn75Zff2oKAg5efnu5e+ffv6cmQAAGCJQF8efNiwYdfcJykpyf3vDh06KDExUYWFhc16vOrq\n",
              "alVXV3usc7lczToWAABo3VrVNTFnz57Vli1bNHbsWPe6yspKpaSkKDk5WYsWLWo0SrKzsxUSEuKx\n",
              "7Nmz53qMDgAArrNWEzHl5eW65557NGfOHN1+++2SpIiICJ0+fVp79+7V9u3blZeXp2XLljV4jHnz\n",
              "5qmsrMxjSU1NvV5PAQAAXEetImIqKio0evRojR8/XllZWe71TqdTYWFhkqRu3bpp+vTpysvLa/A4\n",
              "TqdTwcHBHktAQIDP5wcAANef3yPm4sWLGj16tEaPHq0nn3zSY1tpaalqamokXbneJScnx+MaGgAA\n",
              "0Hb5NGIyMzMVGRmpkpIS3XnnnYqNjZUkpaenKzc3V5K0YsUK7dmzRzk5Oe5fo37uueckSTt37lRS\n",
              "UpISEhKUnJys8PBwzZ8/35cjAwAASziMMcbfQ/hSVlaWli9f7u8xvBLzxJv+HsFrhUvu9vcIAIA2\n",
              "xu8fJwEAADQHEQMAAKxExAAAACsRMQAAwEpeR8yf//xnX8wBAADgFa8jZtGiRYqPj9eKFStUXl7u\n",
              "i5kAAACuyeuI+Z//+R9t2rRJn3/+ueLi4vSLX/xChw4d8sVsAAAADWrWNTFJSUl68cUX9fbbb2vb\n",
              "tm269dZbNWrUKH322WctPR8AAEC9mhUx27dv1/jx45WWlqZf/vKXOnv2rDIzM/Wzn/2specDAACo\n",
              "V6C3d7j55pvVvXt3zZ49W2lpae4vWLz33nu1bt26Fh8QAACgPl5HzIYNG3TbbbfVu+2tt976pwcC\n",
              "AABoCq8/Tvr444/1j3/8w337/PnzevHFF1t0KAAAgGvxOmJWrlypbt26uW+HhoZq5cqVLToUAADA\n",
              "tXgdMfV96bXL5WqRYQAAAJrK64iJiIjQ5s2b3bdfffVVRUREtOhQAAAA1+L1hb2/+93vNH78eM2Z\n",
              "M0eS1KlTJ/33f/93iw8GAADQGK8jpn///jp06JCOHDkiSYqPj3f/mjUAAMD14nXESJLD4VCXLl1U\n",
              "W1ur06dPS5KioqJadDAAAIDGeB0xL730kmbPnq327durXbsrl9Q4HA6Vlpa2+HAAAAAN8Tpinn32\n",
              "We3du1fx8fG+mAcAAKBJvP7tpO7duxMwAADA77yOmAkTJuh3v/udSktLVV5e7l4AAACuJ68/Tpo/\n",
              "f74kKSsrSw6HQ8YYORwO/uAdAAC4rryOmLq6Ol/MAQAA4BWvP06SrnwJ5CuvvCJJ+uqrr3TmzJkW\n",
              "HQoAAOBamvUFkNOnT9czzzwj6cq3WD/44IMtPRcAAECjvI6YNWvW6K9//auCg4MlSX379tUXX3zR\n",
              "4oMBAAA0xuuIcTqd6tixo8e6wMBm/eFfAACAZvM6Ynr06KGjR4/K4XBIuvIXfPnKAQAAcL0161us\n",
              "J02apMOHD6t3794KDg7Wtm3bfDEbAABAg7yOmNjYWO3evVtHjhyRMYZvsQYAAH7hdcQUFRVJkjp3\n",
              "7ixJfIs1AADwC68j5rbbbnP/pd7Lly/r0qVLCg0N5VusAQDAdeV1xHz316lzcnJ04MCBFhsIAACg\n",
              "KZr1F3u/LS0tTW+++WZLzAIAANBkXkfMt7+5+sKFC3r77bcb/Bbr2bNnKyYmRg6HQ/n5+Q0ec926\n",
              "derXr5/69u2rjIwM1dTUNGkbAABou7yOmC5duqhr167q0qWLwsLClJWVpd///vf17nvvvfdq586d\n",
              "io6ObvB4J0+e1IIFC5SXl6eCggKdO3dOa9asueY2AADQtnkdMXV1dXK5XKqrq1NNTY0OHTqk0aNH\n",
              "17vvsGHDFBkZ2ejxtmzZonHjxik8PFwOh0OzZs3Sxo0br7mtPtXV1R7vFJWXl8vlcnn7FAEAgAX8\n",
              "/n0BRUVFHu/UxMTEuH+Nu7Ft9cnOztbChQs91g0ePLiFJ/6/WZ7gOqDrxVfnunDJ3T45rmTnzAC+\n",
              "v76vP5O8fiemXbt2CggIuGr5Zr0/zZs3T2VlZR5LamqqX2cCAAC+4fU7MYsWLVJVVZUeeeQRSdKq\n",
              "VavUsWNH/epXv2rWAFFRUTp+/Lj7dmFhofsP5zW2rT5Op1NOp9Njnb/DCgAA+IbX78S8/vrreu65\n",
              "5xQZGanIyEgtXrxYOTk56ty5s/uv+Hpj4sSJys3N1dmzZ2WM0apVq/TAAw9ccxsAAGjbvI6YiooK\n",
              "j7/OW1paqoqKinr3zczMVGRkpEpKSnTnnXcqNjZWkpSenq7c3FxJUp8+fbRw4UINHTpUsbGx6tGj\n",
              "hzIzM6+5DQAAtG1ef5z0+OOPKyEhQWPGjJEkvf3223rmmWfq3Xf16tX1rl+7dq3H7YyMDGVkZNS7\n",
              "b2PbAABA2+V1xGRmZmro0KF67733JElZWVkaMGBAiw8GAADQmGb9inVoaKgGDRqkESNGqLa2Vl9/\n",
              "/bVuuOGGlp4NAACgQV5fE7NlyxYNHjxY06ZNkyQdPHhQEyZMaOm5AAAAGuV1xGRnZ2v//v3q0qWL\n",
              "JCkhIUGnTp1q6bkAAAAa5XXEBAQEKDQ01GMdHyUBAIDrzeuICQoK0rlz5+RwOCRJO3bsULdu3Vp8\n",
              "MAAAgMZ4fWHvb3/7W9111106ceKE7rjjDp08eVJvvsn3CAEAgOvLq4j55hus33vvPX300UcyxmjI\n",
              "kCHu62MAAACuF68ipl27dpo5c6YOHDigu+66y1czAQAAXJPX18T069dPBQUFvpgFAACgyby+JuYf\n",
              "//iHEhMTNWTIEP3gBz9wr8/JyWnRwQAAABrT5IiZOXOm1qxZoylTpmjcuHHq2rWrL+cCAABoVJMj\n",
              "Zt++fZKkKVOmKDk5Wfv37/fZUAAAANfi9TUxkmSMaek5AAAAvNLkd2Kqqqr02WefyRijy5cvu//9\n",
              "jVtvvdUnAwIAANTHq4gZN26c+/a3/+1wOHTixImWnQwAAKARTY6YwsJCH44BAADgnWZdEwMAAOBv\n",
              "RAwAALASEQMAAKxExAAAACsRMQAAwEpEDAAAsBIRAwAArETEAAAAKxExAADASkQMAACwEhEDAACs\n",
              "RMQAAAArETEAAMBKRAwAALASEQMAAKxExAAAACsRMQAAwEpEDAAAsJJPI+bYsWMaMmSI4uLilJKS\n",
              "ooMHD161z/r165WYmOheunfvrrS0NElSYWGhAgICPLYfP37clyMDAABLBPry4JmZmZo5c6amTp2q\n",
              "LVu2aOrUqdq7d6/HPtOmTdO0adPctwcOHKif//zn7ttBQUHKz8/35ZgAAMBCPnsnprS0VPv27dPk\n",
              "yZMlSRMnTlRxcbEKCgoavM/u3btVWlqqcePGNesxq6urVV5e7rG4XK5mHQsAALRuPouY4uJiRURE\n",
              "KDDwyps9DodDUVFRKioqavA+69at00MPPaT27du711VWViolJUXJyclatGhRo1GSnZ2tkJAQj2XP\n",
              "nj0t96QAAECr0Wou7K2srNSmTZs0Y8YM97qIiAidPn1ae/fu1fbt25WXl6dly5Y1eIx58+aprKzM\n",
              "Y0lNTb0e4wMAgOvMZxHTu3dvnTlzRrW1tZIkY4yKiooUFRVV7/6vvfaaBgwYoFtuucW9zul0Kiws\n",
              "TJLUrVs3TZ8+XXl5eQ0+ptPpVHBwsMcSEBDQgs8KAAC0Fj6LmLCwMCUnJ2vDhg2SpK1btyoyMlKx\n",
              "sbH17r9u3TqPd2GkK9fV1NTUSLpyvUtOTo6SkpJ8NTIAALCITz9OWr16tVavXq24uDgtWbJE69ev\n",
              "lySlp6crNzfXvd+RI0eUn5+v+++/3+P+O3fuVFJSkhISEpScnKzw8HDNnz/flyMDAABL+PRXrOPj\n",
              "47Vr166r1q9du/aq/SoqKq7aLy0tzf03YwAAAL6t1VzYCwAA4A0iBgAAWImIAQAAViJiAACAlYgY\n",
              "AABgJSIGAABYiYgBAABWImIAAICViBgAAGAlIgYAAFiJiAEAAFYiYgAAgJWIGAAAYCUiBgAAWImI\n",
              "AQAAViJiAACAlYgYAABgJSIGAABYiYgBAABWImIAAICViBgAAGAlIgYAAFiJiAEAAFYiYgAAgJWI\n",
              "GAAAYCUiBgAAWImIAQAAViJiAACAlYgYAABgJSIGAABYiYgBAABWImIAAICViBgAAGAlIgYAAFiJ\n",
              "iAEAAFbyacQcO3ZMQ4YMUVxcnFJSUnTw4MGr9nn//ffVsWNHJSYmupeqqir39nXr1qlfv37q27ev\n",
              "MjIyVFNT48uRAQCAJXwaMZmZmZo5c6aOHj2quXPnaurUqfXuFx8fr/z8fPfSsWNHSdLJkye1YMEC\n",
              "5eXlqaCgQOfOndOaNWt8OTIAALCEzyKmtLRU+/bt0+TJkyVJEydOVHFxsQoKCpp8jC1btmjcuHEK\n",
              "Dw+Xw+HQrFmztHHjxgb3r66uVnl5ucficrn+6ecCAABaH59FTHFxsSIiIhQYGChJcjgcioqKUlFR\n",
              "0VX7Hj9+XMnJyUpJSdHKlSvd64uKihQdHe2+HRMTU+/9v5Gdna2QkBCPZc+ePS34rAAAQGvh9wt7\n",
              "k5OTVVJSov379+v111/XqlWrtHnz5mYda968eSorK/NYUlNTW3hiAADQGvgsYnr37q0zZ86otrZW\n",
              "kmSMUVFRkaKiojz2Cw4OVkhIiCQpMjJSkyZNUl5eniQpKipKp06dcu9bWFh41f2/zel0Kjg42GMJ\n",
              "CAho6acGAABaAZ9FTFhYmJKTk7VhwwZJ0tatWxUZGanY2FiP/c6cOaO6ujpJUkVFhbZt26akpCRJ\n",
              "V66jyc3N1dmzZ2WM0apVq/TAAw/4amQAAGARn36ctHr1aq1evVpxcXFasmSJ1q9fL0lKT09Xbm6u\n",
              "pCtxM2jQICUkJGjw4MEaNWqUpk2bJknq06ePFi5cqKFDhyo2NlY9evRQZmamL0cGAACWCPTlwePj\n",
              "47Vr166r1q9du9b970cffVSPPvpog8fIyMhQRkaGT+YDAAD28vuFvQAAAM1BxAAAACsRMQAAwEpE\n",
              "DAAAsBIRAwAArETEAAAAKxExAADASkQMAACwEhEDAACsRMQAAAArETEAAMBKRAwAALASEQMAAKxE\n",
              "xAAAACsRMQAAwEpEDAAAsBIRAwAArETEAAAAKxExAADASkQMAACwEhEDAACsRMQAAAArETEAAMBK\n",
              "RAwAALASEQMAAKxExAAAACsRMQAAwEpEDAAAsBIRAwAArETEAAAAKxExAADASkQMAACwEhEDAACs\n",
              "RMQAAAArETEAAMBKPo2YY8eOaciQIYqLi1NKSooOHjx41T7vvvuuUlNTdcstt2jAgAGaM2eO6urq\n",
              "JEmFhYUKCAhQYmKiezl+/LgvRwYAAJbwacRkZmZq5syZOnr0qObOnaupU6detU/Xrl21adMmHTp0\n",
              "SB9//LE++ugjvfzyy+7tQUFBys/Pdy99+/b15cgAAMASPouY0tJS7du3T5MnT5YkTZw4UcXFxSoo\n",
              "KPDYLykpSX369JEkdejQQYmJiSosLGzWY1ZXV6u8vNxjcblc/9TzAAAArZPPIqa4uFgREREKDAyU\n",
              "JDkcDkVFRamoqKjB+5w9e1ZbtmzR2LFj3esqKyuVkpKi5ORkLVq0qNEoyc7OVkhIiMeyZ8+elntS\n",
              "AACg1Wg1F/aWl5frnnvu0Zw5c3T77bdLkiIiInT69Gnt3btX27dvV15enpYtW9bgMebNm6eysjKP\n",
              "JTU19Xo9BQAAcB35LGJ69+6tM2fOqLa2VpJkjFFRUZGioqKu2reiokKjR4/W+PHjlZWV5V7vdDoV\n",
              "FhYmSerWrZumT5+uvLy8Bh/T6XQqODjYYwkICGjhZwYAAFoDn0VMWFiYkpOTtWHDBknS1q1bFRkZ\n",
              "qdjYWI/9Ll68qNGjR2v06NF68sknPbaVlpaqpqZG0pXrXXJycpSUlOSrkQEAgEV8+nHS6tWrtXr1\n",
              "asXFxWnJkiVav369JCk9PV25ubmSpBUrVmjPnj3Kyclx/xr1c889J0nauXOnkpKSlJCQoOTkZIWH\n",
              "h2v+/Pm+HBkAAFgi0JcHj4+P165du65av3btWve/58+f32CYpKWlKS0tzWfzAQAAe7WaC3sBAAC8\n",
              "QcQAAAArETEAAMBKRAwAALASEQMAAKxExAAAACsRMQAAwEpEDAAAsBIRAwAArETEAAAAKxExAADA\n",
              "SkQMAACwEhEDAACsRMQAAAArETEAAMBKRAwAALASEQMAAKxExAAAACsRMQAAwEpEDAAAsBIRAwAA\n",
              "rETEAAAAKxExAADASkQMAACwEhEDAACsRMQAAAArETEAAMBKRAwAALASEQMAAKxExAAAACsRMQAA\n",
              "wEpEDAAAsBIRAwAArETEAAAAKxExAADASj6NmGPHjmnIkCGKi4tTSkqKDh48WO9+69atU79+/dS3\n",
              "b19lZGSopqamSdsAAEDb5dOIyczM1MyZM3X06FHNnTtXU6dOvWqfkydPasGCBcrLy1NBQYHOnTun\n",
              "NWvWXHMbAABo23wWMaWlpdq3b58mT54sSZo4caKKi4tVUFDgsd+WLVs0btw4hYeHy+FwaNasWdq4\n",
              "ceM1t9Wnurpa5eXlHovL5fLVUwQAAH4U6KsDFxcXKyIiQoGBVx7C4XAoKipKRUVFio2Nde9XVFSk\n",
              "6Oho9+2YmBgVFRVdc1t9srOztXDhQo91/fv3V1ZWlvu2y+XSnj17lJqaqoCAgGY/v7Rm39NO1zpv\n",
              "WVk7fPbYvjrX12Pmlnq9fcOXM7cmLX3e2grOW/O0hfPmi5+jLpdL//Ivi3123qKjo/XYY481uo/P\n",
              "IsYf5s2b5xEskuR0OuV0Ot23y8vLFRISoj//+c8KDg6+3iNai/PWPJy35uG8NQ/nrXk4b83TGs6b\n",
              "zyKmd+/eOnPmjGpraxUYGChjjIqKihQVFeWxX1RUlI4fP+6+XVhY6N6nsW31+W6wAACA7y+fXRMT\n",
              "Fham5ORkbdiwQZK0detWRUZGenyUJF25ViY3N1dnz56VMUarVq3SAw88cM1tAACgbfPpbyetXr1a\n",
              "q1evVlxcnJYsWaL169dLktLT05WbmytJ6tOnjxYuXKihQ4cqNjZWPXr0UGZm5jW3AQCAts2n18TE\n",
              "x8dr165dV61fu3atx+2MjAxlZGTUe4zGtjWH0+nU008/zcdOXuK8NQ/nrXk4b83DeWsezlvztIbz\n",
              "5jDGGL89OgAAQDPxtQMAAMBKRAwAALASEQMAAKxExAAAACu1qYhp6rdq42oxMTGKj49XYmKiEhMT\n",
              "9eqrr/p7pFZn9uzZiomJkcPhUH5+vns9r7vGNXTeeM017vLly5owYYLi4uKUkJCgUaNGub+brrS0\n",
              "VKNHj1a/fv00cOBAffjhh36etvVo7LyNGDFCN910k/s19/zzz/t52tblX//1X3XrrbcqMTFRP/rR\n",
              "j/TJJ59I8vPPONOGjBw50qxfv94YY8xrr71mbr/9dv8OZJHo6GjzySef+HuMVu2DDz4wxcXFV50r\n",
              "XneNa+i88ZprXFVVlXnzzTdNXV2dMcaYP/zhD2b48OHGGGOmTZtmnn76aWOMMXv27DE33nij+frr\n",
              "r/00aevS2HkbPny4ef311/03XCt34cIF979zcnLMrbfeaozx78+4NvNOTFO/VRtormHDhikyMtJj\n",
              "Ha+7a6vvvOHaOnTooDFjxsjhcEiSBg8erMLCQknS5s2bNWvWLElSSkqKevXqpQ8++MBfo7YqjZ03\n",
              "NK5Lly7uf5eVlcnhcPj9Z1ybiZjGvlUbTfPwww9r0KBBmjFjhr744gt/j2MFXnf/HF5zTbdixQqN\n",
              "Hz9e58+fV01NjcLDw93bYmJieM014Jvz9o0nnnhCgwYN0v33368TJ074cbLW6eGHH1bv3r21YMEC\n",
              "vfLKK37/GddmIgb/nA8//FCffvqp9u/fr+7du2vKlCn+Hgnfc7zmmu43v/mNCgoKlJ2d7e9RrPLd\n",
              "8/bKK6/o8OHD+vTTT/WjH/1IY8eO9fOErc/LL7+s4uJiLV68WHPnzvX3OG0nYr79rdqSGvxWbdTv\n",
              "m/PUvn17/epXv1JeXp6fJ7IDr7vm4zXXNEuXLlVOTo7eeustderUSaGhoQoMDNTZs2fd+xQWFvKa\n",
              "+47vnjfpyn+v0pV3Ex599FGdOHFC58+f9+eYrdaUKVP03nvvKTIy0q8/49pMxDT1W7VxtcrKSn31\n",
              "1Vfu2xs3blRSUpL/BrIIr7vm4TXXNMuXL9fGjRv1zjvveFyvcN9992nVqlWSpL179+r06dMaPny4\n",
              "n6Zsfeo7b7W1tTp37px7n61bt6pnz54KDQ3105Sty1dffaW///3v7tt/+tOfFBoa6vefcW3qu5OO\n",
              "HDmiqVOn6vz58woODtb69es1aNAgf4/V6p04cUITJ06Uy+WSMUZ9+vTRihUrFBMT4+/RWpXMzEy9\n",
              "+eabOnv2rEJDQxUUFKSCggJed9dQ33n7y1/+wmvuGkpKStS7d2/16dNHQUFBkq58Id/u3bt17tw5\n",
              "PfTQQzp58qRuuOEGvfDCCxo5cqSfJ24dGjpv7777roYPH67q6mq1a9dO3bt31/Lly5WQkODniVuH\n",
              "U6dO6b777lNVVZXatWunHj16aOnSpUpMTPTrz7g2FTEAAOD7o818nAQAAL5fiBgAAGAlIgYAAFiJ\n",
              "iAEAAFYiYgAAgJWIGAAAYCUiBgAAWImIAQAAViJiAACAlYgYAABgpf8FPcmHR5/Yb1oAAAAASUVO\n",
              "RK5CYII=\n",
              "\">\n",
              "      </div>\n",
              "      <script type=\"text/javascript\">\n",
              "        (() => {\n",
              "          const chartElement = document.getElementById(\"chart-630170e7-0e3e-41a0-9220-5b0bcf9c42e2\");\n",
              "          async function getCodeForChartHandler(event) {\n",
              "            const chartCodeResponse =  await google.colab.kernel.invokeFunction(\n",
              "                'getCodeForChart', [\"chart-630170e7-0e3e-41a0-9220-5b0bcf9c42e2\"], {});\n",
              "            const responseJson = chartCodeResponse.data['application/json'];\n",
              "            await google.colab.notebook.addCell(responseJson.code, 'code');\n",
              "          }\n",
              "          chartElement.onclick = getCodeForChartHandler;\n",
              "        })();\n",
              "      </script>\n",
              "      <style>\n",
              "        .colab-quickchart-chart-with-code  {\n",
              "            display: block;\n",
              "            float: left;\n",
              "            border: 1px solid transparent;\n",
              "        }\n",
              "\n",
              "        .colab-quickchart-chart-with-code:hover {\n",
              "            cursor: pointer;\n",
              "            border: 1px solid #aaa;\n",
              "        }\n",
              "      </style>"
            ]
          },
          "metadata": {}
        },
        {
          "output_type": "display_data",
          "data": {
            "text/plain": [
              "from matplotlib import pyplot as plt\n",
              "_df_1['Salary'].plot(kind='hist', bins=20, title='Salary')\n",
              "plt.gca().spines[['top', 'right',]].set_visible(False)"
            ],
            "text/html": [
              "      <div class=\"colab-quickchart-chart-with-code\" id=\"chart-a1f50963-ce46-44ea-a4f5-558bcbd56504\">\n",
              "        <img style=\"width: 180px;\" src=\"data:image/png;base64,iVBORw0KGgoAAAANSUhEUgAAAioAAAGrCAYAAADuNLxTAAAAOXRFWHRTb2Z0d2FyZQBNYXRwbG90\n",
              "bGliIHZlcnNpb24zLjcuMSwgaHR0cHM6Ly9tYXRwbG90bGliLm9yZy/bCgiHAAAACXBIWXMAAA9h\n",
              "AAAPYQGoP6dpAAAfzklEQVR4nO3de3BU9d3H8c+S6IpACIRbICwRchEEAsFkaHDwVkbw0UCJWqVY\n",
              "ouYC1aJiR4jUEaw1dKatUjtKIDbVpl5JtBnxMkUoRUVDALmEAgkSNmogFjSBEWIuv+cPHvOwhmAW\n",
              "95Dfwvs1szPm7I/Dd8+crO/ZPey6jDFGAAAAFurS2QMAAAC0h1ABAADWIlQAAIC1CBUAAGAtQgUA\n",
              "AFiLUAEAANYiVAAAgLUIFQAAYC1CBQAAWItQAWAdl8ul1atXd/YYACxAqAAIuH379um2227TwIED\n",
              "1b17dw0cOFDXX3+9ampqOns0AEGGUAEQcNdff7169OihHTt26OjRo9qyZYt++tOfyuVynZW/v7Gx\n",
              "8az8PQCcR6gACKhDhw5p165dmj17tnr37i1J6t+/v2bNmqUBAwaopqZGN9xwg/r3768ePXpo9OjR\n",
              "evXVV9vdX0fWu1wuPfHEE0pJSVG3bt304osvqnv37lq3bp3PunvuuUfTpk0L+GMG4BxCBUBARURE\n",
              "aNSoUcrOzlZBQYG2bdumlpaW1vubm5t15513au/evTp8+LDuvfdezZgxQ+Xl5afcX0fX5+XlKT8/\n",
              "X0ePHtXNN9+sGTNmaPny5a33f/311yosLNTs2bOdeeAAHEGoAAi4tWvXasqUKXrmmWeUnJysPn36\n",
              "6Fe/+pUaGhoUFRWl6dOnq3v37rrgggt01113acSIEVqzZs0p99XR9ffff79GjBghl8ulrl27as6c\n",
              "OSoqKtKhQ4ckSS+99JJ69+6t6667zvHHDyBwCBUAARcREaFHH31UpaWlqqur01/+8hetWLFCubm5\n",
              "+vLLL5WZmalLLrlEYWFhCg8PV3l5uWpra0+5r46uv+SSS3x+Hjt2rMaOHavnnntO0olXXDIzM8/a\n",
              "dTIAAoNQAeAot9utadOm6cc//rE2b96sBQsWaNeuXVq3bp3q6ur01Vdf6bLLLpMx5pR/vqPru3Rp\n",
              "+3Q2Z84crVixQlu2bNGWLVt05513OvIYATiHUAEQUF9++aUWLFigbdu2qaGhQc3NzXr33Xe1du1a\n",
              "TZw4UXV1dbr44osVERGhxsZGPfXUU+1enyLJ7/Unu+WWW/TFF18oIyND06ZNU//+/QP1MAGcJYQK\n",
              "gIC68MIL9d///lc333yz+vTpo4iICN17772aP3++HnjgAT322GM6duyY+vfvr+joaB08eFATJkxo\n",
              "d3/+rj/ZRRddpDvuuEObN2/mIlogSLlMe6+3AsA54JlnntETTzyh3bt3c30KEIR4RQXAOevw4cNa\n",
              "unSp7r//fiIFCFKECoBzUk5OjqKiojRq1ChlZmZ29jgAzhBv/QAAAGvxigoAALAWoQIAAKxFqAAA\n",
              "AGsRKgAAwFrnRKgsXbq0s0cAAAAOOCdCZf/+/Z09AgAAcMA5ESoAAODcRKgAAABrESoAAMBahAoA\n",
              "ALAWoQIAAKxFqAAAAGsRKgAAwFqECgAAsBahAgAArEWoAAAAaxEqAADAWoQKAACwlqOhMnfuXEVH\n",
              "R8vlcunjjz9ud92zzz6r2NhYDRs2TJmZmWpsbHRyLAAAECQcDZWbbrpJ7733noYMGdLumn379unh\n",
              "hx/W+vXrVVlZqYMHD2r58uVOjgUAAIKEo6EyceJERUVFnXbNypUrlZqaqgEDBsjlcmn27Nl68cUX\n",
              "213f0NCg+vp6n1tzc3OgRwcAABYI7ewBvF6vzysu0dHR8nq97a7Pzc3V4sWLfbaNHz/ekdmiF6xy\n",
              "ZL+SVLXkfxzbdzBy6lg7eZyDcWanOPm74hTOjeDHc7Svc/W8C7qLaXNyclRXV+dzS05O7uyxAACA\n",
              "Azr9FRWPx6O9e/e2/lxVVSWPx9PuerfbLbfb7bMtJCTEsfkAAEDn6fRXVNLS0lRSUqIDBw7IGKNl\n",
              "y5bp1ltv7eyxAACABRwNlezsbEVFRenTTz/Vddddp5iYGElSRkaGSkpKJElDhw7V4sWLNWHCBMXE\n",
              "xKhv377Kzs52ciwAABAkHH3rJy8v75Tb8/PzfX7OzMxUZmamk6MAAIAg1Olv/QAAALSHUAEAANYi\n",
              "VAAAgLUIFQAAYC1CBQAAWItQAQAA1iJUAACAtQgVAABgLUIFAABYi1ABAADWIlQAAIC1CBUAAGAt\n",
              "QgUAAFiLUAEAANYiVAAAgLUIFQAAYC1CBQAAWItQAQAA1iJUAACAtQgVAABgLUIFAABYi1ABAADW\n",
              "IlQAAIC1CBUAAGAtQgUAAFiLUAEAANYiVAAAgLUIFQAAYC1CBQAAWItQAQAA1iJUAACAtQgVAABg\n",
              "LUIFAABYi1ABAADWIlQAAIC1CBUAAGAtQgUAAFiLUAEAANYiVAAAgLUIFQAAYC1CBQAAWItQAQAA\n",
              "1iJUAACAtQgVAABgLUIFAABYi1ABAADWIlQAAIC1CBUAAGAtQgUAAFiLUAEAANYiVAAAgLUIFQAA\n",
              "YC1CBQAAWItQAQAA1iJUAACAtQgVAABgLUIFAABYi1ABAADWIlQAAIC1CBUAAGAtQgUAAFjL0VCp\n",
              "qKhQSkqK4uLilJSUpPLy8jZrWlpaNG/ePI0YMUKjR4/W1VdfrcrKSifHAgAAQcLRUMnOzlZWVpb2\n",
              "7Nmj+fPnKz09vc2akpISvf/++9q6dau2bduma6+9Vg899JCTYwEAgCDhWKjU1taqrKxMM2fOlCSl\n",
              "paWpurq6zaslLpdLDQ0NOn78uIwxqq+vV1RUlFNjAQCAIBLq1I6rq6sVGRmp0NATf4XL5ZLH45HX\n",
              "61VMTEzruhtvvFFr167VgAED1KNHDw0aNEjr1q1rd78NDQ1qaGjw2dbc3OzMgwAAAJ2q0y+mLSsr\n",
              "044dO/TZZ5/p888/17XXXqvZs2e3uz43N1c9e/b0uZWWlp7FiQEAwNniWKgMHjxYNTU1ampqkiQZ\n",
              "Y+T1euXxeHzWPf/887rmmmsUHh6uLl26aNasWVq7dm27+83JyVFdXZ3PLTk52amHAQAAOpFjodKv\n",
              "Xz8lJiaqsLBQklRUVKSoqCift30kaejQoVqzZo2++eYbSdIbb7yhkSNHtrtft9utsLAwn1tISIhT\n",
              "DwMAAHQix65RkaS8vDylp6fr8ccfV1hYmAoKCiRJGRkZSk1NVWpqqu6++2795z//UUJCgi644AIN\n",
              "GDBAy5Ytc3IsAAAQJBwNlfj4eG3YsKHN9vz8/Nb/drvdWrFihZNjAACAINXpF9MCAAC0h1ABAADW\n",
              "IlQAAIC1CBUAAGAtQgUAAFiLUAEAANYiVAAAgLUIFQAAYC1CBQAAWItQAQAA1iJUAACAtQgVAABg\n",
              "LUIFAABYi1ABAADWIlQAAIC1CBUAAGAtQgUAAFiLUAEAANYiVAAAgLUIFQAAYC1CBQAAWItQAQAA\n",
              "1iJUAACAtQgVAABgLUIFAABYi1ABAADWIlQAAIC1CBUAAGAtQgUAAFiLUAEAANYiVAAAgLUIFQAA\n",
              "YC1CBQAAWItQAQAA1iJUAACAtQgVAABgLUIFAABYi1ABAADWIlQAAIC1CBUAAGAtQgUAAFiLUAEA\n",
              "ANYiVAAAgLUIFQAAYC1CBQAAWItQAQAA1iJUAACAtQgVAABgLUIFAABYi1ABAADWIlQAAIC1CBUA\n",
              "AGAtQgUAAFiLUAEAANYiVAAAgLUIFQAAYC1CBQAAWItQAQAA1iJUAACAtQgVAABgLUIFAABYi1AB\n",
              "AADWcjRUKioqlJKSori4OCUlJam8vPyU67Zv366rrrpKw4cP1/Dhw1VcXOzkWAAAIEiEOrnz7Oxs\n",
              "ZWVlKT09XStXrlR6ero2btzos+brr7/W1KlT9fzzz+uKK65Qc3OzDh8+7ORYAAAgSDj2ikptba3K\n",
              "yso0c+ZMSVJaWpqqq6tVWVnps+6FF17Q+PHjdcUVV0iSQkJC1Ldv33b329DQoPr6ep9bc3OzUw8D\n",
              "AAB0IsdCpbq6WpGRkQoNPfGijcvlksfjkdfr9Vm3c+dOud1u3XDDDRozZox+/vOf64svvmh3v7m5\n",
              "uerZs6fPrbS01KmHAQAAOpHfofLOO+8EdICmpiatXr1aeXl52rJliwYNGqQ5c+a0uz4nJ0d1dXU+\n",
              "t+Tk5IDOBAAA7OB3qDz66KOKj4/X0qVLVV9f3+66wYMHq6amRk1NTZIkY4y8Xq88Ho/POo/Ho6uv\n",
              "vlqDBg2Sy+XSzJkz9eGHH7a7X7fbrbCwMJ9bSEiIvw8DAAAEAb9D5f3339dLL72kHTt2KC4uTr/4\n",
              "xS+0c+fONuv69eunxMREFRYWSpKKiooUFRWlmJgYn3W33HKLNm7c2Bo9b775phISEs7ksQAAgHPM\n",
              "GV2jMnbsWK1YsUJvv/223njjDY0ePVqTJk3S9u3bfdbl5eUpLy9PcXFxWrJkiQoKCiRJGRkZKikp\n",
              "kXTiFZWHHnpIKSkpGj16tNasWaNly5b9wIcFAADOBWf0z5NXr16tp556Stu3b9fdd9+tu+66S//6\n",
              "17/0k5/8xOdf9cTHx2vDhg1t/nx+fr7Pz7fffrtuv/32MxkFAACcw/wOleHDh6tPnz6aO3eupk+f\n",
              "3np9yE033aRnn3024AMCAIDzl9+hUlhYqHHjxp3yvrfeeusHDwQAAPAtv69R2bRpk88nxx46dEgr\n",
              "VqwI6FAAAADSGYTK008/rd69e7f+HBERoaeffjqgQwEAAEhnECrGmDbb+Ah7AADgBL9DJTIyUq+8\n",
              "8krrzy+//LIiIyMDOhQAAIB0BhfTPvnkk5o6daoefPBBSdLFF1+sf/zjHwEfDAAAwO9QufTSS7Vz\n",
              "507t3r1b0onPSuEj7AEAgBPO6APfXC6XwsPD1dTUpM8++0yS2nyHDwAAwA/ld6j89a9/1dy5c3XB\n",
              "BReoS5cTl7i4XC7V1tYGfDgAAHB+8ztUfvOb32jjxo2Kj493Yh4AAIBWfv+rnz59+hApAADgrPA7\n",
              "VKZNm6Ynn3xStbW1qq+vb70BAAAEmt9v/SxcuFCSNG/ePLlcLhlj5HK5+NA3AAAQcH6HSktLixNz\n",
              "AAAAtOH3Wz/SiS8m/Nvf/iZJ+uqrr1RTUxPQoQAAAKQz/FLCO++8U4sWLZJ04tuTZ8yYEei5AAAA\n",
              "/A+V5cuX68MPP1RYWJgkadiwYfriiy8CPhgAAIDfoeJ2u9W1a1efbaGhZ/QBtwAAAKfld6j07dtX\n",
              "e/bskcvlknTik2r5+HwAAOCEM/r25Ntuu027du3S4MGDFRYWpjfeeMOJ2QAAwHnO71CJiYnRRx99\n",
              "pN27d8sYw7cnAwAAx/gdKl6vV5LUrVs3SeLbkwEAgGP8DpVx48a1fiLt8ePH9fXXXysiIoJvTwYA\n",
              "AAHnd6h8958iFxcXa+vWrQEbCAAA4Ftn9Mm0J5s+fbpWrVoViFkAAAB8+P2KysnflNzc3KyPPvqI\n",
              "b08GAACO8DtUwsPDW69RCQkJUWxsrP70pz85MRsAADjP8e3JAADAWj/4GhUAAACn+P2KSpcuXVo/\n",
              "Pv9kxhi5XC41NzcHZDAAAAC/Q+XRRx/VsWPHNGfOHEnSsmXL1LVrV913332Bng0AAJzn/A6V1157\n",
              "TZs2bWr9+bHHHtO4ceO0cOHCgA4GAADg9zUqR44c8fkU2traWh05ciSgQwEAAEhn8IrKAw88oISE\n",
              "BF1//fWSpLfffluLFi0K9FwAAAD+h0p2drYmTJigtWvXSpLmzZunyy67LOCDAQAA+B0qkhQREaFR\n",
              "o0bpqquuUlNTk7755htdeOGFgZ4NAACc5/y+RmXlypUaP3687rjjDklSeXm5pk2bFui5AAAA/A+V\n",
              "3Nxcbd68WeHh4ZKkhIQE7d+/P9BzAQAA+B8qISEhioiI8NnG2z4AAMAJfodKjx49dPDgwdZPp333\n",
              "3XfVu3fvgA8GAADg98W0v/vd7zRlyhR98sknuuKKK7Rv3z6tWrXKidkAAMB5zq9QaWlpUXNzs9au\n",
              "XasPPvhAxhilpKS0Xq8CAAAQSH6FSpcuXZSVlaWtW7dqypQpTs0EAAAg6QyuUYmNjVVlZaUTswAA\n",
              "APjw+xqVw4cPa8yYMUpJSVH37t1btxcXFwd0MAAAgA6HSlZWlpYvX65Zs2YpNTVVvXr1cnIuAACA\n",
              "jodKWVmZJGnWrFlKTEzU5s2bHRsKAABAOoNrVCTJGBPoOQAAANro8Csqx44d0/bt22WM0fHjx1v/\n",
              "+1ujR492ZEAAAHD+8itUUlNTW38++b9dLpc++eSTwE4GAADOex0OlaqqKgfHAAAAaOuMrlEBAAA4\n",
              "GwgVAABgLUIFAABYi1ABAADWIlQAAIC1CBUAAGAtQgUAAFiLUAEAANYiVAAAgLUcDZWKigqlpKQo\n",
              "Li5OSUlJKi8vb3etMUbXXHONwsPDnRwJAAAEEUdDJTs7W1lZWdqzZ4/mz5+v9PT0dtc+8cQTGjZs\n",
              "mJPjAACAIONYqNTW1qqsrEwzZ86UJKWlpam6ulqVlZVt1paXl+v111/XggULvne/DQ0Nqq+v97k1\n",
              "NzcHfH4AAND5HAuV6upqRUZGKjT0xPceulwueTweeb1en3WNjY3KzMxUXl6eQkJCvne/ubm56tmz\n",
              "p8+ttLTUkccAAAA6V6dfTLt48WJNnz5dw4cP79D6nJwc1dXV+dySk5MdnhIAAHSGUKd2PHjwYNXU\n",
              "1KipqUmhoaEyxsjr9crj8fisW7dunbxer/785z+rqalJ9fX1io6O1saNG9W3b982+3W73XK73T7b\n",
              "OvJKDAAACD6OvaLSr18/JSYmqrCwUJJUVFSkqKgoxcTE+Kxbv3699u/fr6qqKr333nsKCwtTVVXV\n",
              "KSMFAACcXxx96ycvL095eXmKi4vTkiVLVFBQIEnKyMhQSUmJk381AAA4Bzj21o8kxcfHa8OGDW22\n",
              "5+fnn3J9dHS0vvrqKydHAgAAQaTTL6YFAABoD6ECAACsRagAAABrESoAAMBahAoAALAWoQIAAKxF\n",
              "qAAAAGsRKgAAwFqECgAAsBahAgAArEWoAAAAaxEqAADAWoQKAACwFqECAACsRagAAABrESoAAMBa\n",
              "hAoAALAWoQIAAKxFqAAAAGsRKgAAwFqECgAAsBahAgAArEWoAAAAaxEqAADAWoQKAACwFqECAACs\n",
              "RagAAABrESoAAMBahAoAALAWoQIAAKxFqAAAAGsRKgAAwFqECgAAsBahAgAArEWoAAAAaxEqAADA\n",
              "WoQKAACwFqECAACsRagAAABrESoAAMBahAoAALAWoQIAAKxFqAAAAGsRKgAAwFqECgAAsBahAgAA\n",
              "rEWoAAAAaxEqAADAWoQKAACwFqECAACsRagAAABrESoAAMBahAoAALAWoQIAAKxFqAAAAGsRKgAA\n",
              "wFqECgAAsBahAgAArEWoAAAAaxEqAADAWoQKAACwFqECAACs5WioVFRUKCUlRXFxcUpKSlJ5eXmb\n",
              "NWvWrFFycrJGjBihyy67TA8++KBaWlqcHAsAAAQJR0MlOztbWVlZ2rNnj+bPn6/09PQ2a3r16qWX\n",
              "XnpJO3fu1KZNm/TBBx/o+eefd3IsAAAQJBwLldraWpWVlWnmzJmSpLS0NFVXV6uystJn3dixYzV0\n",
              "6FBJ0kUXXaQxY8aoqqqq3f02NDSovr7e59bc3OzUwwAAAJ3IsVCprq5WZGSkQkNDJUkul0sej0de\n",
              "r7fdP3PgwAGtXLlSN9xwQ7trcnNz1bNnT59baWlpwOcHAACdz5qLaevr63XjjTfqwQcf1OWXX97u\n",
              "upycHNXV1fnckpOTz+KkAADgbAl1aseDBw9WTU2NmpqaFBoaKmOMvF6vPB5Pm7VHjhzR5MmTNXXq\n",
              "VM2bN++0+3W73XK73T7bQkJCAjo7AACwg2OvqPTr10+JiYkqLCyUJBUVFSkqKkoxMTE+644eParJ\n",
              "kydr8uTJ+vWvf+3UOAAAIAg5+tZPXl6e8vLyFBcXpyVLlqigoECSlJGRoZKSEknS0qVLVVpaquLi\n",
              "Yo0ZM0ZjxozRb3/7WyfHAgAAQcKxt34kKT4+Xhs2bGizPT8/v/W/Fy5cqIULFzo5BgAACFLWXEwL\n",
              "AADwXYQKAACwFqECAACsRagAAABrESoAAMBahAoAALAWoQIAAKxFqAAAAGsRKgAAwFqECgAAsBah\n",
              "AgAArEWoAAAAaxEqAADAWoQKAACwFqECAACsRagAAABrESoAAMBahAoAALAWoQIAAKxFqAAAAGsR\n",
              "KgAAwFqECgAAsBahAgAArEWoAAAAaxEqAADAWoQKAACwFqECAACsRagAAABrESoAAMBahAoAALAW\n",
              "oQIAAKxFqAAAAGsRKgAAwFqECgAAsBahAgAArEWoAAAAaxEqAADAWoQKAACwFqECAACsRagAAABr\n",
              "ESoAAMBahAoAALAWoQIAAKxFqAAAAGsRKgAAwFqECgAAsBahAgAArEWoAAAAaxEqAADAWoQKAACw\n",
              "FqECAACsRagAAABrESoAAMBahAoAALAWoQIAAKxFqAAAAGsRKgAAwFqECgAAsBahAgAArEWoAAAA\n",
              "axEqAADAWo6GSkVFhVJSUhQXF6ekpCSVl5efct2zzz6r2NhYDRs2TJmZmWpsbHRyLAAAECQcDZXs\n",
              "7GxlZWVpz549mj9/vtLT09us2bdvnx5++GGtX79elZWVOnjwoJYvX+7kWAAAIEg4Fiq1tbUqKyvT\n",
              "zJkzJUlpaWmqrq5WZWWlz7qVK1cqNTVVAwYMkMvl0uzZs/Xiiy+2u9+GhgbV19f73Jqbm516GAAA\n",
              "oBO5jDHGiR1v2rRJM2bM0O7du1u3JScna8mSJbrmmmtat/3yl7/UwIEDlZOTI0nauXOnJk+eLK/X\n",
              "e8r9Llq0SIsXL/bZdumll2rKlCkBnb+5uVmlpaVKTk5WSEhIQPd9LuE4dQzH6ftxjDqG49QxHKeO\n",
              "6ezjNGTIEN17772nXRN6lmYJmJycHM2bN89nm9vtltvtDujfU19fr549e+qdd95RWFhYQPd9LuE4\n",
              "dQzH6ftxjDqG49QxHKeOCYbj5FioDB48WDU1NWpqalJoaKiMMfJ6vfJ4PD7rPB6P9u7d2/pzVVVV\n",
              "mzUncyJKAACAnRy7RqVfv35KTExUYWGhJKmoqEhRUVGKiYnxWZeWlqaSkhIdOHBAxhgtW7ZMt956\n",
              "q1NjAQCAIOLov/rJy8tTXl6e4uLitGTJEhUUFEiSMjIyVFJSIkkaOnSoFi9erAkTJigmJkZ9+/ZV\n",
              "dna2k2MBAIAg4eg1KvHx8dqwYUOb7fn5+T4/Z2ZmKjMz08lR/OZ2u/XII4/wNtP34Dh1DMfp+3GM\n",
              "Oobj1DEcp44JhuPk2L/6AQAA+KH4CH0AAGAtQgUAAFiLUAEAANYiVAAAgLUIlXZ09Jufg93x48c1\n",
              "bdo0xcXFKSEhQZMmTWr9Pqba2lpNnjxZsbGxGjlypP7973+3/jkn7gsWBQUFcrlcev311yVxnL6r\n",
              "oaFB99xzj2JjYzVq1KjW7/s63e+UE/fZ7M0331RiYqLGjBmjkSNH6rnnnpPEuTR37lxFR0fL5XLp\n",
              "448/bt1+ts8d28+rUx2n0z2XS0F+bhmc0tVXX20KCgqMMca8+uqr5vLLL+/cgRxy7Ngxs2rVKtPS\n",
              "0mKMMeapp54yV155pTHGmDvuuMM88sgjxhhjSktLzaBBg8w333zj2H3BYN++feZHP/qRGT9+vHnt\n",
              "tdeMMRyn77rvvvvMPffc03pO1dTUGGNO/zvlxH22amlpMb169TJbt241xpw4p9xut6mvrz/vz6V1\n",
              "69aZ6upqM2TIELNly5bW7Wf73LH9vDrVcTrdc7kxwf08RaicwsGDB02PHj1MY2OjMebEE0v//v1N\n",
              "RUVFJ0/mvI0bN5ohQ4YYY4zp1q1b6/9kjDEmKSnJ/POf/3TsPts1Nzeba6+91pSVlZkrr7yyNVQ4\n",
              "Tv/v6NGjpkePHqaurs5n++l+p5y4z2YtLS2md+/eZt26dcYYY7Zu3WoGDhxoGhoaOJf+z8n/Az7b\n",
              "504wnVffDbqTnfxcbkxwP08F3ZcSng3V1dWKjIxUaOiJw+NyueTxeOT1ett8BcC5ZunSpZo6daoO\n",
              "HTqkxsZGDRgwoPW+6Ohoeb1eR+4LBn/84x81YcIEjRs3rnUbx8nX3r171bt3bz3++ONavXq1unbt\n",
              "qkWLFik8PLzd36mePXsG/D6bf09dLpdefvllTZ8+Xd26ddOXX36p4uJiHTlyhHPpFE73fOzEuROs\n",
              "59V3fftcLgX/8xShglaPP/64Kisr9e677+rYsWOdPY5VduzYoaKiIqvf37dBU1OT9u/frxEjRmjJ\n",
              "kiXasmWLJk2apFWrVnX2aNZoamrSY489puLiYk2cOFEbN25UamqqzzUZwA9x8nP5uYCLaU/h5G9+\n",
              "ltTuNz+fS37/+9+ruLhYb731li6++GJFREQoNDRUBw4caF3z7TdbO3Gf7davX6+qqirFxsYqOjpa\n",
              "H374obKysvTKK69wnE7i8XjUpUsX/exnP5MkjR07Vpdccon279/f7u/U6X7fzvQ+m3388cf6/PPP\n",
              "NXHiRElSUlKSoqKitG3bNs6lU3Di/DgXz6tvffe5XFLwP58H/M2kc8SVV17pczHVuHHjOncgB/3h\n",
              "D38wiYmJ5vDhwz7bZ82a5XOh1MCBA1svlHLivmBy8jUqHCdfkyZNMqtWrTLGGPPJJ5+YiIgI8+mn\n",
              "n572d8qJ+2x14MAB0717d7Nz505jjDEVFRWmV69eZv/+/ZxL/+e7116c7XMnWM6r7x6n9p7LjQnu\n",
              "5ylCpR27du0y48ePN7GxsWbcuHFm27ZtnT2SI6qrq40kM3ToUJOQkGASEhJMcnKyMebEE+qkSZNM\n",
              "TEyMGTFihFmzZk3rn3PivmBycqhwnHzt3bvXXHXVVWbkyJFm9OjRZuXKlcaY0/9OOXGfzV544YXW\n",
              "4zNy5Ejz97//3RjDuZSVlWUGDRpkQkJCTL9+/cywYcOMMWf/3LH9vDrVcTrdc7kxwX1u8aWEAADA\n",
              "WlyjAgAArEWoAAAAaxEqAADAWoQKAACwFqECAACsRagAAABrESoAAMBahAoAALAWoQIAAKxFqAAA\n",
              "AGv9L42/suV5ThqCAAAAAElFTkSuQmCC\n",
              "\">\n",
              "      </div>\n",
              "      <script type=\"text/javascript\">\n",
              "        (() => {\n",
              "          const chartElement = document.getElementById(\"chart-a1f50963-ce46-44ea-a4f5-558bcbd56504\");\n",
              "          async function getCodeForChartHandler(event) {\n",
              "            const chartCodeResponse =  await google.colab.kernel.invokeFunction(\n",
              "                'getCodeForChart', [\"chart-a1f50963-ce46-44ea-a4f5-558bcbd56504\"], {});\n",
              "            const responseJson = chartCodeResponse.data['application/json'];\n",
              "            await google.colab.notebook.addCell(responseJson.code, 'code');\n",
              "          }\n",
              "          chartElement.onclick = getCodeForChartHandler;\n",
              "        })();\n",
              "      </script>\n",
              "      <style>\n",
              "        .colab-quickchart-chart-with-code  {\n",
              "            display: block;\n",
              "            float: left;\n",
              "            border: 1px solid transparent;\n",
              "        }\n",
              "\n",
              "        .colab-quickchart-chart-with-code:hover {\n",
              "            cursor: pointer;\n",
              "            border: 1px solid #aaa;\n",
              "        }\n",
              "      </style>"
            ]
          },
          "metadata": {}
        },
        {
          "output_type": "display_data",
          "data": {
            "text/plain": [
              "<google.colab._quickchart_helpers.SectionTitle at 0x7e9260dce500>"
            ],
            "text/html": [
              "<h4 class=\"colab-quickchart-section-title\">2-d distributions</h4>\n",
              "<style>\n",
              "  .colab-quickchart-section-title {\n",
              "      clear: both;\n",
              "  }\n",
              "</style>"
            ]
          },
          "metadata": {}
        },
        {
          "output_type": "display_data",
          "data": {
            "text/plain": [
              "from matplotlib import pyplot as plt\n",
              "_df_2.plot(kind='scatter', x='YearsExperience', y='Salary', s=32, alpha=.8)\n",
              "plt.gca().spines[['top', 'right',]].set_visible(False)"
            ],
            "text/html": [
              "      <div class=\"colab-quickchart-chart-with-code\" id=\"chart-e72da76f-a7c9-4875-b501-8ca1c1781d18\">\n",
              "        <img style=\"width: 180px;\" src=\"data:image/png;base64,iVBORw0KGgoAAAANSUhEUgAAAkMAAAGkCAYAAAAykCE8AAAAOXRFWHRTb2Z0d2FyZQBNYXRwbG90\n",
              "bGliIHZlcnNpb24zLjcuMSwgaHR0cHM6Ly9tYXRwbG90bGliLm9yZy/bCgiHAAAACXBIWXMAAA9h\n",
              "AAAPYQGoP6dpAAArCUlEQVR4nO3df3xV9X3H8ffNPckJ5iYhTcDAIImUxE2DJGhCQAVxtQ12E6sy\n",
              "LYbKqgXsUBlzE5yturUwWpYWSTt0D0drA7R0MLbHHGxoK+g0gI+CFh4TieYHv0IgYEjS5HDPzdkf\n",
              "zLtejUIoNyfJ9/V8PO7jQe73/vjkcI0vzj05N+B5nicAAABDJfg9AAAAgJ+IIQAAYDRiCAAAGI0Y\n",
              "AgAARiOGAACA0YghAABgNGIIAAAYjRgCAABGI4YuwMqVK/0eAQAAxAkxdAEaGhr8HgEAAMQJMQQA\n",
              "AIxGDAEAAKMRQwAAwGjEEAAAMBoxBAAAjEYMAQAAoxFDAADAaMQQAAAwGjEEAACMRgwBAACjEUPA\n",
              "ANcVjuhku6OucMTvUQBgQLL8HgDAxTnR5qi6pl5b9x1XZziiIYlBTS/MVsWkXGWFbL/HA4ABgz1D\n",
              "wAB0os3RQ+v3aO3ORnU4rqyEgDocV9U7G7Rg3R6dbHf8HhEABgxiCBiAqmvqVdvcpmEhWxkpSUqx\n",
              "LWWkJGlYyFZtc5uq32jwe0QAGDCIIWCA6QpHtHXfcSVbQVnB2P+ErWCCbCuoLfubOIYIAC4QMQQM\n",
              "MO2Oq85wRElWz//52laCOs9G1O64fTwZAAxMxBAwwIRsS0MSgzrrdve47rjdGpIUVMjm9yMA4EIQ\n",
              "Q8AAk5wYVHnh5epyI3IjsUHkRrrluBFNvzpbyYlBnyYEgIElrjH08MMPKy8vT4FAQHv37pUkdXV1\n",
              "6fbbb1dBQYHGjx+vW265RbW1tdH7NDc3q7y8XPn5+SosLNSOHTviugYMRLMn5Wns8FSdaHd0quOs\n",
              "OhxXpzrO6kS7o/zhqaqYlOv3iAAwYMQ1hu666y699tprys2N/cE8d+5cHThwQG+99ZZmzJihBx54\n",
              "ILq2ePFilZWV6eDBg1qzZo1mzZqlcDgctzVgIMoK2aqaVayKibkKJVtyuz2Fki1VTMzVqlnFnGcI\n",
              "AHrD6wO5ubnenj17elzbvXu3l5ubG/06JSXFO3bsWPTrkpISb9u2bXFbuxB//ud/fsG3Bfpa51nX\n",
              "O9HW5XWedf0eBQAGJN+PsFy5cqVmzJghSWppaVE4HFZ2dnZ0PS8vT42NjXFZ64njOHKc2BPWRSL8\n",
              "ijL6r+TEIMcHAcDvwNcDqJcuXara2lotW7bMzzFiLFu2TOnp6TGXXbt2+T0WAACIE99iaMWKFdq0\n",
              "aZO2bNmiyy67TJKUmZkpy7LU1NQUvV19fb1ycnListaTJUuWqLW1NeZSWlp6qb99AADQT/gSQ5WV\n",
              "lVq/fr22bdumoUOHxqzNnDlTq1evliTt3r1bR44c0dSpU+O29lG2bSstLS3mEgzyFgQAAINVwPM8\n",
              "L14PPm/ePL344otqampSZmamUlNT9corr2j06NEaM2aMUlNTJZ0LkJ07d0qSjh8/rtmzZ6uurk5J\n",
              "SUmqqqrStGnT4rZ2IRYtWqTKyspLuWkAAEA/EdcYGiyIIQAABi/OQA0AAIxGDAEAAKMRQwAAwGjE\n",
              "EAAAMBoxBAAAjEYMAQAAoxFDAADAaMQQAAAwGjEEAACMRgwBAACjEUMAAMBoxBAAADAaMQQAAIxG\n",
              "DAEAAKMRQwAAwGjEEAAAMBoxBAAAjEYMAQAAoxFDAADAaMQQAAAwGjEEAACMRgwBAACjEUMAAMBo\n",
              "xBAAADAaMQQAAIxGDAEAAKMRQwAAwGjEEAAAMBoxBAAAjEYMAQAAoxFDAADAaMQQAAAwGjEEAACM\n",
              "RgwBAACjEUMAAMBoxBAAADAaMQQAAIxGDAEAAKMRQwAAwGjEEAAAMBoxBAAAjEYMAQAAoxFDAADA\n",
              "aMQQ0IOucEQn2x11hSN+jwIAiDPL7wGA/uREm6Pqmnpt3XdcneGIhiQGNb0wWxWTcpUVsv0eDwAQ\n",
              "B+wZAv7PiTZHD63fo7U7G9XhuLISAupwXFXvbNCCdXt0st3xe0QAQBzENYYefvhh5eXlKRAIaO/e\n",
              "vdHrDx48qMmTJ6ugoEAlJSXav3+/b2vAh6pr6lXb3KZhIVsZKUlKsS1lpCRpWMhWbXObqt9o8HtE\n",
              "AEAcxDWG7rrrLr322mvKzc2NuX7evHmaO3eu3n33XT322GOaM2eOb2uAdO4Yoa37jivZCsoKxv5n\n",
              "YQUTZFtBbdnfxDFEADAIBTzP8+L9JHl5edq8ebOKiorU3NyssWPH6tSpU7IsS57nacSIEXrttdeU\n",
              "lpbWp2tjx469oPkXLVqkysrKOG8l+Olku6M7fvi6rISAUuyPH0rX4bhyuz1t+vpkjh0CgEGmzw+g\n",
              "PnTokEaMGCHLOvfUgUBAOTk5amxsVHp6ep+u9RRDjuPIcWKPDYlE2Bsw2IVsS0MSg+pwXKX00DqO\n",
              "261QsqVQD6EEABjYOID6I5YtW6b09PSYy65du/weC3GWnBhUeeHl6nIjciPdMWtupFuOG9H0q7OV\n",
              "nBj0aUIAQLz0eQyNHj1ax44dk+u6kiTP89TY2KicnJw+X+vJkiVL1NraGnMpLS2N92ZBPzB7Up7G\n",
              "Dk/ViXZHpzrOqsNxdarjrE60O8ofnqqKSbnnfxAAwIDT5zE0fPhwTZgwQdXV1ZKkjRs3atSoURo7\n",
              "dmyfr/XEtm2lpaXFXIJB9gaYICtkq2pWsSom5iqUbMnt9hRKtlQxMVerZhVzrBAADFJxPYB63rx5\n",
              "evHFF9XU1KTMzEylpqaqtrZWBw4c0Jw5c9TS0qK0tDStWbNG48aNk6Q+X7sQHEBtnq5wRO2Oq5Bt\n",
              "8dYYAAxyffLbZAMdMQQAwODFAdQAAMBoxBAAADAaMQQAAIxGDAEAAKMRQwAAwGjEEAAAMBoxBAAA\n",
              "jEYMAQAAoxFDAADAaMQQAAAwGjEEAACMRgwBAACjEUMAAMBoxBAAADAaMQQAAIxGDAEAAKMRQwAA\n",
              "wGjEEAAAMBoxBAAAjEYMAQAAoxFDAADAaMQQAAAwGjEEAACMRgwBAACjEUMAAMBoxBAAADAaMQQA\n",
              "AIxGDAEAAKMRQwAAwGjEEAAAMBoxBAAAjEYMAQAAoxFDAADAaMQQAAAwGjEEAACMRgwBAACjEUMA\n",
              "AMBoxBAAADAaMQQAAIxGDAEAAKMRQwAAwGjEEAAAMBoxBAAAjEYMAQAAoxFDAADAaMQQAAAwmm8x\n",
              "9B//8R+aMGGCioqKVFhYqB//+MeSpObmZpWXlys/P1+FhYXasWNH9D7xWAMAAGaz/HhSz/NUUVGh\n",
              "V155Rddcc43q6+v1+7//+7rjjju0ePFilZWVaevWrdq9e7e+9KUvqa6uTomJiXFZAwAAZvMlhiQp\n",
              "EAjogw8+kCSdOXNGmZmZsm1bGzZsUG1trSSppKREI0eO1Pbt2/W5z30uLmsf5TiOHMeJuS4SicRr\n",
              "MwAAAJ/5EkOBQEA/+9nPdMcddyglJUWnT5/Wpk2b1NbWpnA4rOzs7Oht8/Ly1NjYqJaWlku+1pNl\n",
              "y5bp6aefjrmurKzsUn3rAACgn/HlmCHXdfWtb31LmzZtUkNDg15++WXNnj1bruv6MU6MJUuWqLW1\n",
              "NeZSWlrq91gAACBOfImhvXv36ujRo5oyZYqkc29djRo1Sm+//bYsy1JTU1P0tvX19crJyVFmZuYl\n",
              "X+uJbdtKS0uLuQSDwUu9CQAAQD/hSwyNHj1ax44d0//8z/9Ikmpra/Xee+/pyiuv1MyZM7V69WpJ\n",
              "0u7du3XkyBFNnTpVkuKyBgAAzObLMUOXX365nnvuOf3Jn/yJEhIS1N3draqqKuXk5Gj58uWaPXu2\n",
              "8vPzlZSUpOrq6uhvfcVjDQAAmC3geZ7n9xD93aJFi1RZWen3GAAAIA44AzV81xWO6GS7o64wpzAA\n",
              "APQ9384zBJxoc1RdU6+t+46rMxzRkMSgphdmq2JSrrJCtt/jAQAMwZ4h+OJEm6OH1u/R2p2N6nBc\n",
              "WQkBdTiuqnc2aMG6PTrZ7pz/QQAAuASIIfiiuqZetc1tGhaylZGSpBTbUkZKkoaFbNU2t6n6jQa/\n",
              "RwQAGIIYQp/rCke0dd9xJVtBWcHYl6AVTJBtBbVlfxPHEAEA+gQxhD7X7rjqDEeUZPX88rOtBHWe\n",
              "jajd8f+M5ACAwY8YQp8L2ZaGJAZ11u3ucd1xuzUkKaiQzfH9AID4I4bQ55ITgyovvFxdbkRuJDaI\n",
              "3Ei3HDei6VdnKzmRj0EBAMQf//SGL2ZPytPOutOqbW6TbQVlWwly3HMhlD88VRWTcv0eEQBgCPYM\n",
              "wRdZIVtVs4pVMTFXoWRLbrenULKliom5WjWrmPMMAQD6DHuG4JuskK2FtxRo/k2fVbvjKmRbvDUG\n",
              "AOhzxBB8l5wYJIIAAL7hbTIAAGA0YggAABiNGAIAAEYjhgAAgNGIIQAAYDRiCAAAGI0YAgAARiOG\n",
              "AACA0YghAABgNGIIAAAYjRgCAABGI4YAAIDRiCEAAGA0YggAABiNGAIAAEYjhgAAgNGIIQAAYDRi\n",
              "CAAAGI0YQtx0hSM62e6oKxzxexQAAD6R1ds7fPnLX9ZDDz2kyZMnx2MeDAIn2hxV19Rr677j6gxH\n",
              "NCQxqOmF2aqYlKuskO33eAAAxOj1nqFp06bp61//uiZMmKDnn39eXV1d8ZgLA9SJNkcPrd+jtTsb\n",
              "1eG4shIC6nBcVe9s0IJ1e3Sy3fF7RAAAYvQ6hubOnau9e/fqmWee0csvv6wrrrhCf/VXf6WGhoZ4\n",
              "zIcBprqmXrXNbRoWspWRkqQU21JGSpKGhWzVNrep+g1eJwCA/uWijxm68sor9Qd/8AeyLEvvvPOO\n",
              "brjhBi1fvvxSzoYBpisc0dZ9x5VsBWUFY19aVjBBthXUlv1NHEMEAOhXeh1DNTU1uvfee1VUVKSu\n",
              "ri7V1NTo3/7t3/TOO+/oBz/4QTxmxADR7rjqDEeUZPX8srKtBHWejajdcft4MgAAPlmvD6CeO3eu\n",
              "HnnkET3//PNKTk6OXp+SkqK//uu/vqTDYWAJ2ZaGJAbV4bhK6eE4acftVijZUsju9csOAIC46dWe\n",
              "oUgkovLyct1///0xIfShefPmXbLBMPAkJwZVXni5utyI3Eh3zJob6ZbjRjT96mwlJwZ9mhAAgI/r\n",
              "1T/Rg8Ggtm/fHq9ZMAjMnpSnnXWnVdvcJtsKyrYS5LjnQih/eKoqJuX6PSIAADF6fczQ9OnT9e1v\n",
              "f1tHjx7VmTNnohdAkrJCtqpmFatiYq5CyZbcbk+hZEsVE3O1alYx5xkCAPQ7Ac/zvN7cISHh//sp\n",
              "EAjI8zwFAgFFIoP3N4QWLVqkyspKv8cYcLrC5w6WDtkWb40BAPqtXh/J2t3dff4bATp3DBERBADo\n",
              "7/hsMgAAYLRex9DBgwc1ffp0jRw5Up/5zGeiFwAAgIGo1zH0ta99TXPmzFFGRoa2b9+uu+66S48+\n",
              "+mg8ZgMAAIi7XsfQmTNndPfddyshIUHjxo3Ts88+q82bN8dhNAAAgPjrdQwlJiZKklJTU1VfXy/H\n",
              "cXTy5MleP7HjOFqwYIHy8/M1btw4VVRUSDr3NtzkyZNVUFCgkpIS7d+/P3qfeKwBAACz9TqGpkyZ\n",
              "opaWFi1YsEDXXnutrrjiCs2YMaPXT7x48WIFAgG9++67+vWvf60VK1ZIOncW67lz5+rdd9/VY489\n",
              "pjlz5kTvE481AABgtl6fZ+i3HTp0SK2trSosLOzV/To6OjRixAgdPnxYaWlp0eubm5s1duxYnTp1\n",
              "SpZlyfM8jRgxQq+99prS0tIu+drYsWM/NpvjOHIcJ+a6b3zjG1q5cuXFbSQAANCvXfCeod8+2/SH\n",
              "l/T0dOXk5PT6DNTvvfeePvOZz2jp0qW67rrrdOONN+rll1/WoUOHNGLECFnWudMfBQIB5eTkqLGx\n",
              "MS5rPVm2bJnS09NjLrt27erV9wcAAAaOC46hoUOHKiMjQ0OHDo1ePvw6IyOjV0/quq4aGhp01VVX\n",
              "6c0339Qzzzyju+++W67r9vobuNSWLFmi1tbWmEtpaanfYwEAgDi54DNQX8ozT+fk5CghIUH33nuv\n",
              "JKm4uFhXXHGFGhoadOzYMbmuG31Lq7GxUTk5OUpLS7vkaz2xbVu2Hfv5WcEgZ1EGAGCw8uUM1FlZ\n",
              "WfrDP/xD/ed//qckqa6uTnV1dbr++us1YcIEVVdXS5I2btyoUaNGaezYsRo+fPglXwMAAOj1AdQH\n",
              "Dx7Uww8/rLfeektdXV3R60+dOtWrJ37//fd1//336+TJk0pISNA3v/lN3XnnnTpw4IDmzJmjlpYW\n",
              "paWlac2aNRo3bpwkxWXtQgzmD2rlw1QBAKbrdQzddNNNevDBB/U3f/M3+ulPf6pVq1YpLy9Pjz/+\n",
              "eLxm9N1gjKETbY6qa+q1dd9xdYYjGpIY1PTCbFVMylVWyD7/AwAAMEhwBmoDnWhz9ND6PVq7s1Ed\n",
              "jisrIaAOx1X1zgYtWLdHJ9ud8z8IAACDhG9noIZ/qmvqVdvcpmEhWxkpSUqxLWWkJGlYyFZtc5uq\n",
              "32jwe0QAAPrMJTkD9W233RaP2RAHXeGItu47rmQrKCsY+9dvBRNkW0Ft2d+krnDEpwkBAOhbF/yr\n",
              "9R/67ne/K0kqKyvTwoULNXToUD300EOXfDDER7vjqjMcUZLVcwfbVoI6z547qJoDqgEAJrjgPUOf\n",
              "+9zntHfvXknS0aNHdd111+n111/XD37wAy1fvjxe8+ESC9mWhiQGddbt+bxRjtutIUlBhexedzIA\n",
              "AAPSBcfQkSNHVFRUJElat26dpk6dqi1btuiNN97Q2rVr4zUfLrHkxKDKCy9XlxuRG4kNIjfSLceN\n",
              "aPrV2ewVAgAY44L/+T9kyJDon19//XXdeuutkqSMjIzo535hYJg9KU87606rtrlNthWUbSXIcc+F\n",
              "UP7wVFVMyvV7RAAA+swF7xlKSEjQ4cOH1d7eru3bt2vq1KnRtd/85jdxGQ7xkRWyVTWrWBUTcxVK\n",
              "tuR2ewolW6qYmKtVs4o5zxAAwCgXvEvn8ccfV3FxsSzL0rRp01RQUCDp3F6ivLy8eM2HOMkK2Vp4\n",
              "S4Hm3/RZzkANADDaBcfQHXfcocmTJ+v48eO65pprotfn5eXpueeei8twiL/kxCARBAAwWq8O9snO\n",
              "zlZ2dnbMdSNHjrykAwEAAPQlXz61HgAAoL8ghgAAgNGIIQAAYDRiCAAAGI0YAgAARiOGAACA0Ygh\n",
              "AABgNGIIAAAYjRgCAABGI4YAAIDRiCEAAGA0YggAABiNGAIAAEYjhgAAgNGIIQAAYDRiCAAAGI0Y\n",
              "AgAARiOGAACA0YghAABgNGIIAAAYjRgCAABGI4YAAIDRiCEAAGA0YggAABiNGAIAAEYjhgAAgNGI\n",
              "IQAAYDRiCAAAGI0YAgAARiOGAACA0YghAABgNGIIAAAYjRgCAABGI4YAAIDRiCEAAGA032NozZo1\n",
              "CgQC2rx5sySpublZ5eXlys/PV2FhoXbs2BG9bTzWAACA2XyNofr6ev3jP/6jysrKotctXrxYZWVl\n",
              "OnjwoNasWaNZs2YpHA7HbQ0AAJjNtxjq7u7WAw88oFWrVsm27ej1GzZs0Pz58yVJJSUlGjlypLZv\n",
              "3x63tY9yHEdnzpyJuUQikThsAQAA0B/4FkOVlZW6/vrrde2110ava2lpUTgcVnZ2dvS6vLw8NTY2\n",
              "xmWtJ8uWLVN6enrMZdeuXZfyWwcAAP2ILzG0b98+bdy4UU888YQfT/+plixZotbW1phLaWmp32MB\n",
              "AIA48SWGXn31VdXX1ys/P195eXmqqanR3LlztWHDBlmWpaampuht6+vrlZOTo8zMzEu+1hPbtpWW\n",
              "lhZzCQaDcdgKUlc4opPtjrrCvA0HAIBffImhBx98UMeOHVN9fb3q6+tVVlam5557Tg8++KBmzpyp\n",
              "1atXS5J2796tI0eOaOrUqZIUlzU/nGhz9L1tBzSj6r91xw9f14yq/9b3t72rk+2ObzMBAGAqy+8B\n",
              "Pmr58uWaPXu28vPzlZSUpOrqaiUmJsZtra+daHP00Po9qm1uU7IVVJKVoA7HVfXOBtXUnVLVrGJl\n",
              "hezzPxAAALgkAp7neX4P0d8tWrRIlZWVl+SxvrftgNbubNSwkC0r+P875txIt060O6qYmKuFtxRc\n",
              "kucCAADn5/tJF03SFY5o677jSraCMSEkSVYwQbYV1Jb9TRxDBABAHyKG+lC746ozHFGS1fNmt60E\n",
              "dZ6NqN1x+3gyAADMRQz1oZBtaUhiUGfd7h7XHbdbQ5KCCtn97lAuAAAGLWKoDyUnBlVeeLm63Ijc\n",
              "SGwQuZFuOW5E06/OVnJifH6VHwAAfBy7IPrY7El52ll3WrXNbbKtoGwrQY57LoTyh6eqYlKu3yMC\n",
              "AGAU9gz1sayQrapZxaqYmKtQsiW321Mo2VLFxFyt4tfqAQDoc+wZ8kFWyNbCWwo0/6bPqt1xFbIt\n",
              "3hoDAMAnxJCPkhODRBAAAD7jbTIAAGA0YggAABiNGAIAAEYjhgAAgNGIIQAAYDRiCAAAGI0YAgAA\n",
              "RiOGAACA0YghAABgNGIIAAAYjRgCAABGI4YAAIDRiCEAAGA0YggAABiNGAIAAEYjhgAAgNGIIUN0\n",
              "hSM62e6oKxzxexQAAPoVy+8BEF8n2hxV19Rr677j6gxHNCQxqOmF2aqYlKuskO33eAAA+I49Q4PY\n",
              "iTZHD63fo7U7G9XhuLISAupwXFXvbNCCdXt0st3xe0QAAHxHDA1i1TX1qm1u07CQrYyUJKXYljJS\n",
              "kjQsZKu2uU3VbzT4PSIAAL4jhgaprnBEW/cdV7IVlBWM/Wu2ggmyraC27G/iGCIAgPGIoUGq3XHV\n",
              "GY4oyer5r9i2EtR5NqJ2x+3jyQAA6F+IoUEqZFsakhjUWbe7x3XH7daQpKBCNsfQAwDMRgwNUsmJ\n",
              "QZUXXq4uNyI3EhtEbqRbjhvR9KuzlZwY9GlCAAD6B3YLDGKzJ+VpZ91p1Ta3ybaCsq0EOe65EMof\n",
              "nqqKSbl+jwgAgO/YMzSIZYVsVc0qVsXEXIWSLbndnkLJliom5mrVrGLOMwQAgNgzNOhlhWwtvKVA\n",
              "82/6rNodVyHb4q0xAAB+CzFkiOTEIBEEAEAPeJsMAAAYjRgCAABGI4YAAIDRiCEAAGA0YggAABiN\n",
              "GAIAAEYjhgAAgNGIIQAAYDRiCAAAGI0YAgAARvMlhrq6unT77beroKBA48eP1y233KLa2lpJUnNz\n",
              "s8rLy5Wfn6/CwkLt2LEjer94rAEAALP5tmdo7ty5OnDggN566y3NmDFDDzzwgCRp8eLFKisr08GD\n",
              "B7VmzRrNmjVL4XA4bmsAAMBsvsRQcnKybr31VgUCAUlSWVmZ6uvrJUkbNmzQ/PnzJUklJSUaOXKk\n",
              "tm/fHre1j3IcR2fOnIm5RCKROGwFAADQH/SLY4ZWrlypGTNmqKWlReFwWNnZ2dG1vLw8NTY2xmWt\n",
              "J8uWLVN6enrMZdeuXXH4rgEAQH/gewwtXbpUtbW1WrZsmd+jSJKWLFmi1tbWmEtpaanfYwEAgDjx\n",
              "NYZWrFihTZs2acuWLbrsssuUmZkpy7LU1NQUvU19fb1ycnListYT27aVlpYWcwkGg3H47gEAQH/g\n",
              "WwxVVlZq/fr12rZtm4YOHRq9fubMmVq9erUkaffu3Tpy5IimTp0atzUAAGC2gOd5Xl8/6eHDhzV6\n",
              "9GiNGTNGqampks7tkdm5c6eOHz+u2bNnq66uTklJSaqqqtK0adMkKS5rF2LRokWqrKy8xFsBAAD0\n",
              "B77E0EBDDAEAMHj5fgA1AACAn4ghAABgNGIIAAAYjRgCAABGI4YAAIDRiCEAAGA0YggAABiNGAIA\n",
              "AEYjhgAAgNGIIQAAYDRiCAAAGI0YAgAARiOGAACA0YghAABgNGIIAAAYjRgCAABGI4YAAIDRiCEA\n",
              "AGA0YggAABiNGAIAAEYjhgAAgNGIIQAAYDRiCAAAGI0YAgAARiOGAACA0YghAABgNGIIAAAYjRgC\n",
              "AABGI4YAAIDRiCEAAGA0YggAABiNGAIAAEYjhgAAgNGIIQAAYDRiCAAAGI0YAgAARiOGAACA0Ygh\n",
              "AABgNGIIAAAYjRgCAABGI4YAAIDRiCEAAGA0YggAABiNGAIAAEYjhgAAgG+6whGdbHfUFY74NoPl\n",
              "2zMDAABjnWhzVF1Tr637jqszHNGQxKCmF2arYlKuskJ2n85izJ6hgwcPavLkySooKFBJSYn279/v\n",
              "90gAABjpRJujh9bv0dqdjepwXFkJAXU4rqp3NmjBuj062e706TzGxNC8efM0d+5cvfvuu3rsscc0\n",
              "Z84cv0cCAMBI1TX1qm1u07CQrYyUJKXYljJSkjQsZKu2uU3VbzT06TxGxFBzc7PefPNNVVRUSJLu\n",
              "vPNOHTp0SLW1tR+7reM4OnPmTMwlEvHvfUwAAAaTrnBEW/cdV7IVlBWMzRArmCDbCmrL/qY+PYbI\n",
              "iBg6dOiQRowYIcs6d4hUIBBQTk6OGhsbP3bbZcuWKT09Peaya9euvh4ZAIBBqd1x1RmOKMnqOUFs\n",
              "K0GdZyNqd9w+m8mIGOqNJUuWqLW1NeZSWlrq91gAAAwKIdvSkMSgzrrdPa47breGJAUVsvvud7yM\n",
              "iKHRo0fr2LFjct1zlel5nhobG5WTk/Ox29q2rbS0tJhLMBjs65EBABiUkhODKi+8XF1uRG4kNojc\n",
              "SLccN6LpV2crObHv/t9rRAwNHz5cEyZMUHV1tSRp48aNGjVqlMaOHevzZAAAmGf2pDyNHZ6qE+2O\n",
              "TnWcVYfj6lTHWZ1od5Q/PFUVk3L7dB5jzjP07LPPas6cOVq6dKnS0tK0Zs0av0cCAMBIWSFbVbOK\n",
              "Vf1Gg7bsb1Ln2YhCyZZmXj3Kl/MMBTzP8/r0GQegRYsWqbKy0u8xAAAYdLrC5w6WDtlWn7419tuM\n",
              "2TMEAAD6n+TEoG8R9CEjjhkCAAD4JMQQAAAwGjEEAACMRgwBAACjEUMAAMBoxBAAADAaMQQAAIxG\n",
              "DAEAAKMRQwAAwGjEEAAAMBqfTXYB7rjjDuXl5cVcF4lEtGvXLpWWlioY9Pc04gMJ2+3isN0uDtvt\n",
              "4rDdLg7b7eLEc7vl5ubqkUceOe/tiKGLdObMGaWnp6u1tVVpaWl+jzNgsN0uDtvt4rDdLg7b7eKw\n",
              "3S5Of9huvE0GAACMRgwBAACjEUMAAMBoxNBFsm1bTz75pGzb9nuUAYXtdnHYbheH7XZx2G4Xh+12\n",
              "cfrDduMAagAAYDT2DAEAAKMRQwAAwGjEEAAAMBoxdBEOHjyoyZMnq6CgQCUlJdq/f7/fIw0IeXl5\n",
              "uvLKK1VUVKSioiL97Gc/83ukfunhhx9WXl6eAoGA9u7dG72e192n+6Ttxuvuk3V1den2229XQUGB\n",
              "xo8fr1tuuUW1tbWSpObmZpWXlys/P1+FhYXasWOHz9P2H5+23W666SZdccUV0dfb9773PZ+n7X8+\n",
              "//nP65prrlFRUZFuvPFG7dmzR5LPP+M89Nq0adO8NWvWeJ7neT//+c+96667zt+BBojc3Fxvz549\n",
              "fo/R723fvt07dOjQx7YXr7tP90nbjdfdJ+vs7PRefPFFr7u72/M8z1u1apU3depUz/M870//9E+9\n",
              "J5980vM8z9u1a5f3e7/3e97Zs2d9mrR/+bTtNnXqVO9f/uVf/BtuADh9+nT0z5s2bfKuueYaz/P8\n",
              "/RnHnqFeam5u1ptvvqmKigpJ0p133qlDhw5F/1UA/K6mTJmiUaNGxVzH6+78etpu+HTJycm69dZb\n",
              "FQgEJEllZWWqr6+XJG3YsEHz58+XJJWUlGjkyJHavn27X6P2K5+23XB+Q4cOjf65tbVVgUDA959x\n",
              "xFAvHTp0SCNGjJBlWZKkQCCgnJwcNTY2+jzZwPCVr3xF48aN0/33368TJ074Pc6Awevud8Pr7sKs\n",
              "XLlSM2bMUEtLi8LhsLKzs6NreXl5vN4+wYfb7UOLFy/WuHHjdPfdd+v999/3cbL+6ytf+YpGjx6t\n",
              "b3zjG/rJT37i+884Ygh9ZseOHXr77bf1q1/9SllZWbrvvvv8HgkG4HV3YZYuXara2lotW7bM71EG\n",
              "lI9ut5/85Cd655139Pbbb+vGG2/UH/3RH/k8Yf/0wgsv6NChQ/rWt76lxx57zO9xiKHeGj16tI4d\n",
              "OybXdSVJnuepsbFROTk5Pk/W/324jRITE7Vw4UK9+uqrPk80cPC6u3i87s5vxYoV2rRpk7Zs2aLL\n",
              "LrtMmZmZsixLTU1N0dvU19fzevuIj2436dx/q9K5PRsLFizQ+++/r5aWFj/H7Nfuu+8+/fKXv9So\n",
              "UaN8/RlHDPXS8OHDNWHCBFVXV0uSNm7cqFGjRmns2LE+T9a/dXR06IMPPoh+vX79ehUXF/s30ADD\n",
              "6+7i8Lo7v8rKSq1fv17btm2LOZZj5syZWr16tSRp9+7dOnLkiKZOnerTlP1PT9vNdV0dP348epuN\n",
              "Gzfq8ssvV2Zmpk9T9j8ffPCBjh49Gv168+bNyszM9P1nHB/HcREOHDigOXPmqKWlRWlpaVqzZo3G\n",
              "jRvn91j92vvvv68777xTkUhEnudpzJgxWrlypfLy8vwerd+ZN2+eXnzxRTU1NSkzM1Opqamqra3l\n",
              "dXcePW23//qv/+J19ykOHz6s0aNHa8yYMUpNTZV07nOidu7cqePHj2v27Nmqq6tTUlKSqqqqNG3a\n",
              "NJ8n7h8+abv94he/0NSpU+U4jhISEpSVlaXKykqNHz/e54n7j4aGBs2cOVOdnZ1KSEjQsGHDtGLF\n",
              "ChUVFfn6M44YAgAARuNtMgAAYDRiCAAAGI0YAgAARiOGAFwS9957rx5//PGY6774xS9qxYoVcXvO\n",
              "p556SsOGDYt+DlRRUZG+/e1vx+35Pmr16tX67ne/22fPByA+OIAawCVx+vRpFRUV6Z//+Z9VUlKi\n",
              "559/Xj/60Y+0fft2JSRc/L+7XNeNnpX2o5566il98MEH+v73v3/Rj3+xPm0uAAMLe4YAXBIZGRl6\n",
              "9tlnNWfOHB08eFDf/OY3tXz5ct1zzz0qLS3VuHHj9MQTT0Rv/+ijj6qkpERFRUWaMmWKDhw4EF0L\n",
              "BAJ68sknVVJSoiVLlqimpkbXXnutioqKVFhYqH/4h3/41Fm6u7tVXl4e3Sv13nvvadSoUdHnCAQC\n",
              "euKJJ1RcXKyCggKtXbs2et/du3fr5ptv1nXXXafi4mL9/Oc/l3TupINDhw7VY489pgkTJqiqqkpP\n",
              "PfWUFi5cGL3vihUrVFpaqgkTJqi8vFwNDQ2SzkXb3XffrT/+4z/WVVddpZtvvlmnTp2K3m/58uUa\n",
              "N26cxo8fr7KyMv3mN7+RdO5sxhMnTtSECRM0ZcoUvfXWWxfzVwPgfPrsI2EBGGHevHleenq6t3r1\n",
              "au/zn/+898orr3ie53nhcNj7whe+4G3YsMHzPM9rbm6O3mf9+vXeF77whejXkrynn346+vVtt93m\n",
              "rVu3Lvr1qVOnPM/zvCeffNLLysryxo8fH7389Kc/9TzP806cOOHl5eV5v/zlL70JEybE3F+S98QT\n",
              "T3ie53nvvfeel5GR4dXV1XmnT5/2ioqKvKNHj0YfY/To0d7hw4e9uro6T5L34x//OPo4Tz75pPfI\n",
              "I494nud5a9eu9R544AHPdV3P8zzvhRde8G699dbo7XJzc72TJ096nud5d999t7d06VLP8zzvRz/6\n",
              "kVdSUuJ98MEH0e/NdV3vtdde86ZPn+51dXV5nud5O3bs8K666qre/nUAuADs4wVwSf3lX/6l1q1b\n",
              "p4qKCv3Zn/1ZzBl529vbo3tntm3bplWrVqmtrU3d3d0xe0ok6atf/Wr0z9OmTdPf/u3f6uDBg7r5\n",
              "5pt1ww03RNfuvffeHt8my8rKUnV1taZNm6Y5c+boy1/+csz6Aw88IEkaM2aMpkyZoh07digrK0vv\n",
              "v/++pk+fHnPbAwcOaMyYMUpMTIx+qvZHbd68Wbt379a1114rSYpEIjHr5eXl0TMRT5o0Sb/+9a8l\n",
              "Sf/+7/+u+fPnKz09XdK5PWyS9K//+q966623NHHixOhjnDp1Sp2dnRoyZEiPMwC4OMQQgEsqGAwq\n",
              "ISFB3v8djlhTU6Pk5OSY2zQ2NmrBggXavXu3PvvZz+rtt9/WlClTYm4TCoWif164cKFmzJihl156\n",
              "SY8//rgKCwv1wx/+8Lyz7NmzR5mZmTpy5Ig8z1MgEPjE2wYCAXmep6uvvlqvv/76x9br6+t12WWX\n",
              "feLxT57nacmSJZo7d26P67+9DYLBYPQzmD6J53m67777tHTp0k+9HYDfHccMAYiLUCikadOm6e/+\n",
              "7u+i1x09elSHDx9Wa2urEhMTNWLECHmep6qqqk99rAMHDuiKK67Q1772NT3++OOqqak57/P/6le/\n",
              "0ooVK7Rnzx5J0ne+852Y9TVr1kg6FzmvvvqqbrzxRk2ePFl1dXV66aWXorfbu3evzp49e97nu/32\n",
              "27V69eroHq5wOBx97k9z2223afXq1WptbZV07rObIpGIbrvtNlVXV6uxsVHSueOg3nzzzfM+HoDe\n",
              "Y88QgLhZu3atFi1apMLCQgUCAaWkpOjZZ5/V+PHjdc899+jqq69WZmambr/99k99nKqqKv3iF79Q\n",
              "UlKSgsGg/v7v/z7mOV555ZXo19OmTdPTTz+te+65R//0T/+k7OxsvfDCCyotLdUNN9yg66+/XtK5\n",
              "t7GKi4vV0dGhZ555Jvp5ZS+++KIeffRR/cVf/IXC4bBycnK0efPm836v9957r1paWqKf3+W6rr76\n",
              "1a+e94NhZ8+eraNHj2ry5MmyLEspKSl66aWXdOONN+o73/mOvvSlL8l1XZ09e1Zf/OIXdd111513\n",
              "FgC9w6/WAzBOIBDQ6dOnYz6lHYC5eJsMAAAYjbfJABiHHeIAfht7hgAAgNGIIQAAYDRiCAAAGI0Y\n",
              "AgAARiOGAACA0YghAABgNGIIAAAYjRgCAABG+18eg/0O7buCjgAAAABJRU5ErkJggg==\n",
              "\">\n",
              "      </div>\n",
              "      <script type=\"text/javascript\">\n",
              "        (() => {\n",
              "          const chartElement = document.getElementById(\"chart-e72da76f-a7c9-4875-b501-8ca1c1781d18\");\n",
              "          async function getCodeForChartHandler(event) {\n",
              "            const chartCodeResponse =  await google.colab.kernel.invokeFunction(\n",
              "                'getCodeForChart', [\"chart-e72da76f-a7c9-4875-b501-8ca1c1781d18\"], {});\n",
              "            const responseJson = chartCodeResponse.data['application/json'];\n",
              "            await google.colab.notebook.addCell(responseJson.code, 'code');\n",
              "          }\n",
              "          chartElement.onclick = getCodeForChartHandler;\n",
              "        })();\n",
              "      </script>\n",
              "      <style>\n",
              "        .colab-quickchart-chart-with-code  {\n",
              "            display: block;\n",
              "            float: left;\n",
              "            border: 1px solid transparent;\n",
              "        }\n",
              "\n",
              "        .colab-quickchart-chart-with-code:hover {\n",
              "            cursor: pointer;\n",
              "            border: 1px solid #aaa;\n",
              "        }\n",
              "      </style>"
            ]
          },
          "metadata": {}
        },
        {
          "output_type": "display_data",
          "data": {
            "text/plain": [
              "<google.colab._quickchart_helpers.SectionTitle at 0x7e9260dcf010>"
            ],
            "text/html": [
              "<h4 class=\"colab-quickchart-section-title\">Values</h4>\n",
              "<style>\n",
              "  .colab-quickchart-section-title {\n",
              "      clear: both;\n",
              "  }\n",
              "</style>"
            ]
          },
          "metadata": {}
        },
        {
          "output_type": "display_data",
          "data": {
            "text/plain": [
              "from matplotlib import pyplot as plt\n",
              "_df_3['YearsExperience'].plot(kind='line', figsize=(8, 4), title='YearsExperience')\n",
              "plt.gca().spines[['top', 'right']].set_visible(False)"
            ],
            "text/html": [
              "      <div class=\"colab-quickchart-chart-with-code\" id=\"chart-b7f9da57-a4a5-45df-9698-3f6e0270084f\">\n",
              "        <img style=\"width: 180px;\" src=\"data:image/png;base64,iVBORw0KGgoAAAANSUhEUgAAApcAAAFuCAYAAADUGTPdAAAAOXRFWHRTb2Z0d2FyZQBNYXRwbG90\n",
              "bGliIHZlcnNpb24zLjcuMSwgaHR0cHM6Ly9tYXRwbG90bGliLm9yZy/bCgiHAAAACXBIWXMAAA9h\n",
              "AAAPYQGoP6dpAABG30lEQVR4nO3deXRU9f0//ucsyWSdyT7ZE0LIQnZkE0F2QRIFRMsHvlapC2rr\n",
              "R1v14/KztrVaaXso1I/tqZ5+WjhKRWwRRECUTUBFESULkJCELdskk3WyT2Z5//6YMGRkMSGT3Enm\n",
              "+ThnTsm9dyavuZ0kT+/r/X5fmRBCgIiIiIjICeRSF0BEREREowfDJRERERE5DcMlERERETkNwyUR\n",
              "EREROQ3DJRERERE5DcMlERERETkNwyUREREROQ3DJRERERE5DcMlERERETkNwyUR0Qhx++2345VX\n",
              "XpG6DCKi65Lx9o9EJCUhBPLy8iCXy/HRRx857Fu6dCm6urrw8ccfQyaTDUs9GzduxAMPPAAfHx+H\n",
              "7bNnz76iPiIiupJS6gKIyL3JZDJs3LgRWVlZ+Mtf/oLHH38cAPDmm2/iq6++QkFBgVODpclkgoeH\n",
              "x3WPiYyMRFVVldO+52D19PTA09NT6jKIiPqFbXEiklxoaCg2bdqE5557DkVFRSguLsYzzzyDt99+\n",
              "G8ePH8eUKVMQGBiIcePG4X//93/tz+vu7sY999yDqKgo+Pv7Izk5GX/9618dXjs+Ph6//vWvsXDh\n",
              "Qvj7++NPf/oTKioqsGjRIgQFBUGj0SA9PR1HjhzpV62fffYZfH198c033wCwXXnNzc3FHXfcASEE\n",
              "Lly4AJlMhr///e8YP3481Go15s6di7Nnz9pfw2Kx4E9/+hNSU1Oh0Whw0003Yf/+/fb9GzduRHR0\n",
              "NP76178iPj4ewcHBAIBZs2bhl7/8pf246upqrFy5ElFRUQgLC8OKFStQX19v3z9r1iw8+eSTWLly\n",
              "JTQaDWJiYvC3v/3N4f0cPXoUc+bMQUhICIKCgjB79mx0dXUBAFpaWvDYY48hLi4OwcHBWLRoEc6d\n",
              "O9ev80REbkwQEbmIF198UaSlpYns7Gzx/PPPiwMHDgiNRiP27dsnLBaLKCoqEtHR0WLTpk1CCCE6\n",
              "OzvFP//5T9Hc3CwsFovYuXOn8PT0FHv27LG/ZlxcnNBqteLLL78UVqtVdHR0iJUrV4qHHnpIdHV1\n",
              "CYvFIkpKSsS5c+eEEEJs2LBBREVFXbfOP/7xjyI2NlY0NDSIl19+WSQkJIjm5mYhhBDnz58XAMSk\n",
              "SZNERUWF6OjoEA8++KBITU0VJpNJCCHEr3/9a5GVlSVKSkqExWIRH3zwgfDx8RHl5eX2GhQKhXj4\n",
              "4YdFW1ub6OjoEEIIMXPmTPHiiy8KIYTo7u4WycnJ4umnnxbt7e2ira1N3HvvvWLevHn2OmfOnCnU\n",
              "arXYv3+/sFgs4j//+Y+Qy+WirKxMCCHEyZMnhZeXl/jLX/4iOjo6hNFoFAcPHhTd3d3CarWKWbNm\n",
              "iZUrV4rGxkbR3d0tnn32WZGamip6enoG+381EY1iDJdE5DJMJpO46aabRHZ2tjCZTOKOO+4Qzz//\n",
              "vMMxr776qpg7d+41X+POO+8UTz31lP3ruLi4K15j1apVIi8vT5w8eVJYrVaHfRs2bBAymUxoNBqH\n",
              "x29+8xuH45YtWyaysrKEr6+vOHHihH37pXC5Y8cO+7bW1lahUCjE4cOHhRBCqNVqhwAshBDz5s0T\n",
              "r7zyir0GhUJhD5WX9A2XW7duFZGRkQ71V1VVCQCisrLSfvxPfvITh9cICQkR7733nhBCiJ/97Gci\n",
              "Nzf3aqdRfPvtt8LDw0O0tbXZt5nNZuHl5SWOHDly1ecQEQkhBMdcEpHLUCqVSE9Ph9lshlKpRFlZ\n",
              "Gfbt2+fQyrVYLIiNjQUAGI1GvPjii9ixYwfq6uogk8nQ2dmJ5cuXO7zumDFjHL5eu3YtXn31Vdx1\n",
              "111obm5Gbm4ufv/730Or1QLo35jLp556CrfccgtWrFiB7OzsK/b3/Z7+/v4ICQlBZWUl6urq0Nra\n",
              "invuuQdy+eWRSSaTCYmJifavw8LCrphU1FdZWRnq6uoQGBjosF2lUqGiogLR0dH299KXr68v2tra\n",
              "AADnz59HSkrKNV/fbDbbX6evysrKa9ZFRMRwSUQuKzw8HCtWrMCvfvWrq+5ft24dPvroI3z00UcY\n",
              "N24c5HI5Fi9eDPG9RTD6hjgACA4Oxvr167F+/XpUV1fj3nvvxVNPPYV//etf/arLYDDg/vvvx4MP\n",
              "Poj3338fH330Ee644w6HYy5cuID09HQAQHt7OxoaGhAdHY2AgAB4eXlh586duPXWW6/5Pb5f8/eF\n",
              "h4cjLi7OYSznQMXHx6O0tPSar+/p6Yn6+vofnABFRNQXJ/QQkct68skn8cYbb2D//v0wm80wm804\n",
              "efIkDh8+DMAW8lQqFUJDQ2G1WvHvf/8bn3766Q++7nvvvYezZ8/CarXC398fKpUKSmX//ltbCIH7\n",
              "778fycnJ+Pvf/4633noL99133xUTXV599VVUVVWhs7MTTz/9NBITEzFt2jSoVCo8+uijePbZZ1Fc\n",
              "XAwhBLq6unD48OFrBr2rueuuu2AymfDSSy/BYDAAAPR6PbZs2dLv13jsscewd+9evPnmm+jq6oLJ\n",
              "ZMKhQ4dgNBoxffp0pKen47HHHoNerwcANDc3Y+vWrejs7Oz39yAi98NwSUQua8mSJXjnnXfwq1/9\n",
              "CmFhYQgLC8NDDz2EhoYGAMAzzzyDmJgYxMXFITIyEvv378eSJUt+8HULCgowZ84c+Pv7Y+zYsQgI\n",
              "CMDatWvt+2tqauDn5+fwyMrKAgD84Q9/QGFhId555x3IZDKsWLEC9957L5YtW2afZQ0ADz74IObP\n",
              "nw+tVovS0lJ89NFH9gC7du1arFixAvfccw8CAgIQHx+PNWvWwGQy9fvc+Pv74+jRo6ioqEBGRgbU\n",
              "ajWmTZtmD979kZ6ejn379mHz5s2IjIyEVqvFb3/7W1itVigUCuzduxc+Pj6YMmUK/P39kZWVhW3b\n",
              "tg3bmqNENDJxEXUiIie6cOECxowZg7KyMocxlERE7oJXLomIiIjIaRguiYiIiMhp2BYnIiIiIqfh\n",
              "lUsiIiIichqGSyIiIiJyGoZLIiIiInIahksiIiIichqXCZevv/661CUQERER0SC5TLi8ePGi1CUQ\n",
              "ERER0SC5TLgkIiIiopGP4ZKIiIiInIbhkoiIiIichuGSiIiIiJyG4ZKIiIiInIbhkoiIiIichuGS\n",
              "iIiIiJyG4ZKIiIiInGbA4fK2225DZmYmsrOzMWPGDJw4cQIAUFZWhmnTpiEpKQmTJk3CqVOnnF4s\n",
              "EREREbm2AYfL999/H4WFhcjPz8dTTz2FVatWAQAeeeQRrF69GqWlpXjuuefs24mIiIjIfQw4XAYE\n",
              "BNj/bTAYIJPJoNfrcfz4cdx7770AgGXLlqGyshLl5eVOK9TZhBBSl0BEREQ06ihv5En33XcfDh48\n",
              "CADYvXs3KisrERERAaXS9nIymQyxsbGoqKhAYmLiFc83Go0wGo0O2ywWy42UMmB1rd343a5ilOnb\n",
              "sfuJ6ZDJZMPyfYmIiIjcwQ1N6Hn77bdRWVmJV199Fc8999yAn79mzRpoNBqHx7Fjx26klAHz91Ji\n",
              "7+k6FOtaUVRtGJbvSUREROQuBjVb/P7778fBgwcRHR0NnU4Hs9kMwNZyrqioQGxs7FWf98ILL8Bg\n",
              "MDg8Jk+ePJhS+s3HU4k5qWEAgF2FumH5nkRERETuYkDhsqWlBTU1Nfavt2/fjuDgYISFhWHChAnY\n",
              "tGkTAGDr1q2Ijo6+akscAFQqFdRqtcNDoVAM4m0MzB2ZEQCAnYU6jr0kIiIicqIBjbk0GAy45557\n",
              "0NXVBblcjtDQUOzcuRMymQxvvfUWVq1ahddeew1qtRobNmwYqpoHbVZyGHw8Fahu6UJBlQHZMQFS\n",
              "l0REREQ0KgwoXMbFxV1zbGRycjKOHj3qlKKGmpeHAvNStdhRUINdhTUMl0RERERO4rZ36MntbY3v\n",
              "YmuciIiIyGncNlzOTAqFr6cCNYZufFfRInU5RERERKOC24ZLLw8F5o/XAuCscSIiIiJncdtwCQB5\n",
              "mZEAgN1FOlitbI0TERERDZZbh8sZSSHwVylR29qN7yqapS6HiIiIaMRz63CpUiowP83WGt/J1jgR\n",
              "ERHRoLl1uASAvN5Z47uLdLCwNU5EREQ0KG4fLqcnhkLtpYS+zYjjF5qkLoeIiIhoRHP7cOmplGNB\n",
              "WjgAYFcRW+NEREREg+H24RK4vKD67qJatsaJiIiIBoHhEsAtiSHQeHugod2IY+fZGiciIiK6UQyX\n",
              "ADwUciy0t8ZrJK6GiIiIaORiuOx1qTX+cVEtzBarxNUQERERjUwMl71uHhuMQB8PNHb04Gu2xomI\n",
              "iIhuCMNlLw+FHAvTbVcvuaA6ERER0Y1huOzj0oLqe07q2BonIiIiugEMl31MGROEYF9PNHeacPRc\n",
              "o9TlEBEREY04DJd9KBVyLEy3zRrfWcDWOBEREdFAMVx+z6VZ43tO1cLE1jgRERHRgDBcfs+UMcEI\n",
              "8VPB0GXCF+UNUpdDRERENKIwXH6PQi7DoozeBdU5a5yIiIhoQBguryI3w9Ya/+RULXrMbI0TERER\n",
              "9RfD5VVMjA9CmL8Krd1mtsaJiIiIBoDh8ipsrXHb1cuPCnmvcSIiIqL+Yri8hkuzxveeqoPRbJG4\n",
              "GiIiIqKRgeHyGm6KDUS42gttRjOOlLI1TkRERNQfDJfXIO/TGt9VxFnjRERERP3BcHkd9tb46Tp0\n",
              "m9gaJyIiIvohDJfXkRMTgEiNF9qNZhwqrZe6HCIiIiKXx3B5HQ6tcS6oTkRERPSDGC5/QF5WJABg\n",
              "XzFb40REREQ/hOHyB2RFaxAV4I3OHgs+O6OXuhwiIiIil8Zw+QNkMhnyeif27GRrnIiIiOi6GC77\n",
              "4dKs8f3FenT1sDVOREREdC0Ml/2QEaVBTJA3ukwWHChha5yIiIjoWhgu+0EmkyE3wzaxZ1cR7zVO\n",
              "REREdC0Ml/10adzlgRI9OoxmiashIiIick0Ml/2UFqlGfLAPuk1WtsaJiIiIroHhsp9kMpl9Yg8X\n",
              "VCciIiK6OobLAbg07vLgGT3a2RonIiIiusKAwmV3dzeWLFmCpKQkZGVlYf78+SgvLwcAzJo1C2PG\n",
              "jEF2djays7Oxfv36ISlYSqkR/kgI8YXRbMX+4jqpyyEiIiJyOQO+crl69WqcOXMGBQUFWLx4MR56\n",
              "6CH7vvXr1yM/Px/5+fn4xS9+4dRCXUHf1jgXVCciIiK60oDCpZeXFxYtWgSZTAYAmDp1Ki5cuDAU\n",
              "dbmsvExba/zQmXq0dZskroaIiIjItQxqzOXrr7+OxYsX279+/vnnkZGRgeXLl+PcuXPXfJ7RaERr\n",
              "a6vDw2IZGXe+SdL6ITHMDz0WK/axNU5ERETk4IbD5WuvvYby8nKsWbMGAPDOO++gpKQEhYWFmDFj\n",
              "BvLy8q753DVr1kCj0Tg8jh07dqOlDCvbguqcNU5ERER0NTIhhBjok9auXYv33nsP+/btQ0BAwFWP\n",
              "8fLyQnV1NYKDg6/YZzQaYTQaHba99NJLeP311wdaiiRK69pw2/rD8FDIcPyX86Hx9pC6JCIiIiKX\n",
              "MOArl+vWrcPmzZuxd+9ee7A0m82oq7vcIt66dSu0Wu1VgyUAqFQqqNVqh4dCobixdyCBJK0/krR+\n",
              "MFkE9p5ma5yIiIjoEuVADq6qqsLTTz+NhIQEzJ49G4AtKB44cAC5ubkwGo2Qy+UICQnBjh07hqRg\n",
              "V5GXGYl1e0uxq7AGd98ULXU5RERERC5hQOEyOjoa1+qiHz9+3CkFjRSLMiKwbm8pjpQ1wNBpgsaH\n",
              "rXEiIiIi3qHnBiWG+SEl3B9mq8Anp2ulLoeIiIjIJTBcDkIeF1QnIiIicsBwOQiLepck+qK8Ac0d\n",
              "PRJXQ0RERCQ9hstBSAj1w/gINSxWgU9OsTVORERExHA5SHlZvQuqF7E1TkRERMRwOUiX7tbz5dlG\n",
              "NLYbf+BoIiIiotGN4XKQ4oJ9kRGl6W2Nc0F1IiIicm8Ml06Qa581XiNxJURERETSYrh0gkut8a/O\n",
              "NaK+ja1xIiIicl8Ml04QE+SDrJgAWAWwh7PGiYiIyI0xXDpJXu/Vy11sjRMREZEbY7h0ktszwgEA\n",
              "X59vgr6tW+JqiIiIiKTBcOkk0YE+yIkNgBDAx0VsjRMREZF7Yrh0olx7a5wLqhMREZF7Yrh0okv3\n",
              "Gv/mYhNqDWyNExERkfthuHSiyABvTIwLtLXGT/LqJREREbkfhksnu7SgOlvjRERE5I4YLp3s9vQI\n",
              "yGTA8YvN0Bm6pC6HiIiIaFgxXDpZuMYLk+KCAPDqJREREbkfhsshYG+NFzFcEhERkXthuBwCt2eE\n",
              "QyYDTlS0oKq5U+pyiIiIiIYNw+UQCPP3wpQxttY4F1QnIiIid8JwOURyMyMBADvZGiciIiI3wnA5\n",
              "RBamhUMuAwoqW1DZxNY4ERERuQeGyyES6q/C1IRgAJzYQ0RERO6D4XIIcUF1IiIicjcMl0NoYVo4\n",
              "FHIZiqoNuNjYIXU5REREREOO4XIIBfupMG0sW+NERETkPhguh1huBlvjRERE5D4YLofYgt7W+Kma\n",
              "VpxvYGuciIiIRjeGyyEW6OuJWxJDAAC7CmskroaIiIhoaDFcDoO83lnjO9kaJyIiolGO4XIYLBgf\n",
              "Dg+FDCW1bSjXt0tdDhEREdGQYbgcBhofD0zvbY3v5qxxIiIiGsUYLoeJ/V7jHHdJREREoxjD5TCZ\n",
              "P14LD4UMpXXtKK1rk7ocIiIioiHBcDlMNN4euHVcKACueUlERESjF8PlMMrL6l1QvUgHIYTE1RAR\n",
              "ERE5H8PlMJqXqoWnUo5yfTtK6zhrnIiIiEafAYXL7u5uLFmyBElJScjKysL8+fNRXl4OANDr9Vi4\n",
              "cCHGjRuH9PR0HD58eEgKHsn8vTwwM+lSa5wTe4iIiGj0GfCVy9WrV+PMmTMoKCjA4sWL8dBDDwEA\n",
              "nn/+eUydOhVlZWXYsGEDVq5cCZPJ5PSCR7q+C6qzNU5ERESjzYDCpZeXFxYtWgSZTAYAmDp1Ki5c\n",
              "uAAAeP/99/Hoo48CACZNmoTIyEgcOnTIudWOAnNTtVAp5TjX0IFiHWeNExER0egyqDGXr7/+OhYv\n",
              "XozGxkaYTCaEh4fb98XHx6OiouKqzzMajWhtbXV4WCyWwZQyYviplJidHAYA2FXE1jgRERGNLjcc\n",
              "Ll977TWUl5djzZo1A37umjVroNFoHB7Hjh270VJGnNze1vgutsaJiIholLmhcLl27Vp88MEH+Pjj\n",
              "j+Hj44Pg4GAolUrU1tbaj7lw4QJiY2Ov+vwXXngBBoPB4TF58uQbewcj0JyUMHh5yHGhsROnalql\n",
              "LoeIiIjIaQYcLtetW4fNmzdj7969CAgIsG+/55578OabbwIAvvnmG1RXV2PmzJlXfQ2VSgW1Wu3w\n",
              "UCgUN/YORiBflRJzUmyt8Z1cUJ2IiIhGkQGFy6qqKjz99NNoaWnB7NmzkZ2djSlTpgAA/vCHP+DL\n",
              "L7/EuHHjsGrVKmzatAkeHh5DUvRokJthu9f4rqIatsaJiIho1FAO5ODo6OhrBiGtVotPP/3UKUW5\n",
              "g9kpofD2UKCyqQtF1QZkRgdIXRIRERHRoPEOPRLx8VRibmrvrHG2xomIiGiUYLiUEBdUJyIiotGG\n",
              "4VJCs5LD4OOpQHVLFwqqDFKXQ0RERDRoDJcS8vJQYF6qFgCws4ALqhMREdHIx3ApsUsLqu8u0sFq\n",
              "ZWuciIiIRjaGS4nNTAqFn0qJGkM3TlS2SF0OERER0aAwXErMy0OB+eNtrXHOGiciIqKRjuHSBeRm\n",
              "sDVOREREowPDpQuYkRQCf5USta3d+LaiWepyiIiIiG4Yw6ULUCkVmJ/G1jgRERGNfAyXLiKvz6xx\n",
              "C1vjRERENEIxXLqI6YmhUHspoW8z4viFJqnLISIiIrohDJcuwlMpx4K0cADAriK2xomIiGhkYrh0\n",
              "IZcXVK9la5yIiIhGJIZLF3JLYgg03h5oaDfi6/ONUpdDRERENGAMly7EQyHHwkutcc4aJyIiohGI\n",
              "4dLF5GXZWuN7TtbCbLFKXA0RERHRwDBcupibE4IR6OOBxo4efH2es8aJiIhoZGG4dDFKhRwL021X\n",
              "L3eyNU5EREQjDMOlC7q0oPqekzqY2BonIiKiEYTh0gVNGROEYF9PNHeacPQsZ40TERHRyMFw6YJs\n",
              "rXHOGiciIqKRh+HSReVlRgIA9pyqZWuciIiIRgyGSxc1eUwQQvxUMHSZ8EV5g9TlEBEREfULw6WL\n",
              "UshlWJTB1jgRERGNLAyXLiw3wzZr/JNTtegxszVOREREro/h0oVNjA9CmL8Krd1mfF5eL3U5RERE\n",
              "RD+I4dKF2VrjXFCdiIiIRg6GSxd3aUH1vafqYDRbJK6GiIiI6PoYLl3chNhAhKu90GY040gpZ40T\n",
              "ERGRa2O4dHFyh9Z4jcTVEBEREV0fw+UIkHupNX66Dt0mtsaJiIjIdTFcjgA5MQGI1Hiho8eCQ6Wc\n",
              "NU5ERESui+FyBJDLZfarl1xQnYiIiFwZw+UIkdt7r/F9xWyNExERketiuBwhsqI1iArwRmePBZ+d\n",
              "0UtdDhEREdFVMVyOEDKZzL7m5UdsjRMREZGLYrgcQS6NuzxQrEdnj1niaoiIiIiuxHA5gmREaRAb\n",
              "5IMukwUHSzhrnIiIiFwPw+UIIpP1mTVexAXViYiIyPUMKFw+8cQTiI+Ph0wmQ35+vn17fHw8kpOT\n",
              "kZ2djezsbGzZssXZdVKv3N679Rwo0aPDyNY4ERERuZYBhcu7774bn3/+OeLi4q7Yt2XLFuTn5yM/\n",
              "Px/Lly93WoHkKC1SjfhgH3SbrNhfwlnjRERE5FoGFC5vvfVWREdHD1Ut1A8OrXHea5yIiIhcjNPG\n",
              "XN53333IyMjAgw8+iPr66082MRqNaG1tdXhYLFwYvL9yM2wLqh88U492tsaJiIjIhTglXB4+fBiF\n",
              "hYX47rvvEBISgvvvv/+6x69ZswYajcbhcezYMWeU4hZSI/yREOqLHrMV+4vrpC6HiIiIyM4p4TI2\n",
              "NhYA4OHhgZ///Oc4cuTIdY9/4YUXYDAYHB6TJ092RiluQSaTIa93Ys9OLqhORERELmTQ4bKjowMt\n",
              "LS32rzdv3oycnJzrPkelUkGtVjs8FArFYEtxK5fuNX7oTD3auk0SV0NERERkM6Bw+cgjjyA6OhpV\n",
              "VVVYsGABEhMTUVdXh9mzZyMzMxMZGRk4dOgQ3n777aGql3olaf2QGOaHHosVe0+zNU5ERESuQTmQ\n",
              "g996662rbj9x4oRTiqH+k8lkyM2IwOv7y7CrUIe7JnAWPxEREUmPd+gZwfJ6lyQ6XFYPQxdb40RE\n",
              "RCQ9hssRbJzWH8laf5gsgq1xIiIicgkMlyMcF1QnIiIiV8JwOcIt6l2S6EhZA1o6eySuhoiIiNwd\n",
              "w+UIlxjmh5Rwf5itAp+eYmuciIiIpMVwOQpcmtizs4gLqhMREZG0GC5HgUsLqn9R3oDmDrbGiYiI\n",
              "SDoMl6PAmBBfpEWqYbEKfHKqVupyiIiIyI0xXI4S9lnjbI0TERGRhBguR4nc3lnjX55tRGO7UeJq\n",
              "iIiIyF0xXI4SccG+yIjSwGIV2MPWOBEREUmE4XIUybMvqM7WOBEREUmD4XIUubSg+lfnGlHfxtY4\n",
              "ERERDT+Gy1EkJsgHWTEBsAqwNU5ERESSYLgcZfJ6r17uLOC9xomIiGj4MVyOMrdnhAMAjl1ogr61\n",
              "W+JqiIiIyN0wXI4y0YE+yIkNgBDAxyfZGiciIqLhxXA5CuX13g6Ss8aJiIhouDFcjkKLelvj31xs\n",
              "Qq2BrXEiIiIaPgyXo1CExhsT4wJ7W+O8eklERETDh+FylLp0r/GdbI0TERHRMGK4HKUWZURAJgO+\n",
              "vdiMmpYuqcshIiIiN8FwOUpp1V6YFB8EANhdxKuXRERENDwYLkcx+73GGS6JiIhomDBcjmIL08Mh\n",
              "kwEnKlpQ1dwpdTlERETkBhguR7Ewfy9MGcPWOBEREQ0fhstRLpcLqhMREdEwYrgc5RamhUMuAwqq\n",
              "DKhsYmuciIiIhhbD5SgX6q/CzWODAXBiDxEREQ09hks3kJvB1jgREREND4ZLN7AgTQuFXIaiagMu\n",
              "NnZIXQ4RERGNYgyXbiDYT4Vpva1x3g6SiIiIhhLDpZvIzehdUJ3hkoiIiIYQw6WbWJAWDqVchtO6\n",
              "Vpyrb5e6HCIiIhqlGC7dRKCvJ25JDAHABdWJiIho6DBcupHc3nuNc9wlERERDRWGSzeyYHw4PBQy\n",
              "lNS2oVzP1jgREdFIJoRAj9kqdRlXYLh0IxofD0zvbY1zYg8REdHIVFbXhnV7SzFv3SH8eV+p1OVc\n",
              "QSl1ATS8cjMjcfBMPXYV1eDJeeOkLoeIiIj6oVzfjl2FOuwqqkFp3eXu497TdXh2YYqElV1pQOHy\n",
              "iSeewI4dO3Dx4kWcOHEC2dnZAICysjLcf//9aGhogEajwcaNG5GWljYU9dIgzR+vhadCjtK6dpTW\n",
              "tSFJ6y91SURERHQV5xs6sKuwBjsLdSipbbNv91TIcWtSCHIzIzAvVSthhVc3oHB5991349lnn8X0\n",
              "6dMdtj/yyCNYvXo1Vq1ahf/85z9YtWoVvvnmG6cWSs6h8fbArUkh2Fesx65CHZLmM1wSERG5iouN\n",
              "HdhZqMOuQh1O61rt25VyGWaMC0FeZiTmjddC4+0hYZXXN6Bweeutt16xTa/X4/jx4/j0008BAMuW\n",
              "LcPjjz+O8vJyJCYmOqdKcqrczAhbuCzS4efzxkEmk0ldEhERkduqbOrEriJboCyqNti3K+Uy3JJo\n",
              "u0K5YHw4ND6uGyj7GvSYy8rKSkRERECptL2UTCZDbGwsKioqrhkujUYjjEajwzaLxTLYUqif5qVq\n",
              "4amUo1zfjjN1bUgJV0tdEhERkVupbunC7kIddhbpUFDZYt+ukMswbWwwcjMisCAtHIG+ntIVeYMk\n",
              "mdCzZs0avPzyyw7bpk6dKkUpbsnfywMzk0Kx93QddhXqGC6JiIiGgc7Qhd1FtdhZWIMTFS327XIZ\n",
              "MDUhGHmZkViQpkWwn0q6Ip1g0OEyJiYGOp0OZrMZSqUSQghUVFQgNjb2ms954YUX8NRTTzlse+ml\n",
              "lwZbCg1AXmaEPVw+NT+JrXEiIqIhUNfajd29Le/jF5vt22UyYHJ8EPKyIrEwLRyh/iM7UPY16HAZ\n",
              "FhaGCRMmYNOmTVi1ahW2bt2K6Ojo6463VKlUUKkcT6JCoRhsKTQAc1O1UCnlONfQgWJdG8ZH8uol\n",
              "ERGRM+jburHnZC12FurwzYUmCGHbLpMBk+KCkJsZgdvTwxGm9pK20CEyoHD5yCOPYNeuXaitrcWC\n",
              "BQvg7++P8vJyvPXWW1i1ahVee+01qNVqbNiwYajqJSfxUykxOzkMe07VYldRDcMlERHRIDS0G3sD\n",
              "ZQ2+Pn85UALATXGByM2IwKKMCIRrRmeg7GtA4fKtt9666vbk5GQcPXrUKQXR8MnNjMCeU7b/snrm\n",
              "tmS2xomIiAagqaMHe07aLtIcPdsIa59AmR0TgLxMW6CMDPCWrkgJ8A49bmxOShi8POS42NiJUzWt\n",
              "SI/SSF0SERGRS2vp7MEnvRdmvjzbCEufRJkVrelteUcgJshHwiqlxXDpxnxVSsxJCeuduaZjuCQi\n",
              "IroKQ6cJn56uxa4iHT4va4C5T6BMj1IjNyMSuRkRiA1230DZF8Olm8vLjMTuItsl/ecWsjVOREQE\n",
              "AK3dJuzrXVXlcFk9TJbLgTI1Qo28zAjkZkQgPsRXwipdE8Olm5udHAZvDwUqm7pQVG1AZnSA1CUR\n",
              "ERFJot1oxr7TddhZqMPh0nr0WKz2fclaf+RmRiA3MwJjQ/0krNL1MVy6OW9PBeamhtnvY8pwSURE\n",
              "7qTDaMb+Ej12Fdbg4Jl69JgvB8rEMD/7FcpxWn8JqxxZGC4JeZkR2Fmow85CHZ6/PYWtcSIiGtU6\n",
              "e8w4WFKPXUU1OFCiR7fpcqBMCPG1BcrMSCRp/fg38QYwXBJmJYfB11OB6pYu5Fe2ICc2UOqSiIiI\n",
              "nKrbZMFnZ/T4qFCHA8V6dJks9n3xwT7IzYxAXmYkUsL9GSgHieGS4OWhwLzxWnyYX4NdhTqGSyIi\n",
              "GhW6TRYcKq3HrkId9hXXobPncqCMCfJGXqZtlndapJqB0okYLgkAkJsRgQ/za7C7SIf/b1Eq5HL+\n",
              "kBER0chjNFtwpLQBu4p02Hu6Du1Gs31fVIB3b8s7AhlRGgbKIcJwSQCAW5NC4adSosbQjROVLbgp\n",
              "jlcviYhoZOgxW/FFeQM+KqzB3lN1aOsTKCM0XsjNsAXK7JgABsphwHBJAGyt8fnjtdh2oho7C2sY\n",
              "LomIyKWZLLZAuatQh09O1aK1+3Kg1KpVWJQRgbzMCOTEBLIbN8wYLskuNyMC205UY3eRDi/ljucP\n",
              "IxERuRSzxYqj5xqxq1CHPadq0dJpsu8L9VfZr1DeFMtAKSWGS7KbkRQCfy8l6lqN+LaiGZPig6Qu\n",
              "iYiI3JzZYsWx8034qPcKZVNHj31fiJ8nbk+3BcpJ8UFQMFC6BIZLslMpFbhtfDi2fleFXYU6hksi\n",
              "IpKExSrwzYUm7CyswZ6TtWhovxwog3w9sTA9HHkZEZiSEMxA6YIYLslBXmYEtn5XZWuN543nDy0R\n",
              "EQ0Lq1Xg+MVm7Cqswe6TtahvM9r3Bfh4YGFaOPIyIzE1IQhKhVzCSumHMFySg1sSQ6D2UkLfZsTx\n",
              "C02YkhAsdUlERDRKWa0CJyqbsbNQh91FOtS1Xg6Uai8lFqSFIy8rEtPGBsODgXLEYLgkB55KORak\n",
              "hePf31ZhZ6GO4ZKIiJxKCIFiXRu251djZ0ENagzd9n3+XkrcNj4ceZkRuCUxBJ5KBsqRiOGSrpCb\n",
              "GYF/f1uFj0/q8Js709gaJyKiQdMZuvBhfg22fVeNM3Vt9u1+KiXmj9ciNyMCM5JCoFIqJKySnIHh\n",
              "kq5wS2IIAnw80NDeg6/PN2La2BCpSyIiohGorduEj0/WYtt31fjqfCOEsG33VMgxNzUMi7OjMCs5\n",
              "FF4eDJSjCcMlXcFDIcfCtHC8900ldhXqGC6JiKjfTBYrDpfWY9uJauw9XQej2WrfN3lMEJbmRGFR\n",
              "egQ0Ph4SVklDieGSrio3MwLvfVOJPSdr8fKdaZyZR0RE1ySEQH5lC7afqMZHhTqHtSjHhvrirgnR\n",
              "uDMrEjFBPhJWScOF4ZKu6uaEYAT6eKCxowdfnWvC9HG8eklERI4uNnZg+4kabM+vxvmGDvv2ED8V\n",
              "7syKxNKcKKRHqXk/bzfDcElXpVTIsTA9ApuPVWBXUQ3DJRERAQCaO3qws0iH7Seq8e3FZvt2bw8F\n",
              "FqRpsSQnCtMTQ9jxcmMMl3RNeZm2cLnnZC1+uzida4wREbmpbpMFB0v0+OBENT47o4fJYpuZI5fZ\n",
              "JoEuzYnCbWnh8FMxVhDDJV3HlDFBCPHzREN7D46ebcStSaFSl0RERMPE2nsLxm0nqrGrSIe2brN9\n",
              "3/gINZbmROHO7Eho1V4SVkmuiOGSrsnWGg/Hpq8qsKtQx3BJROQGyvVt2HaiGttP1KC6pcu+PULj\n",
              "hcXZUViaE4XkcH8JKyRXx3BJ15WbEYlNX1Vgz6lavLqUrXEiotGovs2IHQU12H6iGkXVBvt2f5US\n",
              "t2eEY0lOFKaOCYacN9WgfmC4pOuaPCYIIX4qNLQb8Xl5A2Ynh0ldEhEROUFnjxmfnqrDthPV+Ly8\n",
              "ARarbRylUi7DrORQLMmJwrxULRc4pwFjuKTrUshlWJQRjrePXsSuQh3DJRHRCGaxCnxR3oDtJ6qx\n",
              "51QtOnss9n05sQFYmhOF3IwIBPupJKySRjqGS/pBeZmRePvoRXxyqhavLc2Ap5KtcSKikUIIgdO6\n",
              "Vmz7rho7CmqgbzPa98UF+2BJdhSW5ERhTIivhFXSaMJwST9oYlwgwvxV0LcZ8Xl5PeakaKUuiYiI\n",
              "fkBNSxe251dj+4lqlNa127cH+HggLzMCS3OiMSE2gAuck9MxXNIPkstlWJQRgY1fXsDOQh3DJRGR\n",
              "i2rtNmFPUS0+OFGFr883QdiGUcJTKce81DAszYnGzKRQdqBoSDFcUr/kZdrC5d5Tdeg2WTjAm4jI\n",
              "RZgsVhw6U49t+dXYd7oORrPVvm/KmCAszYnC7RkR0Hh7SFgluROGS+qXCbGBCFd7oba1G0fKGjB/\n",
              "PK9eEhFJRQiBE5Ut2H6iGh8V1KC502Tflxjmh6U5tnGUUQHeElZJ7orhkvrlUmv8n1+cx67CGoZL\n",
              "IiIJXGzs6F3gvBoXGjvt20P8VFicHYmlOVFIi1RzHCVJiuGS+i0vyxYu955ma5yIaLg0d/RgZ5EO\n",
              "276rwncVLfbt3h4KLEy3LXB+y9hgKHmTC3IRDJfUbzkxAYgK8EZ1SxcOldZjQVq41CUREY1K3SYL\n",
              "DpTo8cF31ThUqofJYpuZI5cBtySG4K4JUbhtfDh8VfwzTq6Hn0rqN5nMtqD634+cx65CHcMlEZET\n",
              "Wa0Cxy40Ydt31dh9Uoe2brN9X1qkGktzonBnViTC1F4SVkn0wxguaUByMyPx9yPnsa+4Dl09Fnh7\n",
              "sjVORDQYZXVt2HaiGh/m16C6pcu+PVLjhcU5UViaE4Ukrb+EFRINDMMlDUhWtMbeGv/7kXO4/+Z4\n",
              "aHy4vAUR0UDo27qxI78G2/OrcbK61b7dX6XEoowILJ0QhcnxQZDLOTGHRh6nhsv4+HioVCp4e9uW\n",
              "PnjhhRewfPlyZ34LkphMJsMdWZF489BZrNtbitf3l+GmuEDMSw3DnBQtxob6cpYiEdFVdPaY8cmp\n",
              "Wmw7UYPPy+ph7V3gXCmXYVZyGJbmRGFuahgnS9KI5/Qrl1u2bEF2drazX5ZcyGOzxkIhB/ad1uNM\n",
              "XRuOnW/CsfNNeG13CeKCfTA3RYu5qWGYFB/Eu0AQkVszW6z48mwjtp2oxienatHZY7HvmxAbgKU5\n",
              "UcjNjESQr6eEVRI5lyRtcaPRCKPR6LDNYrFc42hyNRpvD/zPghT8z4IUVDZ14kCJHvtL9PjqbCMu\n",
              "Nnbin1+cxz+/OA8/lRK3JoVgTooWs5NDEeynkrp0IqIhJ4TAqZpWbDtRjR0FNahvu/z3Li7Yx7bA\n",
              "eXYU4kN8JaySaOjIhLh059HBi4+Ph1qthhACkydPxu9//3uEhoZecdxvfvMbvPzyyw7bpk6diqNH\n",
              "jzqrFJJAh9GMz8sbsL+4DgdK6tHQfvkXqkxmW8pobqoWc1LCkBLuz/Y5EY0q1S1d+DC/Gtu+q0aZ\n",
              "vt2+PdDHA3dkRWJJThRyYgL4u49GPaeGy4qKCsTGxsJkMuGXv/wlioqKsHv37iuOu9qVy5deegmv\n",
              "v/66s0ohiVmtAkXVBuwv0WN/cR1O1bQ67I8K8MaclDDMSQ3DzQnBHGNERCNSa7cJHxfpsO1ENb46\n",
              "12Tf7qmUY36qFktzonBrUiiHCJFbcWq47Eun0yEpKQltbW39Ov6pp57CunXrhqIUcgG1hm4cKNHj\n",
              "QEkdPi9vQLfJat/n7aHA9HEhmJsShjkpYVzDjYhckhAC9W1GFNe2oUTXihMVLThwRo8e8+XfZ1MT\n",
              "gnBXTjQWZoRD7cWVNMg9OW3MZUdHB0wmEwICAgAAmzdvRk5OjrNenka4cI0XVk6JxcopsejqseDo\n",
              "uQbsL9bjQIkeOkM39p6uw97TdQCAjCgN5qaGYW6KFmmRai7FQUTDrttkQbm+HcW6VpTUtqGkthXF\n",
              "ujY0dfRccey4MD8snRCFxdlRiArwlqBaItfitHBZV1eHZcuWwWKxQAiBhIQEvP322856eRpFvD0V\n",
              "mJOixZwULYQQOK1rxYFi26SggqoWFFUbUFRtwJ/3lSHMX4W5vcsc3ZIYDB9PLs1KRM4jhIDO0G0P\n",
              "jyW9VyXPNXTAYr2ysSeXAWNCfJESoUZquD9mJYchLVLNcZREfQxZW3yg2BYnAKhvM+LgGT0OFOtx\n",
              "pKweHX2W7fBUyjFtbLCtfZ6q5RUCIhqQrh4LztTZwmNJbZv9qqShy3TV4wN8PJAarkZKhL/9f8eF\n",
              "+fPOZEQ/gOGSXJbRbMGx803YX6zHvuI6VDV3OexPCfe3X9XMjgmAgu1zIoLtamRVc1efANmKEl0b\n",
              "zjd24Gp/8RRyGcaG+iI1Qo2UPmFSq1bxiiTRDWC4pBFBCIFyfbt99vm3F5vRt2MV7OuJWclhmJsa\n",
              "hhnjQuDPgfREbqHdaMYZ+5hIW4g8U9uGNqP5qseH+Hn2hkh/e5BMDPODSsmrkUTOwgFsNCLIZDKM\n",
              "0/pjnNYfj84ci+aOHhwqrcf+Ej0+O6NHY0cPtn5Xha3fVcFDIcOUMcGYk2ILm3HBXKiYaKSzWgUq\n",
              "mjrtYyMvtbQrmjqveryHQobEMH+k9mlpp4SrEerPmzkQDTVeuaQRz2Sx4viFZhwoqcP+Ej3O1Xc4\n",
              "7B8b6ot5vYu33xQXCKWC680RuTJDl6nP1UhbkCyta3O4dWJfWrUKKeFqpEaokdobIhNCfeHBn3Ui\n",
              "STBc0qhzvqGj9y5Behw73wRzn/65xtsDM5NCMTc1DLOSwqDxYfucSCoWq8D5hg77mMhLYbK6peuq\n",
              "x6uUciRp/ZES7m9rbfcGSd6Xm8i1MFzSqNbabcLh0nocKNbj4Bk9mjsvzwpVyGW4KS4Qc1PCMDdV\n",
              "i7Ghvhy8TzREmjt6UNwnRJbU2sZGGvssQN5XVIC3bVxkhL99ok18sA87D0QjAMMluQ2LVSC/shn7\n",
              "im1LHZ2pc7x7VFywj22cZooWk8cE8XZtRDfAZLHiXH1Hn3UjbYGytrX7qsd7eyiQHN47NrI3RCaH\n",
              "+0Pjza4C0UjFcEluq7KpEwfP6LGvWI+vzjaix3L5CoqfSolbk0IwJ0WL2cmhCPbjJACi72toN6Kk\n",
              "d0zkpauS5fp2h5+lvmKDfHqvRqoxvrelHRvkw7twEY0yDJdEADqMZnxe3mC/U1BDu9G+TyYDcmIC\n",
              "MLd3UlBKuD/b5+RWjGYLzuo7Lq8ZWduGYl2bw89JX34qpb2lbZto44/kcDX8VFyghMgdMFwSfY/V\n",
              "KlBUbcD+Ej0OlNThZHWrw/6oAG/MSQnDnNQw3JwQDC8Pro9Ho4MQAvo2o32Zn0vrRp6tb3eYGHeJ\n",
              "TAaMCfa1h8hLE22iA735H2BEbozhkugH1Bq6caA3aH5e3oBu0+WWn7eHArckhmBeahhmp4RBq/aS\n",
              "sFKi/jOaLSitbbe3sy9dlew76a0vtZeyd6kftb21naT1g48nr0YSkSP+ViD6AeEaL6ycEouVU2LR\n",
              "bbLgy7MN2F+sx4ESPXSGbuwrrsO+4joAQEaUBnNSwjAvVYu0SDXHkpHL6DFbUVDVgqNnG/HVuUZ8\n",
              "e7H5qjO1FXIZEkJ8kRJx6Uqk7apkhMaLVyOJqF8YLokGwMtDgTkpWsxJ0UIIgWJdG/YX2xZvL6hq\n",
              "QVG1AUXVBry+vwxh/ipb+zwlDNPHhfAKDw0rk8WKwioDvjrXiKNnG3H8YpPDVXcACPTxwPhItUNL\n",
              "OzHMj0M9iGhQ2BYncpL6NiMOnrEtc3SkrB4dfe4m4qmUY9rYYMxNCcOcVC2iArwlrJRGI7PFipM1\n",
              "rTh6thFHzzXi+IWmK+5oE+zriakJwZg6Nhg3JwRzbVciGhIMl0RDwGi24Nj5Juwv1mN/SR0qmxzv\n",
              "OJIS7o+ZSaHIiglAVkwAItlypAGyWAVO1Vy+MvnNhWa0G80OxwT6eNjCZEIwbh4bjHFhfvycEdGQ\n",
              "Y5+OaAiolArMGBeKGeNC8es7xqNc3479JXrsL67DtxebUVLbhpLay4u4h/h5Iis6AJnRAciK0SAr\n",
              "OgCBvKUd9WG1CpzWtdrD5LHzTWj7XpjUeHtgypgge5hM1vpz3C8RDTuGS6IhJpPJME7rj3Fafzw6\n",
              "cyyaO3pwqLQexy40obCqBSW6NjS099jCZ4ne/rzYIB9kRmuQHWMLnelRao7bdCNWq8CZujZ7m/vY\n",
              "+SYYuhxncvt7Ke1hcmpCMFIj1FAwTBKRxPiXimiYBfp6YklOFJbkRAEAuk0WnNa1oqCyBYVVBhRU\n",
              "tuBcQwcqmjpR0dSJnYU6AIBcBiRp/ZEVbWulZ0ZrkBzuDw/ea3lUEEKgtK7dfmXy6/ONVywL5KdS\n",
              "YlJ8IG4eG4ybE0IwPpJhkohcD8MlkcS8PBSYEBuICbGB9m2GLhOKqgwoqGpBQWULCqpaUNdqtLfT\n",
              "txyvBAColHKkRaptYzd7Q2d8sA/H1Y0AQgicrW/vXRqoCV+da0RjR4/DMT6eCkyMD8LNvW3u9Eg1\n",
              "lPyPCSJycQyXRC5I4+2B6eNCMH1ciH1braEbBVUtKKxqQUGlLXi2dZvxXUULvqtosR+n9lLar2xe\n",
              "Cpxc3F16Qgicb+jA0d4rk1+da7ri9oleHnJMir/c5s6M1vDKNBGNOAyXRCNEuMYL4ZpwLEgLB2Ab\n",
              "k3ehsQOFVQbkV9pC58maVrR2m3GkrAFHyhouP1ftZQubMQHIjglARrQGai8Pqd6KWxBCoKKp0z5m\n",
              "8qtzjahrdQyTKqUcN8UF4ube5YGyogPgqWSYJKKRjeGSaISSy2VICPVDQqifffymyWLFmdo2ezu9\n",
              "sMqA0ro21LZ2o/Z0Nz49XWd/fkKor+3KZrQGmTEBGB+h5uLZg1TZ1GkLkr2BUmfodtjvqZAjJzYA\n",
              "N4+1XZnMjgngOSeiUYfhkmgU8VDIkR6lQXqUBv9vShwAoMNoxqmaVvvYzYKqFlQ2deFcfQfO1Xdg\n",
              "24lqAIBSLkNKRO+Eod52emKYHyeMXEd1S5f9dopHzzaiusVxPVMPhQzZMQH2K5MTYgMZJolo1GO4\n",
              "JBrlfFVKTB4ThMljguzbmjp6bOM3Ky9PGmrs6MHJ6lacrG7Fv76uAGCbUJIepUFWb0s9KzoA0YHe\n",
              "bjthqNbQjaPnGuxjJiuaOh32K+UyZMUEYGpCEG5OCMFNcYHw9mSYJCL3wnBJ5IaCfD0xOzkMs5PD\n",
              "ANjGB1a3dNmXQsqvbMHJagM6emx3Gjp2vsnhuZcnC2mQGR2AED+VVG9lSOlbu+3jJY+ebcSFRscw\n",
              "qZDLkBGlsS9aPjEuEL4q/lolIvfG34JEBJlMhuhAH0QH+mBRRgQA2+0Fz9a329vphVUGFOta0dTR\n",
              "g8/O1OOzM/X250cHejuEzYwozYgMWfVtRnx1KUyea8S5+g6H/XIZkB6lsbW5E4IxMT4Q/pwYRUTk\n",
              "YOT99ieiYaGQy5Ck9UeS1h/3TIwBYFvwvaS27fL4zcoWnK3vQFVzF6qau7Cr6PKC74lhfrZbWsYE\n",
              "IDs6AMnh/i43E7qx3YivzzfZx02W6dsd9stkwPgItX2dyYnxQdB4M0wSEV0PwyUR9ZuXhwLZvcsZ\n",
              "XdLabcLJKgPy+4zh1Bm6UVrXjtK6dvz72yoAgKdSjvERavv4zczoACSE+A7rva+bO3rw9fkme5v7\n",
              "TF3bFcekhPv33gEnGJPHBCHAh/d4JyIaCIZLIhoUtZcHpiWGYFri5QXf9a3dKKgyoLCqpXcNTgMM\n",
              "XSbk947nxNGLAAB/lRIZfSYLZcVoEK72ctqEIUOnCccuNNnXmiypbYUQjscka/1tE3DGBmPKmGAE\n",
              "+jJMEhENBsMlETldmNoL88d7Yf54LQDbhKGLjZ29rXRD74LvBrQZzfjybCO+PNt4+bn+KmRGByC7\n",
              "d/xmZrSm31cPW7tN+ObSlclzjThVc2WYTAzzs4+ZnJIQNGonIxERSYXhkoiGnEwmQ3yIL+JDfLE4\n",
              "27bgu9liRWlde5/7p9sWfNe3GbGvuA77ii8v+B4f7GNvpWfHaJAWqYGXhwLtRjO+udCEr3rHTBZV\n",
              "G2D9XphMCPHF1N5Fy6cmBCHMn7fCJCIaSgyXRCQJpUKO8ZFqjI9UY8XkWABAV48Fp2oM9lZ6QVUL\n",
              "LjZ24kLv48P8GgC2yUYxgd6obO6C5XtpMi7Yxz4BZ8qYYIRrGCaJiIYTwyURuQxvTwUmxgdhYvzl\n",
              "Bd+bO3pQWG1AYe8M9fxKAxrajfY1J2OCvDF1TLD9loqRAd5SlU9ERGC4JCIXF+jriZlJoZiZFArA\n",
              "Nn5TZ+hGmb4dCSG+iAnykbhCIiLqi+GSiEYUmUyGyABvXqEkInJRrrWiMRERERGNaAyXREREROQ0\n",
              "DJdERERE5DQMl0RERETkNE4Nl2VlZZg2bRqSkpIwadIknDp1ypkvT0REREQuzqnh8pFHHsHq1atR\n",
              "WlqK5557DqtWrXLmyxMRERGRi3NauNTr9Th+/DjuvfdeAMCyZctQWVmJ8vJyZ30LIiIiInJxTlvn\n",
              "srKyEhEREVAqbS8pk8kQGxuLiooKJCYmOhxrNBphNBodtlksFmeVQkREREQSkWRCz5o1a6DRaBwe\n",
              "x44dk6IUIiIiInIip4XLmJgY6HQ6mM1mALZbtFVUVCA2NvaKY1944QUYDAaHx+TJk51VChERERFJ\n",
              "xGnhMiwsDBMmTMCmTZsAAFu3bkV0dPQVLXEAUKlUUKvVDg+FQuGsUoiIiIhIIjIhhHDWi505cwar\n",
              "Vq1CY2Mj1Go1NmzYgIyMjH4996677kJ8fLyzSrkui8WCY8eOYfLkyQy1N4jncHB4/gaP53BweP4G\n",
              "j+dwcHj+Bk+KcxgXF4cnn3zyusc4NVyOFK2trdBoNDAYDFCr1VKXMyLxHA4Oz9/g8RwODs/f4PEc\n",
              "Dg7P3+C56jnkHXqIiIiIyGkYLomIiIjIaRguiYiIiMhp3DJcqlQq/PrXv4ZKpZK6lBGL53BweP4G\n",
              "j+dwcHj+Bo/ncHB4/gbPVc+hW07oISIiIqKh4ZZXLomIiIhoaDBcEhEREZHTMFwSERERkdMwXPbT\n",
              "n//8Z9TW1kpdBo1wFy5cwJtvvnndYyZOnIjPPvtseAoa4WpqajBjxgypy3Ap3d3dWLJkCZKSkpCV\n",
              "lYX58+ejvLwcADBr1iyMGTMG2dnZyM7Oxvr16+3Pe+SRR5CRkYE5c+bAYDAAAIQQuP3223H27FlJ\n",
              "3otU4uPjkZycbD9PW7ZsAQCUlZVh2rRpSEpKwqRJk3Dq1CkAgMlkwpIlS5CVlYW77roLZrMZgO3/\n",
              "i1tvvRXNzc2SvRcpNDY22s9ddnY2kpKSoFQq0dTUxM+gm2C47CeGS3KG/oRL6r/IyEgcOXJE6jJc\n",
              "zurVq3HmzBkUFBRg8eLFeOihh+z71q9fj/z8fOTn5+MXv/gFAODkyZMoKytDUVERZs2ahXfeeQcA\n",
              "8H//93+YPXs2xo4dK8n7kNKWLVvs52n58uUAbOFn9erVKC0txXPPPYdVq1YBAD755BMEBQWhoKAA\n",
              "AQEB2LNnDwDglVdeweOPP47AwECp3oYkgoOD7ecuPz8fq1evxu23346goCAA/Ay6gxEfLo8ePYrp\n",
              "06cjKysLmZmZ+PDDD3H8+HFMmzYNmZmZmDx5Mr744gsAtj/sAQEB9ue2t7dDJpPZv5bJZHjttdcw\n",
              "efJkjBkzBhs2bAAA/Pa3v0VNTQ2WL1+O7Oxs5OfnD+dbHFIymQy/+93vMGXKFMTHx2P79u1Ys2YN\n",
              "Jk6ciHHjxjlcQfvkk08wffp03HTTTZg8eTIOHjwIAKitrcXs2bNx0003IS0tDY8//jisVisAYOPG\n",
              "jZg3bx5WrFiBjIwMTJw4EefOnZPirQ67rq4uLF++HOPHj0dWVhZuu+02PProozhz5gyys7Nx5513\n",
              "AgC+/PJLZGdnIz09HT/5yU/sVz3cWX8/l9//mb7Wz7A78fLywqJFi+y/26ZOnYoLFy5c9zkeHh4w\n",
              "Go2wWq3o6OiAp6cndDodNm/ejKeeemoYqnZ9er0ex48fx7333gsAWLZsGSorK1FeXg4PDw90dnYC\n",
              "ADo7O+Hp6YnCwkKUlJTgRz/6kZRlu4R//OMfePDBB697DD+Dl/X395/ZbMaCBQswceJEpKWlYeXK\n",
              "lejo6AAA/Otf/8LEiRNhNBohhMAdd9yB3/3ud8P3JsQI1tjYKMLCwsThw4eFEEJYLBZRV1cnYmJi\n",
              "xJ49e4QQQhw5ckRotVrR1tYmzp8/LzQajf35bW1tou8pACDWrl0rhBCiuLhY+Pn5CZPJJIQQIi4u\n",
              "Tpw4cWJ43tgwAiD+/Oc/CyGE2Ldvn/D19RUbNmwQQgjx/vvvi4kTJwohhDh79qyYOnWqMBgMQggh\n",
              "ysrKRHh4uOju7hZdXV2ira1NCCGE2WwWubm5YvPmzUIIITZs2CDUarU4d+6cEEKI5557TqxevXo4\n",
              "36JkPvjgA3HbbbfZv25sbBQHDx4UWVlZ9m1Go1FER0eLvXv3CiGE+OSTTwQAcfDgwWGu1rX093P5\n",
              "/Z/p6/0Mu6t7771XPPHEE0IIIWbOnCmSk5NFenq6+NGPfiTOnj1rP+7FF18UWVlZ4u677xYdHR1i\n",
              "+fLl4vjx41KVLam4uDiRkZEh0tPTxQMPPCD0er04fvy4SEpKcjhu0qRJYv/+/cJisYiHHnpIZGZm\n",
              "itWrVwuTySTmzp0rKisrJXoHruOLL74QWq3W/nPIz+AP6+/vP6vVKhoaGuz/fvTRR8WaNWvsr7N6\n",
              "9Wrxs5/9TPzxj38UCxcuFFardfjew7B9pyGwc+dOMWPGDIdthYWFIi4uzmFbZmamOHLkSL/CpU6n\n",
              "s38dEBBg/+UwmsPlpffc0tIiAIiuri4hhBAXLlywn6+//vWvIiQkRGRlZdkfkZGRorS0VHR0dIif\n",
              "/vSnIjMzU2RkZAitViuee+45IYQtXC5YsMD+/bZv3y7mzp07vG9SImfPnhUxMTHiscceE++9955o\n",
              "bW29IlwWFBSI+Ph4h+clJCQwXPbzc3m1cHmtn2F39Lvf/U5MnTpVdHR0CCGEqKioEELY/hC98cYb\n",
              "IjU19arP2759u3jmmWdEQ0ODWLVqlbjrrrvEe++9N2x1S+3ixYtCCCF6enrEs88+K26//fbrhsvv\n",
              "W79+vXjjjTfE+fPnxYoVK8Rdd9111ePcwQMPPCD+53/+x/41P4M/rL+//ywWi3jxxRdFdna2SE9P\n",
              "FzExMWL58uX21+nq6hKZmZkiJiZG1NfXD+t7GPFt8f641B5SKpWwWCz27d3d3Vcc6+XlZf+3QqFw\n",
              "ixblpfesUCiu+PrS+xdCYP78+Q7jaKqrqzFu3DisW7cOer0eX3/9NQoLC7Fy5UqHc+uO5xQAEhIS\n",
              "cPr0aSxcuBBffPEF0tPT+zWwv+9QDXfWn8/l9Z7Xn2NHs7Vr1+KDDz7Axx9/DB8fHwBATEwMANtn\n",
              "7PHHH8e5c+fQ2Njo8LzW1lasXbsWL7/8Mv785z9j5syZ2LJlC37729+iq6tr2N+HFGJjYwHYWrU/\n",
              "//nPceTIEcTExECn0zn8TqyoqLAfe8nFixexe/du/PSnP8VLL72E1atXY+PGjfjv//7vYX8fUmtv\n",
              "b8f777+PBx54wL6Nn8H+6c/vv3fffRcHDhzAoUOHUFRUhGeeecbhb69er0dzczOsVitaWlqGtf4R\n",
              "HS6nTZuGsrIy+4B+q9UKrVYLq9WKvXv3ArCNZ6utrUV2djbCw8MhhMDp06cBAG+//Xa/v5darbbP\n",
              "XnNHCxYswL59+1BYWGjfduzYMQBAc3MzwsPD4eXlhdraWvz73/+WqkyXUlVVBZlMhjvvvBNr166F\n",
              "EALBwcEOn6OUlBSYzWb7+NV9+/ZxViQN2rp167B582bs3bvXPibVbDajrq7OfszWrVuh1WoRHBzs\n",
              "8Nznn38ev/rVr+Dj44OOjg7IZDLIZDKYTCb09PQM59uQREdHh8Mf4s2bNyMnJwdhYWGYMGECNm3a\n",
              "BMB2/qKjo5GYmOjw/CeffBLr16+HXC63n79L/3Y3W7ZsQVZWFlJSUgDwM+hszc3NCAkJgVqtRltb\n",
              "GzZu3GjfZzab8V//9V945ZVXsG7dOvzoRz+C0WgcttqUw/adhkBgYCC2bduGp59+Gm1tbZDL5Xjl\n",
              "lVfwwQcf4IknnsDTTz8NLy8v/Oc//4Gfnx8A4I033kBeXh6Cg4Nx99139/t7PfHEE3j44Yfh4+OD\n",
              "jRs3Ijs7e4jelWtKTEzEu+++i0ceeQSdnZ3o6elBTk4O3n33XTz55JO4++67kZaWhsjISMybN0/q\n",
              "cl1CUVERXnjhBQghYDab8eMf/xjTpk1DWloa0tPTkZCQgB07dmDLli346U9/CovFgkmTJiErK0vq\n",
              "0mkEq6qqwtNPP42EhATMnj0bgO3+wwcOHEBubi6MRiPkcjlCQkKwY8cOh+d+8cUX6Orqwvz58wEA\n",
              "P/vZz7BixQr84Q9/wI9//GNoNJphfz/Dra6uDsuWLYPFYoEQAgkJCfYLEW+99RZWrVqF1157DWq1\n",
              "+ooJY++++y6ysrKQlpYGwBaSHn74YfT09OCll14a9vcitX/84x94+OGH7V8bjUZ+Bp3ovvvuw4cf\n",
              "fojk5GSEhoZixowZuHjxIgDbZy85ORn3338/AODQoUP4+c9/jr/97W/DUhvvLU5ERERETjOi2+JE\n",
              "RERE5FoYLomIiIjIaRguiYiIiMhpGC6JiIiIyGkYLomIiIjIaRguiYiIiMhpGC6JiIiIyGkYLomI\n",
              "iIjIaRguiYiIiMhpGC6JiIiIyGkYLomIiIjIaf5/rts/r9Vz0sMAAAAASUVORK5CYII=\n",
              "\">\n",
              "      </div>\n",
              "      <script type=\"text/javascript\">\n",
              "        (() => {\n",
              "          const chartElement = document.getElementById(\"chart-b7f9da57-a4a5-45df-9698-3f6e0270084f\");\n",
              "          async function getCodeForChartHandler(event) {\n",
              "            const chartCodeResponse =  await google.colab.kernel.invokeFunction(\n",
              "                'getCodeForChart', [\"chart-b7f9da57-a4a5-45df-9698-3f6e0270084f\"], {});\n",
              "            const responseJson = chartCodeResponse.data['application/json'];\n",
              "            await google.colab.notebook.addCell(responseJson.code, 'code');\n",
              "          }\n",
              "          chartElement.onclick = getCodeForChartHandler;\n",
              "        })();\n",
              "      </script>\n",
              "      <style>\n",
              "        .colab-quickchart-chart-with-code  {\n",
              "            display: block;\n",
              "            float: left;\n",
              "            border: 1px solid transparent;\n",
              "        }\n",
              "\n",
              "        .colab-quickchart-chart-with-code:hover {\n",
              "            cursor: pointer;\n",
              "            border: 1px solid #aaa;\n",
              "        }\n",
              "      </style>"
            ]
          },
          "metadata": {}
        },
        {
          "output_type": "display_data",
          "data": {
            "text/plain": [
              "from matplotlib import pyplot as plt\n",
              "_df_4['Salary'].plot(kind='line', figsize=(8, 4), title='Salary')\n",
              "plt.gca().spines[['top', 'right']].set_visible(False)"
            ],
            "text/html": [
              "      <div class=\"colab-quickchart-chart-with-code\" id=\"chart-24807cc8-4fbd-4750-8bef-d29f6a77aeed\">\n",
              "        <img style=\"width: 180px;\" src=\"data:image/png;base64,iVBORw0KGgoAAAANSUhEUgAAArMAAAFuCAYAAACSr5B3AAAAOXRFWHRTb2Z0d2FyZQBNYXRwbG90\n",
              "bGliIHZlcnNpb24zLjcuMSwgaHR0cHM6Ly9tYXRwbG90bGliLm9yZy/bCgiHAAAACXBIWXMAAA9h\n",
              "AAAPYQGoP6dpAABNcElEQVR4nO3dd3RU1doG8GfSSSedkE4aJJDQQiihKF0FpMMHikizXBBQgWtF\n",
              "BcSLIOq9gqhYUIqCoCJNShKQbiihpHdSSCE9k2Rmf38MjkZRA5nMmfL81pq1zNln5rznOJk87Nln\n",
              "b5kQQoCIiIiISA+ZSF0AEREREdG9YpglIiIiIr3FMEtEREREeothloiIiIj0FsMsEREREekthlki\n",
              "IiIi0lsMs0RERESktxhmiYiIiEhvMcwSERERkd5imCUi0mMymQw//fST1GUQEUmGYZaISEIZGRmY\n",
              "MmUKPD09YWtrC09PT4wcORL5+flSl0ZEpBcYZomIJDRy5EjY2dkhMTERVVVVSEhIwKRJkyCTybRy\n",
              "/IaGBq0ch4iotTDMEhFJpKSkBNevX8e8efPg5OQEAHB3d8ejjz4KDw8P5Ofn48EHH4S7uzvs7OzQ\n",
              "pUsXfP3113/5es3ZXyaTYd26dejTpw9sbGywdetW2NraIjY2tsl+Tz/9NMaMGaPxcyYi0jSGWSIi\n",
              "iTg7O6Nz586YO3cuNm/ejEuXLkGpVKrbFQoFZs6cibS0NJSWlmLBggWYOnUqrly5csfXa+7+Gzdu\n",
              "xEcffYSqqipMmDABU6dOxYcffqhur6mpwZYtWzBv3rzWOXEiIg1imCUiktDRo0cxYsQIfPDBB4iK\n",
              "ioKLiwueffZZyOVyeHl5YezYsbC1tYW5uTkef/xxdOrUCUeOHLnjazV3/4ULF6JTp06QyWRo06YN\n",
              "nnjiCezcuRMlJSUAgG3btsHJyQnDhg1r9fMnImophlkiIgk5Ozvjtddew5kzZ1BeXo5PPvkEmzZt\n",
              "wqpVq1BWVobZs2fD398f9vb2cHR0xJUrV1BUVHTH12ru/v7+/k1+7tq1K7p27YrPPvsMgKrndvbs\n",
              "2Vobt0tE1BIMs0REOsLS0hJjxozB4MGD8csvv2Dp0qW4fv06YmNjUV5ejlu3biEsLAxCiDs+v7n7\n",
              "m5j8+aP/iSeewKZNm5CQkICEhATMnDmzVc6RiEjTGGaJiCRSVlaGpUuX4tKlS5DL5VAoFDh8+DCO\n",
              "Hj2K/v37o7y8HNbW1nB2dkZDQwPee++9vxwvC+Cu9/+9iRMn4ubNm5g1axbGjBkDd3d3TZ0mEVGr\n",
              "YpglIpKIhYUFiouLMWHCBLi4uMDZ2RkLFizAkiVLsHjxYrzxxhuora2Fu7s7/Pz8UFhYiL59+/7l\n",
              "693t/r9nZWWFxx57DL/88gtv/CIivSITf/V9FRERGZUPPvgA69atQ1JSEsfLEpHeYM8sERGhtLQU\n",
              "69evx8KFCxlkiUivMMwSERm5ZcuWwcvLC507d8bs2bOlLoeI6K5wmAERERER6S32zBIRERGR3mKY\n",
              "JSIiIiK9xTBLRERERHqLYZaIiIiI9JbRhtn169dLXQIRERERtZDRhtmsrCypSyAiIiKiFjLaMEtE\n",
              "RERE+o9hloiIiIj0FsMsEREREekthlkiIiIi0lsMs0RERESktxhmiYiIiEhvMcwSERERkd5imCUi\n",
              "IiIivcUwS0RERER6i2GWiIiIiPQWwywRERER/aP6RiWUSiF1GX/CMEtEREREf+tsZikefC8eX53J\n",
              "lrqUP2GYJSIiIqI7Kquux5JvLmHChpNILqzCR/HpUOhY76yZ1AUQERERkW4RQmDXL3lY8eM1lFbX\n",
              "AwAm9/TG0hGhMDWRSVxdU3fVMzt//nz4+flBJpPhwoULAIC6ujqMGTMGwcHBiIiIwJAhQ5Camqp+\n",
              "TlFREYYPH46goCCEh4cjLi6uVduIiIiI6N6l3azC1E2nsfjriyitrkewuy2+ntcbb47rAkdrC6nL\n",
              "+5O7CrPjx4/H8ePH4evr22T7nDlzkJSUhIsXL2L06NGYNWuWum3p0qWIjo5GSkoKNm/ejKlTp6Kh\n",
              "oaHV2oiIiIjo7tU1KLD2UDJGvBOPk+klsDI3wfPDQ/DDv2LQ089J6vL+0l0NM+jfv/+ftllZWWHk\n",
              "yJHqn6Ojo7FmzRr1zzt27FD31Pbs2ROenp6IjY3F4MGDW6WNiIiIiO7O8ZRivLj7MjJLagAAA0Nc\n",
              "8frocHg7WUtc2T/T+JjZ9evXY/To0QCAkpISNDQ0wMPDQ93u5+eH7OzsVmn7K3K5HHK5vMk2hULR\n",
              "4nMlIiIi0mc3K+VYsfcqdl+4AQBws7PEKw+FYWRnD8hkujU29q9oNMyuXLkSqampOHz4sCZftsVW\n",
              "rVqF5cuXN9kWHR0tUTVERERE0lIqBbadzcGb+66hoq4RMhnwSLQvFg8Lgb2VudTl3RWNTc21Zs0a\n",
              "7Nq1C/v27YO1tapL2tnZGWZmZigoKFDvl5mZCR8fn1Zp+yvLli1DeXl5k0dUVJSmTp2IiIhIb1wv\n",
              "qMD4DT/j399eRkVdI8I87bH7yb5YPjpc74IsoKEwu3btWmzduhWHDh2Co6Njk7YJEyZgw4YNAICz\n",
              "Z88iLy8PAwYMaLW2O7G0tIS9vX2Th6mpqSZOnYiIiEgv1NQ3YtWP1/DAu8fxS/Yt2FiY4uUHO2HP\n",
              "U30R4e0odXn3TCaEaPbMt3PnzsXevXtRUFAAZ2dn2NnZ4dixY/D29kZAQADs7OwAqMLj6dOnAQCF\n",
              "hYWYPn06MjIyYGFhgffffx+DBg1qtbbmWrRoEdauXXtXzyEiIiLSR4evFeLlPVeQd6sWADA8zAOv\n",
              "jOqEdg5tJK6s5e4qzBoShlkiIiIydPnltVj+3VXsv6IantnesQ1eGx2G+zu6S1yZ5nAFMCIiIiID\n",
              "o1AKfPZzJt4+mITqegVMTWSY1c8fCwYHwdrCsOKfYZ0NERERkZG7lHsL//72MhLzKgAAXX0csfLh\n",
              "zujYzl7iyloHwywRERGRAaisa8DbB5Px+clMKAVgb2WGJSNCMaWnD0xM9GPO2HvBMEtERESkx4QQ\n",
              "2JdYgOXfX0FhhWqRqNGRnnjxgU5wtbOUuLrWxzBLREREpKdySmvw8p5EHE26CQDwc7bG62PCERPk\n",
              "KnFl2sMwS0RERKRnGhRKbIpPx7uHU1DXoISFqQnmDeyAJwd2gJW5cc2lzzBLREREpEfOZZbi399e\n",
              "RnJhFQAgOsAJb4zpjEA3W4krkwbDLBEREZEeuFVTjzf3Xce2szkAACcbC7wwsiPGdmsPmcxwb/D6\n",
              "JwyzRERERDpMCIFvE/KwYu81lFTXAwAm9fDG0hGhaGtjIXF10mOYJSIiItJR6Ter8OLuRPycVgIA\n",
              "CHKzxYqHOyPK30niynQHwywRERGRjqlrUOCDY2n44Fga6hVKWJqZYP79QZgdEwALMxOpy9MpDLNE\n",
              "REREOuTn1GK8sDsRGcXVAIABwa54fXQ4fJytJa5MNzHMEhEREemA4io5Vuy9hm8T8gAArnaWeOWh\n",
              "TnigczujvsHrnzDMEhEREUlIqRTYfi4Hb+67jvLaBshkwPRoXzw7LAT2VuZSl6fzGGaJiIiIJHK9\n",
              "oAIvfJuI81llAIBO7eyxcmxnRHo7SluYHmGYJSIiItKy2noF1h9OwUfx6WhUClhbmGLx0BA82tsX\n",
              "Zqa8wetuMMwSERERadGR64V4ec8V5JbVAgCGdnLHq6PC4OnYRuLK9BPDLBEREZEWFJTXYfn3V7Av\n",
              "sQAA0N6xDV4dFYYhndwlrky/McwSERERtSKFUuDzk5l4+2AyquSNMDWR4fF+/lhwfxBsLBnFWopX\n",
              "kIiIiKiVXM4tx7+/vYzLeeUAgEhvR6x8uDM6edpLXJnhYJglIiIi0rDKuga8fTAZn5/MhFIAdlZm\n",
              "WDI8FFOjfGBiwjljNYlhloiIiEhDhBDYn1iAV7+/gsIKOQBgVIQnXnywI9zsrCSuzjAxzBIRERFp\n",
              "QE5pDV757gqOXC8CAPg6W+P10eHoH+wqcWWGjWGWiIiIqAUaFEp8fDwD7/yUjLoGJcxNZXhiQAc8\n",
              "OSgQVuamUpdn8BhmiYiIiO7R+axSvPBtIq4XVAIAevk7YcXD4Qh0s5O4MuPBMEtERER0l27V1GP1\n",
              "/iRsPZMNAGhrbY4XHuiEcd3aQybjDV7axDBLRERE1ExCCOy+kIc3friGkup6AMDEHl5YNqIj2tpY\n",
              "SFydcWKYJSIiImqG9JtVeGlPIk6klgAAAt1ssWJMOHoFOEtcmXFjmCUiIiL6G/JGBT44lob/HUtD\n",
              "faMSlmYmmH9/EGbHBMDCzETq8owewywRERHRX/g5rRgvfpuI9OJqAED/YFe8PjoMvs42EldGv2KY\n",
              "JSIiIvqDkio5Vuy9hl0JeQAAVztLvPxgJzzYpR1v8NIxDLNEREREtymVAjvO5WDVvusor22ATAZM\n",
              "6+WLZ4eFwKGNudTl0R0wzBIREREBSC6sxL93Xca5rDIAQKd29lg5tjMivR2lLYz+FsMsERERGbXa\n",
              "egXePZKCTXHpaFQKWFuYYtGQYMzo4wczU97gpesYZomIiMhoHU0qwst7EpFTWgsAGNrJHa+MCkN7\n",
              "xzYSV0bNxTBLRERERqewog7Lv7+CHy8XAAA8HaywfHQ4hnRyl7gyulsMs0RERGQ0FEqBLaey8J8D\n",
              "SaiSN8LURIaZff3wzOBg2FgyFumjuxoIMn/+fPj5+UEmk+HChQvq7SkpKejTpw+Cg4PRs2dPXLly\n",
              "RbI2IiIiojtJzCvHw/87gVe+u4IqeSMivR3x3dN98cIDnRhk9dhdhdnx48fj+PHj8PX1bbJ97ty5\n",
              "mDNnDpKTk7FkyRLMmDFDsjYiIiKi3xNC4O2DSRj1/nFcyi2HnZUZXh8Tjp1P9EGYp4PU5VELyYQQ\n",
              "4m6f5Ofnh927dyMyMhJFRUUIDAxEaWkpzMzMIIRAu3btcPz4cdjb22u1LTAwsNnnsGjRIqxdu/Zu\n",
              "T52IiIj0iBACr/9wDZ+cyAAAPBThiZce7Ag3OyuJKyNNaXGfek5ODtq1awczM9VLyWQy+Pj4IDs7\n",
              "Gw4ODlpt+6swK5fLIZfLm2xTKBQtPXUiIiLSYUIIvLH3tyC78uHOmNrLR+KqSNOMYvK0VatWwcHB\n",
              "ocnjzJkzUpdFRERErUQIgRV7r+Hj46ogu2osg6yhanGY9fb2Rn5+PhobGwGo3jzZ2dnw8fHRettf\n",
              "WbZsGcrLy5s8oqKiWnrqREREpIOEEFj54zV8dPy3HtkpUQyyhqrFYdbNzQ3dunXDli1bAAA7d+6E\n",
              "l5cXAgMDtd72VywtLWFvb9/kYWpq2tJTJyIiIh3za5DdFK8KsiseDmePrIG7qxvA5s6di71796Kg\n",
              "oADOzs6ws7NDamoqkpKSMGPGDJSUlMDe3h6bN29G586dAUDrbc3FG8CIiIgMixACq/Zdx4dx6QCA\n",
              "N8aEY1q07z88i/TdPc1mYAgYZomIiAyHEAJv7ruOjbeD7OtjwjGdQdYoGMUNYERERGS4hBB4c//v\n",
              "guzoMAZZI8IwS0RERHpLCIHV+5OwMVYVZF8bHYbpvf2kLYq0imGWiIiI9JIQAm8dSMKG2DQAqiD7\n",
              "CIOs0WGYJSIiIr0jhMB/DiThg2MMssaOYZaIiIj0ihACaw4m4X+3g+zyUQyyxoxhloiIiPTGr0H2\n",
              "v0dVQfbVhzrh0T5+0hZFkmKYJSIiIr0ghMDbB5PVQfaVhzphRl9/iasiqTHMEhERkc4TQmDtoWS8\n",
              "fzQVAPDyg53wGIMsgWGWiIiIdJwQAusOJeO9I6og+9KDnTCzH4MsqTDMEhERkU5b91MK3r0dZF98\n",
              "oCMeZ5Cl32GYJSIiIp217lAy3j2cAkAVZGfFBEhcEekahlkiIiLSSe/8lIz1DLL0DxhmiYiISOes\n",
              "/ykF7/ykCrIvjGSQpb/GMEtEREQ6Zf1PKVj3UzIA4N8jQzG7P4Ms/TWGWSIiItIZ7x7+LcguGxGK\n",
              "Of07SFwR6TqGWSIiItIJ7x1OwdpDqiC7dEQo5g5gkKV/xjBLREREknv/SArevh1klwwPxTwGWWom\n",
              "hlkiIiKS1H+PpmLNQVWQfX54CJ4YyCBLzccwS0RERJL579FU/OdAEgDguWEheHJgoMQVkb5hmCUi\n",
              "IiJJ/O9Y0yD71CAGWbp7DLNERESkdR8cS8Nb+xlkqeUYZomIiEirPjiWhtX7rwMAnh0azCBLLcIw\n",
              "S0RERFqzIfa3ILt4SDCevi9I4opI3zHMEhERkVZsjE3Dm/tUQXbRkGD8634GWWo5hlkiIiJqdR/G\n",
              "pWHV7SC7cHAw5jPIkoYwzBIREVGr2hSXjpU/qoLsM4ODsGAwgyxpDsMsERERtZqP4tOx4sdrAIAF\n",
              "9wfhmcHBEldEhoZhloiIiFrFR/HpeGPvb0F24RAGWdI8hlkiIiLSuN8H2fkMstSKGGaJiIhIoz4+\n",
              "nvFbkL0vEAs5RpZaEcMsERERacwnxzPw+g9XAQD/ui8QC4cEQyaTSVwVGTKGWSIiItKIT45n4LXb\n",
              "QfbpQYFYxCBLWsAwS0RERC22+cRvQfapQR2weCiDLGkHwywRERG1yKcnMrD8e1WQfXJgBzw7NIRB\n",
              "lrSGYZaIiIju2Wc/Z+LV3wXZ54YxyJJ2McwSERHRPfn8ZCZe+e4KAOAJBlmSiEbD7I8//ohu3boh\n",
              "MjIS4eHh+OyzzwAARUVFGD58OIKCghAeHo64uDj1c1qjjYiIiFrXFycz8fIeVZCdN6ADnmeQJYmY\n",
              "aeqFhBCYNm0ajh07hi5duiAzMxOhoaEYO3Ysli5diujoaOzfvx9nz57Fww8/jIyMDJibm7dKGxER\n",
              "EbWeL05l4aXbQXbugAAsGc4gS9LRaM+sTCbDrVu3AAAVFRVwdnaGpaUlduzYgXnz5gEAevbsCU9P\n",
              "T8TGxgJAq7QRERFR6/jiVBZe2p0IAJjbPwBLh4cyyJKkNNYzK5PJsH37dowdOxY2NjYoKyvDrl27\n",
              "UFlZiYaGBnh4eKj39fPzQ3Z2NkpKSjTedidyuRxyubzJNoVCoalTJyIiMgpbfhdk5/QPwNIRDLIk\n",
              "PY31zDY2NuKNN97Arl27kJWVhcOHD2P69OlobGzU1CHu2apVq+Dg4NDkcebMGanLIiIi0htfns7C\n",
              "i7eD7OwYfyxjkCUdobEwe+HCBdy4cQP9+/cHoPrq38vLC5cuXYKZmRkKCgrU+2ZmZsLHxwfOzs4a\n",
              "b7uTZcuWoby8vMkjKipKU6dORERk0L46nY0XvlUF2Vn9/PHvkR0ZZElnaCzMent7Iz8/H9euXQMA\n",
              "pKamIi0tDSEhIZgwYQI2bNgAADh79izy8vIwYMAAAGiVtj+ytLSEvb19k4epqammTp2IiMhgfXU6\n",
              "G//+9jIA4PF+/njhAQZZ0i0aGzPr7u6ODz/8EBMnToSJiQmUSiXef/99+Pj4YPXq1Zg+fTqCgoJg\n",
              "YWGBLVu2qGcdaI02IiIiarmtZ5oG2RcZZEkHyYQQQuoipLBo0SKsXbtW6jKIiIh00rYz2Vi6SxVk\n",
              "Z/b1x0sPMsiSbuIKYERERNTE9rO/BdnH+voxyJJOY5glIiIitR1nc5oE2Zcf7MQgSzqNYZaIiIgA\n",
              "qILskl2XIAQwow+DLOkHhlnSecVVcqzadw1ZJdVSl0JEZLB2nGsaZF95iEGW9APDLOm8FXuvYWNs\n",
              "Oh779Cxq6qVfhIOIyNB8fS4HS3aqguyjvX0ZZEmvMMySTsstq8F3F28AANJvVmP5d1clroiIyLB8\n",
              "cz4Xz98Oso/09sWro8IYZEmvMMySTvsoPgMKpUCAiw1kMmD7uRz8cOmG1GURERmEb87n4rlvLkII\n",
              "YHq0L5YzyJIeYpglnVVWXY/tZ3MAAMtHh+GpgYEAgGW7LiOntEbK0oiI9N7OPwTZ10YzyJJ+Ypgl\n",
              "nfX5ySzUNigQ5mmPfoEuWDA4CF19HFFZ14hntl9Ao0IpdYlERHpp1y+5ePZ2kJ0W7cMgS3qNYZZ0\n",
              "Um29Ap+dzAQAzB3QATKZDOamJnh3clfYWZrhfFYZ3j2cIm2RRER66NuEXCz+WhVk/6+XD14bFc4g\n",
              "S3qNYZZ00tfnc1BaXQ9vpzYYGe6h3u7tZI0VYzsDAN4/morT6SVSlUhEpHe+TcjF4h2qIDu1lw9e\n",
              "Hx0OExMGWdJvDLOkcxoVSmyKTwcAzI4JgJlp07fpqAhPjO/uBaUAntl+Abdq6qUok4hIr+xOyMPi\n",
              "HRehFMCUKB+8wSBLBoJhlnTOj4kFyCmthZONBSZ0977jPstHhcHfxQb55XW350YUWq6SiEh/7LmQ\n",
              "h0U7LtwOst5YMYZBlgwHwyzpFCEENhxLAwA82tsPbSxM77ifjaUZ3pvSFeamMhy4UoivzmRrs0wi\n",
              "Ir2x50IeFm5XBdnJPb2xYkxnBlkyKAyzpFOOpxbjan4F2pib4pHevn+7b3h7BywZHgoAeO37q0gu\n",
              "rNRGiUREeuOPQXblwwyyZHgYZkmnbIhV9cpO6umNtjYW/7j/zL7+6B/sCnmjEvO3JqCuQdHaJRIR\n",
              "6YXvLt5gkCWjwDBLOuNybjlOpJbA1ESGWTH+zXqOiYkMb0+IgIutBa4XVGLVj9dauUoiIt33/cUb\n",
              "eGZbApQCmNSDQZYMG8Ms6YwNcape2Ye6tINXW+tmP8/VzhJrJkQAAD47mYVDVwtbpT4iIn3ww6Ub\n",
              "eOZ2j+zEHl5YNZZBlgwbwyzphKySauy7nA9AtUjC3RoY4oZZ/VS9uc9/cxEF5XUarY+ISB/8cOkG\n",
              "Fmy7AIVSYEJ3L7w5tguDLBk8hlnSCZvi06EUwIBgV3RsZ39Pr/Hc8BCEt7dHWU0DFm5XfZgTERmL\n",
              "vZfy1UF2fHcvrB7HIEvGgWGWJFdcJcfX53IBAPPuoVf2V5Zmpnh3cldYW5jiZHqJ+mYyIiJDt/dS\n",
              "PuZvS4BCKTCuG4MsGReGWZLcZz9nQt6oRIS3I6IDnFr0WgGutnh1VBgAYO2hZPySXaaJEomIdNaP\n",
              "l38LsmO7tcdb47vAlEGWjAjDLEmqWt6Iz09mAQDm9Q+ATNbyD+AJ3b3wUIQnFEqBBdsSUFHX0OLX\n",
              "JCLSRfsu5+NfW28H2a7t8Z/xEQyyZHQYZklS287moLy2Af4uNhga5qGR15TJZFjxcDi82rZBTmkt\n",
              "XtqdyOVuicjg7E/8Q5CdwCBLxolhliTToFDi4/h0AMDsmACNfgjbW5lj/eSuMDWRYc+FG9j1S57G\n",
              "XpuISGr7Ewvw9FcJaGSQJWKYJel8f/EGbpTXwcXWEmO7tdf463f3bYuFg4MAAC/tSURGcbXGj0FE\n",
              "pG2qIPsLGpUCDzPIEjHMkjSEENgYq+qVfayvH6zMTVvlOE8MDER0gBNq6hWYvzUB9Y3KVjkOEZE2\n",
              "HLjyW5AdE+mJNQyyRAyzJI1jSTeRVFgJGwtTTIv2bbXjmJrIsG5SJBytzXE5rxxrDia12rGIiFrT\n",
              "wSsFeOpLVZAdHemJtydGMsgSATCTugAyTh/cngN2ai8fOLQxb9VjtXNog7fGdcGcL87jw7h09At0\n",
              "Qf9g11Y9JhFRS9XWK5CQU4YzGaXqR6NSYFSEJ95mjyyRGsMsad0v2aoPZ3NTGR7vF6CVYw4N88C0\n",
              "aB9sOZWNRTsuYv8zMXCxtdTKsYmImqOirgHns34Lr5dyb6FB0XQmloe7tsd/xneBmSm/WCX6FcMs\n",
              "ad3G272yYyLbw8PBSmvHffGBTjiTUYrkwio8+/VFfPJoT66QQ0SSKamS42zm7fCaWYKrNyrwx1W4\n",
              "3e0t0cvfGVH+Tujl74RAN1uNzMdNZEgYZkmr0m5W4eDVQgDA3AHa6ZX9lZW5Kd6b0g2j3j+OY0k3\n",
              "sfnnTDzez1+rNRCR8covr20yZCClqOpP+/g6WyPKz+l2eHWGt1Mbhleif8AwS1q1KS4dQgCDO7oj\n",
              "0M1O68cP8bDDiw92wku7E/Hmvmvo5e+E8PYOWq+DiAybEALZpTU4/bvwml1a86f9gt1tEeXvhCh/\n",
              "Z0T5OWn12yoiQ8EwS1pTVFGnXrxgnpZ7ZX9vWi8fxCffxMGrhZi/LQE//KsfrC34q0BE906pFEgp\n",
              "qsKZjBKcySzDmYwSFFbIm+xjIgPCPB1uh1cn9PRzgpONhUQVExkO/gUnrfnkRCbqFUr08G2LHn5O\n",
              "ktUhk8mwelwXXMqNR/rNaiz/7ipWj+8iWT1EpH8aFUpcza/AmYxSnM4oxdnMUtyqaWiyj4WpCbp4\n",
              "/RZeu/u2hZ1V687eQmSMGGZJKyrqGvDlqSwAwNwBHSSuBmhrY4F1kyIx9aNT2H4uBzHBLniwi6fU\n",
              "ZRGRjpI3KnApt1wdXs9nlqK6XtFknzbmpuju21YdXiO9HVttQRgi+g3DLGnFV6ezUSlvRJCbLe4P\n",
              "dZO6HABA7w7OeGpgIN4/mopluy4jwssR3k7WUpdFRDqgpr4Rv2TdwpmMEpzOKEVCzq0/rSBoZ2Wm\n",
              "vlkr6vb4e3NOmUWkdRoNs3K5HIsXL8aBAwdgZWWFiIgIbNmyBSkpKXj00UdRXFwMBwcHfPrppwgL\n",
              "CwOAVmkj3SJvVOCT4xkAgDn9A3RqOqwFg4NwIq0YCdm3sGBbAnbM7c35G4mMUHlNA85llap7XhPz\n",
              "ytH4h3myXGwtVMHVT3XDVoiHHRcuINIBGg2zS5cuhUwmQ3JyMmQyGQoKCgAAc+fOxZw5czBjxgx8\n",
              "8803mDFjBs6ePdtqbaRbdifkoahSDg97K4yObC91OU2Ym5rg3cldMXJ9PH7JvoV3D6dg0dAQqcsi\n",
              "olZ2s1KOs5m/hdfrBRUQf5jjtb1jG3Wva5S/EwJcbDhNFpEOkgnxx1/fe1NdXY127dohNzcX9vb2\n",
              "6u1FRUUIDAxEaWkpzMzMIIRAu3btcPz4cdjb22u8LTAwsFn1Llq0CGvXrtXEqdPfUCoFBq+LRfrN\n",
              "arwwsiNm95duFoO/893FG5i/NQEmMuCr2dGIDnCWuiQi0qDcspomc7ymF1f/aZ8AVxv0+t1MA15t\n",
              "OeyISB9orGc2LS0NTk5OWLlyJX766Se0adMGr776KhwdHdGuXTuYmakOJZPJ4OPjg+zsbDg4OGi8\n",
              "7U5hVi6XQy5vOkWKQqH4036keYeuFSL9ZjXsrMwwOcpb6nL+0qgIT8Qn38TX53OxcPsF7FsQA0dr\n",
              "TplDpI+EEEgvrm4SXvNu1TbZRyYDQj3sm4RXVzsucU2kjzQWZhsbG5GVlYVOnTrhzTffREJCAoYM\n",
              "GYK9e/dq6hD3bNWqVVi+fHmTbdHR0RJVYzyEENhwe+na6dG+Oj8lzaujwnA+qwzpxdVYsvMSNkzr\n",
              "zq8UifSAUilwvaDy9hyvqvBaXFXfZB9TExk6t3dQh9cevk5wsNbtzyQiah6NhVkfHx+YmJjg//7v\n",
              "/wAAXbt2hb+/P7KyspCfn4/Gxkb1kIDs7Gz4+PjA3t5e4213smzZMixatKjJtpdeeklTp05/4Wxm\n",
              "GRKyb8HCzAQz+vpJXc4/srE0w7tTuuLh/53AgSuF+PJ0NqZF+0pdFhH9QYNCicS8cnWv69nMUlTU\n",
              "NTbZx8LMBF29HW+HV2d09XGEjSUn8CEyRBr7zXZxccH999+PAwcOYOTIkcjIyEBGRgb69u2Lbt26\n",
              "YcuWLZgxYwZ27twJLy8v9XCA1mj7I0tLS1haNv36yNSUc/+1tl97Zcd184KbnX4s0Rje3gFLhofi\n",
              "jb3X8PoPVxHl74Rgd+0vu0tEv6lrUOBCzi11eD2fVYbahqZDxWwsTNHdz0nd89rFywGWZvycJzIG\n",
              "GrsBDADS09Px+OOPo7i4GCYmJnj55Zcxbtw4JCUlYcaMGSgpKYG9vT02b96Mzp07A0CrtDUHbwBr\n",
              "XUkFlRj2ThxkMuDI4oHwd7GRuqRmUyoFZnx6FnHJNxHqYYfdT/XlxOdEWlRZ14DzWWXq8Hoptxz1\n",
              "iqZzvDpamzeZ47VTO3tOq0dkpDQaZvUJw2zrWrTjAnb9kocR4R74YFp3qcu5azcr5RixPg7FVfV4\n",
              "pLcvXhsdLnVJRAartLpePU3WmYxSXLlRjj9M8Qo3O0v0CnBGlL+q9zXQ1Van5qwmIulwABFp3I1b\n",
              "tfjuwg0AwDwdWLr2XrjaWeLtiZF49JMz+PxkFmKCXDGkk7vUZREZhMKKOpzOKFXdsJVRiuTCqj/t\n",
              "4+Nkre517eXvBB8na96QSUR3xDBLGvfx8Qw0KgWiA5wQ4e0odTn3bECwK2b188dHxzPw3DcXsX9B\n",
              "f3g46MfYXyJdIoTA0aQi7LtcgDOZpcgqqfnTPkFutk0WKGjn0EaCSolIHzHMkkaV1zRg65lsAPrb\n",
              "K/t7zw0PwamMEiTmVWDh9gvYMqsXl68kugvnMkvx5r7rOJdVpt5mIgPCPB3Q0+/XOV7bwtmWc7wS\n",
              "0b1hmCWN+uJUJmrqFQj1sMOAYFepy2kxSzNTvDu5Kx587zhOppdgQ2wanhrUvFXmiIxZSmEl3jqQ\n",
              "hENXCwEAVuYmmBLlg/7Brujh21bn550mIv3BMEsaU9egwOYTmQBUvbKGMr4twNUWr44Kw/PfXMLa\n",
              "Q8no3cEZ3XzaSl0WkU4qKK/DukPJ+Pp8DpRC1Qs7qac3nhkcDHd7DtMhIs1jmCWN+eZ8Lkqq69He\n",
              "sQ0e6NJO6nI0akJ3L8SnFOP7izewYFsC9s6PgT17lojUymsbsCE2DZ8cz4C8UTWN1rAwdzw3LBSB\n",
              "brYSV0dEhoxhljRCoRTYFJ8OAJgV4w9zA5vvUSaTYcXD4UjILkNOaS1e/DYR6ydHGkzvM9G9qmtQ\n",
              "4IuTWXj/aCrKaxsAAD392mLpiI7o7stvMIio9THMkkbsTyxAVkkNHK3NMamnt9TltAp7K3Osn9wV\n",
              "EzeexHcXb6B/sCvGd/eSuiwiSSiUAt8m5GHtwSTcKK8DAAS722LJ8FDcF+rGf+gRkdYwzFKLCSHU\n",
              "S9c+0tsP1haG+7bq7tsWCwcHYc3BZLy8JxHdfBwR4MqvUMl4CCFwLOkmVu+/jusFlQCAdg5WWDgk\n",
              "GOO6eXG2DyLSOsNNHaQ1J9NKcDmvHFbmJni0t6/U5bS6JwYG4nhqMU6ll2LBtgvY+UQfWJgZ1rAK\n",
              "ojtJyC7Dm/uu43RGKQDA3soMTw0KxKN9/LjkMxFJhmGWWuyD272yE3t4G8VckaYmMqybFIkR6+Nx\n",
              "Oa8caw4m4d8jO0pdFlGrSbtZhTUHkrAvsQAAYGFmgsf6+uHJAYFwsOaNkEQkLYZZapErN8oRn1IM\n",
              "UxMZZscESF2O1rRzaIO3xnXBnC/O48O4dPQNdDGIeXWJfq+oog7rD6dg29kcKJQCJjJgfHcvPDM4\n",
              "GJ6OXKGLiHQDwyy1yMZY1QwGD3RuB28na4mr0a6hYR6YHu2LL05lYfGOi9j/TAxcjKBnmgxfZV0D\n",
              "PoxLx0fxGahtUAAABnd0w3PDQhHiYSdxdURETTHM0j3LKa3BD5duAADm9DeeXtnfe+GBjjiTUYqk\n",
              "wkos3nERm2f0hAlvgCE9JW9U4MtT2Xj/aCpKq+sBAN18HLF0REdE+TtJXB0R0Z0xzNI9+yg+HUoB\n",
              "xAS5ILy9g9TlSMLK3BTvTumKUe8fR2zyTXxyIgOzjGi4BRkGpVLgu4s38PahJOSU1gIAOrja4Pnh\n",
              "oRjayZ3TbBGRTmOYpXtSUiXH9nM5AFRL1xqzEA87vPhgJ7y0OxGr919HdICz0YZ70i9CCMSnFOPN\n",
              "fddxNb8CAOBmZ4mFQ4IxobsXzAxs8RMiMkwMs3RPPj+ZhboGJTq3d0CfDs5SlyO5ab18EJ98Ewev\n",
              "FmL+1gR8/69+sLHkrxfprsu55Xhz/zWcSC0BANhZmmHewA6Y2dcfbSw4zRYR6Q/+taW7VlPfiM9O\n",
              "ZgIA5g4I4FeQUC13u3pcF1zKjUd6cTWWf38Fb42PkLosoj/JLK7GmoNJ+OFSPgDAwtQEj/T2xVOD\n",
              "AtHWxkLi6oiI7h7DLN21HWdzcKumAT5O1hgR3k7qcnRGWxsLrJsUiakfncKOc7mICXLFQxGeUpdF\n",
              "BAAorpLj3cMp+Op0NhqVAjIZ8HBkeywaGgyvtsY1EwkRGRaGWborDQolNsVnAABm9w/g0pV/0LuD\n",
              "M54aGIj3j6bi37suI9Lb0eimLCPdUiVvxEfx6dgUl47qetU0WwNDXPH8sFB08rSXuDoiopZjmKW7\n",
              "svdSPvJu1cLF1gITuntJXY5OWjA4CD+nFeOX7FtYsC0BO+b25o00pHX1jUpsO5uNdw+noLhKNc1W\n",
              "hJcDlowIRZ8OLhJXR0SkOQyz1GxCCGy4vXTtDK7F/pfMTU2wfnJXjFwfj1+yb2H94RQsHhoidVlk\n",
              "JJRKgb2X87HmYBKySmoAAP4uNnhuWAhGhHtwjDsRGRyGWWq22OSbuF5QCWsLU0yL9pW6HJ3m7WSN\n",
              "FWM7Y/7WBLx/NBV9A10QHcBZH6h1/ZxajDf3X8el3HIAgIutJRYMDsLknt4w57cDRGSgGGap2X5d\n",
              "unZKlA8crXnX8z8ZFeGJ+OSb+Pp8LhZuv4Af58fwbnFqFVdulGP1/iTEJd8EANhYmGLugA54vJ8/\n",
              "p4gjIoPHTzlqlos5t3AyvQRmJjI83s9f6nL0xqujwnA+qwzpxdVYsvMSNk7vzq95SWNySmvw9sEk\n",
              "7L6gWlba3FSG/+vli6fvC4SLraXE1RERaQfDLDXLxjjVWNlRkZ7wdGwjcTX6w8bSDO9O6YqH/3cC\n",
              "B68W4svT2RyiQS1WWl2P94+kYsupLNQrlACA0ZGeWDwkBD7OnD2DiIwLwyz9o4ziauxLLAAAzO1v\n",
              "3EvX3ovw9g5YMjwUb+y9htd/uIqefk4I8bCTuizSQzX1jfjkeAY2xKajSt4IAIgJcsGS4aFcQpmI\n",
              "jBbDLP2jD+PSIQRwX6gbQ9g9mtnXH3EpxYhLvon5WxOw5+m+nA2Cmq1BocSOczl456cU3KyUAwDC\n",
              "29tjyfBQxAS5SlwdEZG0GGbpbxVV1mHnL7kAgHkD2Ct7r0xMZHh7QgRGrI9DUmElVv54Da+NDpe6\n",
              "LNJxQgjsTyzAfw4kIb24GgDg42SNZ4eF4MHO7WDCRUuIiBhm6e99eiIT9Y1KdPVxRE+/tlKXo9dc\n",
              "7Szx9sRIPPrJGXx+Mgv9Al0wNMxD6rJIR51OL8GqfddxIecWAMDJxgLz7wvE1F6+sDDjNFtERL9i\n",
              "mKW/VCVvxBensgCoemV5F37LDQh2xax+/vjoeAae33kJXbwc4eFgJXVZpEOuF1Tgrf1JOHK9CABg\n",
              "bWGKWTEBmB3jDzsrc4mrIyLSPQyz9Je2ns5GZV0jAlxtMKSju9TlGIznhofgVEYJEvMq8Mz2BHw5\n",
              "Kxqm/LrY6OXdqsXag8nYlZALIQAzExmmRPngX/cHws2O/+AhIvorDLN0R/WNSnx8PAMAMLd/AMfm\n",
              "aZClmSnendwVD753HKfSS7EhNg1PDQqUuiySyK2aevzvWBo+/Vk1pAcAHujcDs8OC4G/i43E1RER\n",
              "6T6GWbqjPRfyUFBRBzc7S4zp2l7qcgxOgKstlo8Kw3PfXMLaQ8no3cEZ3Xw4JtmY1DUosPlEJv53\n",
              "LBWVdapptqIDnLB0REdEejtKWxwRkR5hmKU/USoFPoxTLV07s58/LM04hVRrGN/dC3Epxfj+4g3M\n",
              "35qAHxfEwJ5jIg1eo0KJnb/kYt2hFBRU1AEAQj3ssHREKAYEu3JsOhHRXWKYpT85cr0IKUVVsLM0\n",
              "w9RePlKXY7BkMhlWPByOhOwy5JbV4sVvE7F+ciTDjIESQuDQ1UK8dSAJqUVVAID2jm3w7LBgjI5o\n",
              "z6E8RET3iGGW/mRDrGrp2qnRPuwpbGX2VuZYP7krJm48ie8u3kD/YFeM7+4ldVmkYecyS/Hmvus4\n",
              "l1UGAHC0NsfTgwIxvbcvv/kgImqhVpmscPPmzZDJZNi9ezcAoKioCMOHD0dQUBDCw8MRFxen3rc1\n",
              "2ujencssxbmsMliYmmBmX3+pyzEK3X3bYuHgIADAy3sSkX6zSuKKSFNSCisx+/NzGL/hJM5llcHK\n",
              "3ARPDeqAuOcHYVZMAIMsEZEGaDzMZmZmYtOmTYiOjlZvW7p0KaKjo5GSkoLNmzdj6tSpaGhoaLU2\n",
              "uncbYlVjZR/u2h7u9pwOSFueGBiI6AAn1NQrMH9bgvqudtJP+eW1WPLNJQx7Jw6HrhbC9PY0W7HP\n",
              "DcJzw0L5jQcRkQZpNMwqlUrMmjUL7733HiwtLdXbd+zYgXnz5gEAevbsCU9PT8TGxrZaG92b1KJK\n",
              "/HStEDIZMGdAgNTlGBVTExnemdQVjtbmSMyrwH8OXJe6JLoH5bUNeHPfdQz8zzFsP5cDpQCGhbnj\n",
              "wDP9sWpsZ/4DkYioFWh0zOzatWvRt29fdO/eXb2tpKQEDQ0N8PD4bdlOPz8/ZGdnt0rbncjlcsjl\n",
              "8ibbFApFi8/X0Gy83Ss7pKM7OrjaSlyN8fFwsMJb47pgzhfnsSk+A/2CXDEg2FXqsqgZ6hoU+OJk\n",
              "Ft4/moryWtU3RD392mLpiI7o7ssp14iIWpPGwmxiYiJ27typk2NXV61aheXLlzfZ9vthEAQUlNdh\n",
              "94U8AMC8gR0krsZ4DQ3zwPRoX3xxKguLd1zEvgUxcLWz/OcnkiQUSoFvE/Kw9mASbpSrptkKdrfF\n",
              "kuGhuC/UjTNTEBFpgcaGGcTHxyMzMxNBQUHw8/PDqVOnMGfOHOzYsQNmZmYoKChQ75uZmQkfHx84\n",
              "OztrvO1Oli1bhvLy8iaPqKgoTZ26QfjkRAYaFAJR/k6cvF9iLzzQESHudiiukuPZry9CqRRSl0R/\n",
              "IITAkeuFGLk+Hs9+fRE3yuvQzsEK/xnfBfsW9Mf9Hd0ZZImItERjYfaJJ55Afn4+MjMzkZmZiejo\n",
              "aHz44Yd44oknMGHCBGzYsAEAcPbsWeTl5WHAgAEA0Cptf2RpaQl7e/smD1NT3kX8q/LaBnx1WjVE\n",
              "Yx7HykrOytwU707pCkszE8Qm38QnJzKkLol+JyG7DJM/PIWZn55DUmEl7K3MsGxEKI4+OxATenjD\n",
              "lPPFEhFplVbmmV29ejWmT5+OoKAgWFhYYMuWLTA3N2+1Nro7X57OQpW8ESHudhgU4iZ1OQQgxMMO\n",
              "Lz7YCS/tTsTq/dcRHeCM8PYOUpdl1NJuVmHNgSTsS1R9I2RhZoLH+vrhyQGBcLDmZw8RkVRkQgij\n",
              "/A5z0aJFWLt2rdRlSK6uQYF+q4+iuEqOtydEYBwn7NcZQgjM/eI8Dl4tRICLDb7/Vz/YWHKdE20R\n",
              "QiCpsBJHrhfh6PUinM8qg1IAJjLVUsTPDA6Gp2MbqcskIjJ6/Mto5L5NyENxlRyeDlYYFekpdTn0\n",
              "OzKZDKvHdcGl3HikF1dj+fdX8Nb4CKnLMmi19Qr8nFasDrC/3tT1q/tD3fD88FCEeNhJVCEREf0R\n",
              "w6wRUygFPoxTTcc1s58/zE1bZUE4aoG2NhZYNykSUz86hR3nchET5IqHIviPDk3KKa3B0aQiHLle\n",
              "hJNpJZD/bsEKK3MT9O3ggkGhbhgU6ob27IklItI5DLNG7NDVAmQUV8OhjTmmRN15JgiSXu8Oznhq\n",
              "YCDeP5qKf++6jEhvR3g7WUtdlt5qUChxPqsMR6+rAmxKUdPlg9s7tsF9oW64L9QNvTs4w8qcN4sS\n",
              "EekyhlkjJYTAB7cXSXikty/HYuq4BYOD8HNaMX7JvoUF2xKwY25vmLEnvdlKquQ4lnQTR5KKEJd8\n",
              "E5V1jeo2UxMZuvu2VQfYIDdbTqtFRKRHmGCM1Kn0UlzMuQVLMxM82sdP6nLoH5ibmmD95K4YuT4e\n",
              "v2TfwvrDKVg8NETqsnSWEAJXblTgyO3e14u5t/D7W12dbCwwMNgVg0Ld0D/IlbMREBHpMYZZI7Ux\n",
              "Lg0AMKGHF1xsucKUPvB2ssbKsZ3xr60JeP9oKvp0cEHvDs5Sl6UzquWNOJ5ajCPXinA0qQhFlU2X\n",
              "sA7ztMd9t8e+Rng5cj5YIiIDwTBrhK7lV+BY0k2YyIDZMVwkQZ88FOGJuOSb+Pp8LhZuv4B9C2LQ\n",
              "1sZC6rIkk1lcrZp5IKkIp9NLUa/47eYtawtT9At0UQdYd3srCSslIqLWwjBrhH6dwWBE53bwdbaR\n",
              "uBq6W6+OCsP5rDKkF1djyc5L2Di9u9GM8axvVOJsZql66qz04uom7b7O1hgU4ob7O7ohyt8Jlma8\n",
              "eYuIyNAxzBqZ3LIafHfxBgBgXv8OEldD98LG0gzvTumKh/93AgevFmLL6WxMj/aVuqxWU1RZh2PX\n",
              "b+LI9SIcTy1Glfy3m7fMTGSI8ndS974GuNgYTbAnIiIVhlkj8/HxDCiUAn0DndHZi8uj6qvw9g5Y\n",
              "MjwUb+y9hjd+uIooPyeDmchfqRS4lFeu7n29nFfepN3F1hKDQlxxX6gb+gW5wM6KN28RERkzhlkj\n",
              "UlZdj21ncgAA8wawV1bfzezrj7iUYsQl38T8rQnY83RfvZ0TtaKuAfHJqpW3YpOLUFxV36Q9wssB\n",
              "g25PnRXu6QAT3rxFRES3Mcwakc9PZqG2QYEwT3v0C3SRuhxqIRMTGd6eEIER6+OQVFiJFXuv4fUx\n",
              "4VKX1SxCCKTdrFYvXHA2sxSNyt/mzrK1NENMkOrmrYEhbnC144wbRER0ZwyzRqK2XoHPTmYCAOYO\n",
              "6MBxhQbC1c4Sb0+MxKOfnMEXp7IQE+SCoWEeUpd1R3UNCpzOKFUH2OzSmibtAa42uC9E1fvaw88J\n",
              "FmZcFIKIiP4Zw6yR+Pp8Dkqr6+Ht1AYjw3Uz7NC9GRDsitkx/tgUn4Hnd15CZy8HtHNoI3VZAID8\n",
              "8locvX3z1onUYtQ2KNRtFqYm6BXgpF55izNrEBHRvWCYNQKNCiU2xaum45odE8BlUA3Qc8NCcTK9\n",
              "BIl5FVi4/QK+nBUtyaIACqXAhZyy2ytv3cS1/Iom7e72lqqZB0Lc0DfQhcsoExFRi/EviRH4MbEA\n",
              "OaW1cLKxwITu3lKXQ63AwswE707uigffO45T6aXYEJuGpwYFauXYt2rqEZt8E0evFyE2+SbKahrU\n",
              "bTIZ0NXbUT11Vqd29hziQkREGsUwa+CEENgYq1q69tHefmhjoZ93u9M/C3C1xfJRYXjum0tYeygZ\n",
              "0QHO6O7bVuPHEUIgqbBSPXXW+awy/O7eLdhbmaF/sGrqrAHBrnDmcslERNSKGGYN3PHUYly5UYE2\n",
              "5qZ4pLfhTqxPKuO7eyEupRjfX7yBBdsS8OOCGNhrYB7W2noFTqYX4/C1IhxLuom8W7VN2oPdbVVT\n",
              "Z4W4obtvWw5lISIirWGYNXAbY1VjZSf19EZbGwuJq6HWJpPJsOLhcCRklyG3rBYvfJuIdydH3tNX\n",
              "+7llNeqZB35OK4G8UaluszQzQZ8OzurhA15trTV5GkRERM3GMGvALueW43hqMUxNZJgV4y91OaQl\n",
              "9lbmeHdKV0zYcBLfX7yB/kEumNDjn8dKNyqUOJ9VhiNJquEDyYVVTdrbO7bBoFDV8IHeAS4cskJE\n",
              "RDqBYdaAbYhTjZV9qEs79pwZmW4+bbFwcBDWHEzGK99dQXfftghwtf3TfqXV9TiWpOp9jUu+iYq6\n",
              "RnWbqYkM3X3aqlfeCna35c1bRESkcxhmDVRWSTX2Xc4HoFokgYzPEwMDcTy1GKfSSzF/WwJ2PtEH\n",
              "FqYmuHKjQjV8IKkIF3JuQfzu5q221uYYEOyKQbdv3nK05tAUIiLSbQyzBmpTfDqUQjWhfsd29lKX\n",
              "QxIwNZHhnUldMXx9HBLzKjB102nkltWgsELeZL+O7exx3+3hA5HebSWZn5aIiOheMcwaoOIqOb4+\n",
              "lwsAmMdeWaPm4WCFt8Z1wZwvzuN8VhkAoI25KfoGuty+ectVZ1YLIyIiuhcMswbos58zIW9UIsLL\n",
              "AdEBTlKXQxIbGuaBN8d2RmpRFWKCXdHL3wlW5rx5i4iIDAPDrIGpljfi85NZAFS9srxhhwBgcpSP\n",
              "1CUQERG1Cs5sbmC2nc1BeW0D/F1sMDTMQ+pyiIiIiFoVw6wBaVAo8XG8apGE2TEBvJGHiIiIDB7D\n",
              "rAH5/uIN3Civg4utJcZ2ay91OUREREStjmHWQAgh1EvXPtbXjzf4EBERkVFgmDUQx5JuIqmwEjYW\n",
              "ppgW7St1OURERERawTBrID6IVS1dO7WXDxzamEtcDREREZF2MMwagF+yy3AmoxTmpjI83i9A6nKI\n",
              "iIiItIZh1gBsvN0rOyayPTwcrCSuhoiIiEh7GGb1XNrNKhy8WggAmDuAvbJERERkXBhm9dymuHQI\n",
              "AQzu6I5ANzupyyEiIiLSKoZZPVZUUYddv+QBAOaxV5aIiIiMkMbCbF1dHcaMGYPg4GBERERgyJAh\n",
              "SE1NBQAUFRVh+PDhCAoKQnh4OOLi4tTPa402Y/HJiUzUK5To4dsWPfycpC6HiIiISOs02jM7Z84c\n",
              "JCUl4eLFixg9ejRmzZoFAFi6dCmio6ORkpKCzZs3Y+rUqWhoaGi1NmNQUdeAL09lAQDmDuggcTVE\n",
              "RERE0tBYmLWyssLIkSMhk8kAANHR0cjMzAQA7NixA/PmzQMA9OzZE56enoiNjW21NmOw9XQ2KuWN\n",
              "CHKzxf2hblKXQ0RERCQJs9Z64fXr12P06NEoKSlBQ0MDPDw81G1+fn7Izs5ulbY7kcvlkMvlTbYp\n",
              "FApNnarWyRsV+Ph4BgBgTv8AmJjIJK6IiIiISBqtcgPYypUrkZqailWrVrXGy9+1VatWwcHBocnj\n",
              "zJkzUpd1z/Yk3EBRpRwe9lYYHdle6nKIiIiIJKPxMLtmzRrs2rUL+/btg7W1NZydnWFmZoaCggL1\n",
              "PpmZmfDx8WmVtjtZtmwZysvLmzyioqI0fepaoVQKbIhTLZLweD9/WJhxQgoiIiIyXhpNQmvXrsXW\n",
              "rVtx6NAhODo6qrdPmDABGzZsAACcPXsWeXl5GDBgQKu1/ZGlpSXs7e2bPExNTTV56lpz6Foh0m9W\n",
              "w87KDJOjvKUuh4iIiEhSGhszm5ubi8WLFyMgIACDBg0CoAqRp0+fxurVqzF9+nQEBQXBwsICW7Zs\n",
              "gbm5OQC0SpuhEkJgw+2la6dH+8LOyrDPl4iIiOifyIQQQuoipLBo0SKsXbtW6jLuypmMUkzceBIW\n",
              "ZiY4vmQQ3OyspC6JiIiISFIccKlHNt7ulR3XzYtBloiIiAgMs3ojqaASh68XQSZTTcdFRERERAyz\n",
              "euPDuHQAwPAwD/i72EhcDREREZFuYJjVAzdu1WLPhTwAwDwuXUtERESkxjCrBz4+noFGpUB0gBMi\n",
              "vB2lLoeIiIhIZzDM6rjymgZsPaNappe9skRERERNMczquC9OZaKmXoFQDzsMCHaVuhwiIiIincIw\n",
              "q8PqGhT49OdMAKpeWZlMJm1BRERERDqGYVaHfXM+F8VV9Wjv2AYPdGkndTlEREREOodhVkcplAKb\n",
              "4lXTcc2K8Ye5Kf9XEREREf0RE5KO2p9YgKySGjham2NST2+pyyEiIiLSSQyzOkgIgQ23l659pLcf\n",
              "rC3MJK6IiIiISDcxzOqgk2kluJxXDitzEzza21fqcoiIiIh0FsOsDvrgdq/sxB7ecLa1lLgaIiIi\n",
              "It3FMKtjrtwoR3xKMUxkwOyYAKnLISIiItJpDLM6ZmOsagaDB7p4wtvJWuJqiIiIiHQbw6wOySmt\n",
              "wd7L+QCAuf3ZK0tERET0TxhmdchH8elQKAViglwQ3t5B6nKIiIiIdB7DrI4oqZJj+7kcAKqla4mI\n",
              "iIjonzHM6ojPT2ahrkGJzu0d0KeDs9TlEBEREekFhlkdUFPfiM9OZgIA5g4IgEwmk7YgIiIiIj3B\n",
              "MKsDdpzNwa2aBvg4WWNEeDupyyEiIiLSGwyzEmtQKLEpPgMAMLt/AExN2CtLRERE1FwMsxL78XI+\n",
              "8m7VwsXWAhO6e0ldDhEREZFeYZiVkBACG24vkjCjjx+szE0lroiIiIhIvzDMSigupRjX8itgbWGK\n",
              "adG+UpdDREREpHcYZiW04VgaAGBKlA8crS0kroaIiIhI/zDMSuRizi2cTC+BmYkMj/fzl7ocIiIi\n",
              "Ir3EMCuRjXGqXtlRkZ7wdGwjcTVERERE+olhVgIZxdXYl1gAAJjbn0vXEhEREd0rhlkJbIpPhxDA\n",
              "faFuCPGwk7ocIiIiIr3FMKtlRZV1+OZ8LgBg3gD2yhIRERG1BMOsln32cybqG5Xo6uOInn5tpS6H\n",
              "iIiISK8xzGpRlbwRX5zMAqDqlZXJuHQtERERUUswzGrR1tPZqKhrRICrDYZ0dJe6HCIiIiK9xzCr\n",
              "JfWNSnx8PAMAMLd/AExM2CtLRERE1FJ6HWZTUlLQp08fBAcHo2fPnrhy5YrUJf2lPRfyUFBRBzc7\n",
              "S4zp2l7qcoiIiIgMgl6H2blz52LOnDlITk7GkiVLMGPGDKlLuiOlUuDDuHQAwMx+/rA0M5W4IiIi\n",
              "IiLDoLdhtqioCOfOncO0adMAAOPGjUNOTg5SU1MlruzPjlwvQkpRFewszTC1l4/U5RAREREZDDOp\n",
              "C7hXOTk5aNeuHczMVKcgk8ng4+OD7OxsBAYGNtlXLpdDLpc32aZQKLRW669L106N9oG9lbnWjktE\n",
              "RERk6PS2Z/ZurFq1Cg4ODk0eZ86c0cqxkwsrcTazDBamJpjZ118rxyQiIiIyFnobZr29vZGfn4/G\n",
              "xkYAgBAC2dnZ8PH589f4y5YtQ3l5eZNHVFSUVuoMdrfDj/Nj8NroMLjbW2nlmERERETGQm/DrJub\n",
              "G7p164YtW7YAAHbu3AkvL68/DTEAAEtLS9jb2zd5mJpq7yasTp72mBzFsbJEREREmqa3Y2YBYOPG\n",
              "jZgxYwZWrlwJe3t7bN68WeqSiIiIiEiL9DrMhoSE4OTJk1KXQUREREQS0dthBkREREREDLNERERE\n",
              "pLcYZomIiIhIbzHMEhEREZHeYpglIiIiIr3FMEtEREREeothloiIiIj0FsMsEREREekthlkiIiIi\n",
              "0lsyIYSQuggpjB07Fn5+flo5lkKhwJkzZxAVFQVTU1OtHNPQ8Bq2DK9fy/EatgyvX8vxGrYMr1/L\n",
              "SXENfX19sWDBgr/dx2jDrDZVVFTAwcEB5eXlsLe3l7ocvcRr2DK8fi3Ha9gyvH4tx2vYMrx+Laer\n",
              "15DDDIiIiIhIbzHMEhEREZHeYpglIiIiIr3FMKsFlpaWeOWVV2BpaSl1KXqL17BleP1ajtewZXj9\n",
              "Wo7XsGV4/VpOV68hbwAjIiIiIr3FnlkiIiIi0lsMs0RERESktxhmiYiIiEhvMczqqHfeeQcFBQVS\n",
              "l0F6LjMzExs2bPjbfXr06IFjx45ppyA9d+PGDcTExEhdhk6pq6vDmDFjEBwcjIiICAwZMgSpqakA\n",
              "gIEDB8Lf3x+RkZGIjIzEunXr1M+bO3cuOnfujPvuuw/l5eUAACEERowYgbS0NEnORSp+fn4ICQlR\n",
              "X6ft27cDAFJSUtCnTx8EBwejZ8+euHLlCgCgoaEBY8aMQUREBMaOHYvGxkYAqv8X/fv3R1lZmWTn\n",
              "IoWSkhL1tYuMjERwcDDMzMxQWlrK96CRYJjVUQyzpAnNCbPUfJ6enoiPj5e6DJ0zZ84cJCUl4eLF\n",
              "ixg9ejRmzZqlblu3bh0uXLiACxcuYOHChQCAxMREpKSk4PLlyxg4cCC++OILAMBHH32EQYMGoUOH\n",
              "DpKch5S2b9+uvk6TJk0CoApbc+bMQXJyMpYsWYIZM2YAAA4cOAAnJydcvHgRjo6O2L9/PwDg9ddf\n",
              "x9NPP422bdtKdRqScHZ2Vl+7CxcuYM6cORgxYgScnJwA8D1oDBhm79LJkyfRr18/REREoEuXLtiz\n",
              "Zw/OnTuHPn36oEuXLoiKisKJEycAqIKEo6Oj+rlVVVWQyWTqn2UyGVauXImoqCj4+/tj8+bNAIDX\n",
              "XnsNN27cwKRJkxAZGYkLFy5o8xRblUwmw4oVK9CrVy/4+flh9+7dWLVqFXr06IGgoKAmPYQHDhxA\n",
              "v3790L17d0RFReHo0aMAgIKCAgwaNAjdu3dHWFgYnn76aSiVSgDAp59+isGDB2PKlCno3LkzevTo\n",
              "gfT0dClOVetqa2sxadIkdOrUCRERERg6dCjmzZuHpKQkREZGYtSoUQCAn3/+GZGRkQgPD8djjz2m\n",
              "7tUxZs19X/7xd/qvfoeNiZWVFUaOHKn+bIuOjkZmZubfPsfc3BxyuRxKpRLV1dWwsLBAfn4+tm7d\n",
              "ikWLFmmhat1XVFSEc+fOYdq0aQCAcePGIScnB6mpqTA3N0dNTQ0AoKamBhYWFrh06RKuX7+OiRMn\n",
              "Slm2Tvj444/x+OOP/+0+fA/+prmff42NjRg2bBh69OiBsLAwTJ06FdXV1QCAL7/8Ej169IBcLocQ\n",
              "Ag899BBWrFihvZMQ1GwlJSXCzc1NxMXFCSGEUCgUorCwUHh7e4v9+/cLIYSIj48X7u7uorKyUmRk\n",
              "ZAgHBwf18ysrK8XvLzkAsWbNGiGEENeuXRO2traioaFBCCGEr6+vSEhI0M6JaREA8c477wghhPjp\n",
              "p5+EjY2N2Lx5sxBCiB07dogePXoIIYRIS0sT0dHRory8XAghREpKivDw8BB1dXWitrZWVFZWCiGE\n",
              "aGxsFA888IDYunWrEEKIzZs3C3t7e5Geni6EEGLJkiVizpw52jxFyezatUsMHTpU/XNJSYk4evSo\n",
              "iIiIUG+Ty+XCy8tLHDp0SAghxIEDBwQAcfToUS1Xq1ua+7784+/03/0OG6tp06aJ+fPnCyGEGDBg\n",
              "gAgJCRHh4eFi4sSJIi0tTb3fCy+8ICIiIsT48eNFdXW1mDRpkjh37pxUZUvK19dXdO7cWYSHh4uZ\n",
              "M2eKoqIice7cOREcHNxkv549e4rDhw8LhUIhZs2aJbp06SLmzJkjGhoaxP333y9ycnIkOgPdceLE\n",
              "CeHu7q7+PeR78J819/NPqVSK4uJi9X/PmzdPrFq1Sv06c+bMEU899ZR46623xPDhw4VSqdTeOWjt\n",
              "SAbghx9+EDExMU22Xbp0Sfj6+jbZ1qVLFxEfH9+sMJufn6/+2dHRUf1hZMhh9tdzvnXrlgAgamtr\n",
              "hRBCZGZmqq/Xf//7X+Hi4iIiIiLUD09PT5GcnCyqq6vFk08+Kbp06SI6d+4s3N3dxZIlS4QQqjA7\n",
              "bNgw9fF2794t7r//fu2epETS0tKEt7e3eOKJJ8S2bdtERUXFn8LsxYsXhZ+fX5PnBQQEMMw28315\n",
              "pzD7V7/DxmjFihUiOjpaVFdXCyGEyM7OFkKo/vC99957omPHjnd83u7du8Wzzz4riouLxYwZM8TY\n",
              "sWPFtm3btFa31LKysoQQQtTX14vnn39ejBgx4m/D7B+tW7dOvPfeeyIjI0NMmTJFjB079o77GYOZ\n",
              "M2eK5557Tv0z34P/rLmffwqFQrzwwgsiMjJShIeHC29vbzFp0iT169TW1oouXboIb29vcfPmTa2e\n",
              "A4cZtIJfv24zMzODQqFQb6+rq/vTvlZWVur/NjU1NYqvfH89Z1NT0z/9/Ov5CyEwZMiQJuOg8vLy\n",
              "EBQUhLVr16KoqAinT5/GpUuXMHXq1CbX1hivKQAEBATg6tWrGD58OE6cOIHw8PBm3Qjy+6Evxqw5\n",
              "78u/e15z9jVka9aswa5du7Bv3z5YW1sDALy9vQGo3mNPP/000tPTUVJS0uR5FRUVWLNmDZYvX453\n",
              "3nkHAwYMwPbt2/Haa6+htrZW6+chBR8fHwCqr76feeYZxMfHw9vbG/n5+U0+E7Ozs9X7/iorKws/\n",
              "/vgjnnzySbz00kuYM2cOPv30U/zrX//S+nlIraqqCjt27MDMmTPV2/gebJ7mfP599dVXOHLkCGJj\n",
              "Y3H58mU8++yzTf72FhUVoaysDEqlErdu3dJq/Qyzd6FPnz5ISUlR3wCiVCrh7u4OpVKJQ4cOAVCN\n",
              "RywoKEBkZCQ8PDwghMDVq1cBAJ9//nmzj2Vvb6++u9IYDRs2DD/99BMuXbqk3nbmzBkAQFlZGTw8\n",
              "PGBlZYWCggJ8/fXXUpWpU3JzcyGTyTBq1CisWbMGQgg4Ozs3eR+FhoaisbFRPf74p59+4l271GJr\n",
              "167F1q1bcejQIfWY4sbGRhQWFqr32blzJ9zd3eHs7NzkuUuXLsXLL78Ma2trVFdXQyaTQSaToaGh\n",
              "AfX19do8DUlUV1c3+cO/detWdO3aFW5ubujWrRu2bNkCQHX9vLy8EBgY2OT5CxYswLp162BiYqK+\n",
              "fr/+t7HZvn07IiIiEBoaCoDvQU0rKyuDi4sL7O3tUVlZiU8//VTd1tjYiMmTJ+P111/H2rVrMXHi\n",
              "RMjlcq3VZqa1IxmAtm3b4ttvv8XixYtRWVkJExMTvP7669i1axfmz5+PxYsXw8rKCt988w1sbW0B\n",
              "AO+99x4efPBBODs7Y/z48c0+1vz58zF79mxYW1vj008/RWRkZCudlW4KDAzEV199hblz56Kmpgb1\n",
              "9fXo2rUrvvrqKyxYsADjx49HWFgYPD09MXjwYKnL1QmXL1/GsmXLIIRAY2Mjpk+fjj59+iAsLAzh\n",
              "4eEICAjAd999h+3bt+PJJ5+EQqFAz549ERERIXXppMdyc3OxePFiBAQEYNCgQQBU67cfOXIEDzzw\n",
              "AORyOUxMTODi4oLvvvuuyXNPnDiB2tpaDBkyBADw1FNPYcqUKVi9ejWmT58OBwcHrZ+PthUWFmLc\n",
              "uHFQKBQQQiAgIEDd8bFx40bMmDEDK1euhL29/Z9uMPzqq68QERGBsLAwAKpQNnv2bNTX1+Oll17S\n",
              "+rlI7eOPP8bs2bPVP8vlcr4HNeiRRx7Bnj17EBISAldXV8TExCArKwuA6r0XEhKCRx99FAAQGxuL\n",
              "Z555Bh988IFWapMJIYRWjkREREREpGEcZkBEREREeothloiIiIj0FsMsEREREekthlkiIiIi0lsM\n",
              "s0RERESktxhmiYiIiEhvMcwSERERkd5imCUiIiIivcUwS0RERER6i2GWiIiIiPQWwywRERER6a3/\n",
              "BwvFSZGGRYL1AAAAAElFTkSuQmCC\n",
              "\">\n",
              "      </div>\n",
              "      <script type=\"text/javascript\">\n",
              "        (() => {\n",
              "          const chartElement = document.getElementById(\"chart-24807cc8-4fbd-4750-8bef-d29f6a77aeed\");\n",
              "          async function getCodeForChartHandler(event) {\n",
              "            const chartCodeResponse =  await google.colab.kernel.invokeFunction(\n",
              "                'getCodeForChart', [\"chart-24807cc8-4fbd-4750-8bef-d29f6a77aeed\"], {});\n",
              "            const responseJson = chartCodeResponse.data['application/json'];\n",
              "            await google.colab.notebook.addCell(responseJson.code, 'code');\n",
              "          }\n",
              "          chartElement.onclick = getCodeForChartHandler;\n",
              "        })();\n",
              "      </script>\n",
              "      <style>\n",
              "        .colab-quickchart-chart-with-code  {\n",
              "            display: block;\n",
              "            float: left;\n",
              "            border: 1px solid transparent;\n",
              "        }\n",
              "\n",
              "        .colab-quickchart-chart-with-code:hover {\n",
              "            cursor: pointer;\n",
              "            border: 1px solid #aaa;\n",
              "        }\n",
              "      </style>"
            ]
          },
          "metadata": {}
        }
      ]
    },
    {
      "cell_type": "code",
      "source": [
        "X = df['YearsExperience']\n",
        "X.head()"
      ],
      "metadata": {
        "colab": {
          "base_uri": "https://localhost:8080/"
        },
        "id": "roL6FtFyrmfi",
        "outputId": "8f60b5bf-d8e5-466c-d88e-3c5465224afc"
      },
      "execution_count": 29,
      "outputs": [
        {
          "output_type": "execute_result",
          "data": {
            "text/plain": [
              "0    1.1\n",
              "1    1.3\n",
              "2    1.5\n",
              "3    2.0\n",
              "4    2.2\n",
              "Name: YearsExperience, dtype: float64"
            ]
          },
          "metadata": {},
          "execution_count": 29
        }
      ]
    },
    {
      "cell_type": "code",
      "source": [
        "y = df['Salary']\n",
        "y.head()"
      ],
      "metadata": {
        "colab": {
          "base_uri": "https://localhost:8080/"
        },
        "id": "IhwE2z98rmcC",
        "outputId": "a5552da9-9d8b-40e9-8eed-66f2cabfda0e"
      },
      "execution_count": 30,
      "outputs": [
        {
          "output_type": "execute_result",
          "data": {
            "text/plain": [
              "0    39343.0\n",
              "1    46205.0\n",
              "2    37731.0\n",
              "3    43525.0\n",
              "4    39891.0\n",
              "Name: Salary, dtype: float64"
            ]
          },
          "metadata": {},
          "execution_count": 30
        }
      ]
    },
    {
      "cell_type": "code",
      "source": [
        "X = df[[\"YearsExperience\"]].to_numpy()\n",
        "y = df[\"Salary\"].to_numpy()"
      ],
      "metadata": {
        "id": "0nAZaqT_si1g"
      },
      "execution_count": 37,
      "outputs": []
    },
    {
      "cell_type": "code",
      "source": [
        "plt.plot(X, y, 'b.')\n",
        "plt.xlabel('x')\n",
        "plt.ylabel('y', rotation=0)"
      ],
      "metadata": {
        "colab": {
          "base_uri": "https://localhost:8080/",
          "height": 466
        },
        "id": "v2ed0pBZrmYk",
        "outputId": "cc236054-c60e-46ba-e2b3-690c902986ec"
      },
      "execution_count": 38,
      "outputs": [
        {
          "output_type": "execute_result",
          "data": {
            "text/plain": [
              "Text(0, 0.5, 'y')"
            ]
          },
          "metadata": {},
          "execution_count": 38
        },
        {
          "output_type": "display_data",
          "data": {
            "text/plain": [
              "<Figure size 640x480 with 1 Axes>"
            ],
            "image/png": "[encoded data removed]"
          },
          "metadata": {}
        }
      ]
    },
    {
      "cell_type": "code",
      "source": [
        "def cal_cost(y_pred, X, y):\n",
        "    '''\n",
        "    Calculates the cost for given X and Y.\n",
        "    y_pred = Vector of y_preds\n",
        "    X = Row of X's np.zeros((2, j))\n",
        "    y = Actual y's np.zeros((2, 1))\n",
        "\n",
        "    where:\n",
        "        j is the no of features\n",
        "    '''\n",
        "\n",
        "    m = len(y)\n",
        "\n",
        "    predictions = X.dot(y_pred)\n",
        "    cost = (1 / 2 * m) * np.sum(np.square(predictions - y))\n",
        "\n",
        "    return cost"
      ],
      "metadata": {
        "id": "xpNJ9zuAr5sL"
      },
      "execution_count": 39,
      "outputs": []
    },
    {
      "cell_type": "code",
      "source": [
        "def gradient_descent(X, y, y_pred, learning_rate=0.01, iterations=100):\n",
        "    '''\n",
        "    X = Matrix of X with added bias units\n",
        "    y = Vector of Y\n",
        "    y_pred = Vector of y_preds np.random.randn(j, 1)\n",
        "    learning_rate\n",
        "    iterations = no of iterations\n",
        "\n",
        "    Returns the final y_pred vector and array of cost history over no of iterations\n",
        "    '''\n",
        "\n",
        "    m = len(y)\n",
        "    cost_history = np.zeros(iterations)\n",
        "    y_pred_history = np.zeros((iterations, 2))\n",
        "\n",
        "    for it in range(iterations):\n",
        "        prediction = np.dot(X, y_pred)\n",
        "        y_pred = y_pred - (1 / m) * learning_rate * (X.T.dot((prediction - y)))\n",
        "        y_pred_history[it,:] = y_pred.T\n",
        "        cost_history[it]  = cal_cost(y_pred, X, y)\n",
        "\n",
        "    return y_pred, cost_history, y_pred_history\n"
      ],
      "metadata": {
        "id": "wdruGL9yr1JS"
      },
      "execution_count": 40,
      "outputs": []
    },
    {
      "cell_type": "code",
      "source": [
        "lr = 0.01\n",
        "n_iter = 200\n",
        "\n",
        "y_pred = np.random.randn(2,1)\n",
        "X_b = np.c_[np.ones((len(X), 1)), X]\n",
        "\n",
        "\n",
        "print('y_pred[0]: {:0.3f}\\ny_pred[1]: {:0.3f}'.format(y_pred[0][0], y_pred[1][0]))\n",
        "print('Final error: {:0.3f}'.format(cost_history[-1]))"
      ],
      "metadata": {
        "colab": {
          "base_uri": "https://localhost:8080/"
        },
        "id": "m9oeaaJSsXaD",
        "outputId": "bb1ce97b-43a2-4e60-a9fb-28445441311a"
      },
      "execution_count": 47,
      "outputs": [
        {
          "output_type": "stream",
          "name": "stdout",
          "text": [
            "y_pred[0]: 0.274\n",
            "y_pred[1]: 1.222\n",
            "Final error: 4032.923\n"
          ]
        }
      ]
    },
    {
      "cell_type": "code",
      "source": [
        "\n",
        "fig, ax = plt.subplots(figsize=(12,8))\n",
        "\n",
        "ax.set_ylabel('Error')\n",
        "ax.set_xlabel('Number of iterations')\n",
        "\n",
        "ax.plot(range(n_iter), cost_history, 'b.')\n",
        ""
      ],
      "metadata": {
        "colab": {
          "base_uri": "https://localhost:8080/",
          "height": 728
        },
        "id": "cDE45PDitcLM",
        "outputId": "3081f49d-2132-4153-add2-9e1eee1d6daa"
      },
      "execution_count": 48,
      "outputs": [
        {
          "output_type": "execute_result",
          "data": {
            "text/plain": [
              "[<matplotlib.lines.Line2D at 0x7e925e86dba0>]"
            ]
          },
          "metadata": {},
          "execution_count": 48
        },
        {
          "output_type": "display_data",
          "data": {
            "text/plain": [
              "<Figure size 1200x800 with 1 Axes>"
            ],
            "image/png": "[encoded data removed]"
          },
          "metadata": {}
        }
      ]
    },
    {
      "cell_type": "code",
      "source": [
        "fig,ax = plt.subplots(figsize=(10,8))\n",
        "ax.plot(range(200), cost_history[:200], 'b.')"
      ],
      "metadata": {
        "colab": {
          "base_uri": "https://localhost:8080/",
          "height": 708
        },
        "id": "bt0La6e3uM3a",
        "outputId": "4a2a5c6c-9082-4d91-c3a4-05ab6982e813"
      },
      "execution_count": 49,
      "outputs": [
        {
          "output_type": "execute_result",
          "data": {
            "text/plain": [
              "[<matplotlib.lines.Line2D at 0x7e925e908ee0>]"
            ]
          },
          "metadata": {},
          "execution_count": 49
        },
        {
          "output_type": "display_data",
          "data": {
            "text/plain": [
              "<Figure size 1000x800 with 1 Axes>"
            ],
            "image/png": "[encoded data removed]"
          },
          "metadata": {}
        }
      ]
    },
    {
      "cell_type": "code",
      "source": [
        "def stocashtic_gradient_descent(X, y, y_pred, learning_rate=0.01, iterations=10):\n",
        "    '''\n",
        "    X = Matrix of X with added bias units\n",
        "    y = Vector of Y\n",
        "    y_pred = Vector of y_pred np.random.randn(j,1)\n",
        "    learning_rate\n",
        "    iterations = no of iterations\n",
        "\n",
        "    Returns the final y_pred vector and array of cost history over no of iterations\n",
        "    '''\n",
        "\n",
        "    m = len(y)\n",
        "    cost_history = np.zeros(iterations)\n",
        "\n",
        "    for it in range(iterations):\n",
        "        cost = 0.0\n",
        "\n",
        "        for i in range(m):\n",
        "            rand_ind = np.random.randint(0,m)\n",
        "            X_i = X[rand_ind, :].reshape(1, X.shape[1])\n",
        "            y_i = y[rand_ind].reshape(1,1)\n",
        "            prediction = np.dot(X_i, y_pred)\n",
        "\n",
        "            y_pred = y_pred - (1 / m) * learning_rate *(X_i.T.dot((prediction - y_i)))\n",
        "            cost += cal_cost(y_pred, X_i, y_i)\n",
        "\n",
        "        cost_history[it]  = cost\n",
        "\n",
        "    return y_pred, cost_history"
      ],
      "metadata": {
        "id": "DbdvMhsvuUL3"
      },
      "execution_count": 50,
      "outputs": []
    },
    {
      "cell_type": "code",
      "source": [
        "lr = 0.5\n",
        "n_iter = 50\n",
        "y_pred = np.random.randn(2, 1)\n",
        "X_b = np.c_[np.ones((len(X), 1)), X]\n",
        "y_pred, cost_history = stocashtic_gradient_descent(X_b, y, y_pred, lr, n_iter)\n",
        "\n",
        "print('y_pred[0]: {:0.3f}\\ny_pred[1]: {:0.3f}'.format(y_pred[0][0], y_pred[1][0]))\n",
        "print('Final error: {:0.3f}'.format(cost_history[-1]))"
      ],
      "metadata": {
        "colab": {
          "base_uri": "https://localhost:8080/"
        },
        "id": "XsvaYKx4uWG0",
        "outputId": "0d1ceeea-798f-4fa4-f818-54876e1379aa"
      },
      "execution_count": 51,
      "outputs": [
        {
          "output_type": "stream",
          "name": "stdout",
          "text": [
            "y_pred[0]: 26075.537\n",
            "y_pred[1]: 10720.671\n",
            "Final error: 200054698.767\n"
          ]
        }
      ]
    },
    {
      "cell_type": "code",
      "source": [
        "fig, ax = plt.subplots(figsize=(10,8))\n",
        "\n",
        "ax.set_ylabel('Error')\n",
        "ax.set_xlabel('Number of iterations')\n",
        "y_pred = np.random.randn(2,1)\n",
        "\n",
        "ax.plot(range(n_iter), cost_history, 'b.')"
      ],
      "metadata": {
        "colab": {
          "base_uri": "https://localhost:8080/",
          "height": 728
        },
        "id": "yEU2fDWDuWDb",
        "outputId": "ab3b79e4-f58a-4354-eaf6-cfd4baabf367"
      },
      "execution_count": 52,
      "outputs": [
        {
          "output_type": "execute_result",
          "data": {
            "text/plain": [
              "[<matplotlib.lines.Line2D at 0x7e925e7982b0>]"
            ]
          },
          "metadata": {},
          "execution_count": 52
        },
        {
          "output_type": "display_data",
          "data": {
            "text/plain": [
              "<Figure size 1000x800 with 1 Axes>"
            ],
            "image/png": "[encoded data removed]"
          },
          "metadata": {}
        }
      ]
    },
    {
      "cell_type": "code",
      "source": [
        "def minibatch_gradient_descent(X, y, y_pred, learning_rate=0.01, iterations=10, batch_size=20):\n",
        "    '''\n",
        "    X = Matrix of X without added bias units\n",
        "    y = Vector of Y\n",
        "    y_pred = Vector of y_preds np.random.randn(j, 1)\n",
        "    learning_rate\n",
        "    iterations = no of iterations\n",
        "\n",
        "    Returns the final theta vector and array of cost history over no of iterations\n",
        "    '''\n",
        "\n",
        "    m = len(y)\n",
        "    cost_history = np.zeros(iterations)\n",
        "    n_batches = int(m / batch_size)\n",
        "\n",
        "    for it in range(iterations):\n",
        "        cost = 0.0\n",
        "        indices = np.random.permutation(m)\n",
        "        X = X[indices]\n",
        "        y = y[indices]\n",
        "\n",
        "        for i in range(0, m, batch_size):\n",
        "            X_i = X[i: i + batch_size]\n",
        "            y_i = y[i: i + batch_size]\n",
        "\n",
        "            X_i = np.c_[np.ones(len(X_i)), X_i]\n",
        "            prediction = np.dot(X_i, y_pred)\n",
        "\n",
        "            y_pred = y_pred - (1 / m) * learning_rate * (X_i.T.dot((prediction - y_i)))\n",
        "            cost += cal_cost(y_pred, X_i, y_i)\n",
        "\n",
        "        cost_history[it]  = cost\n",
        "\n",
        "    return y_pred, cost_history"
      ],
      "metadata": {
        "id": "yk2l8-qVudbD"
      },
      "execution_count": 53,
      "outputs": []
    },
    {
      "cell_type": "code",
      "source": [
        "lr = 0.1\n",
        "n_iter = 50\n",
        "y_pred = np.random.randn(2,1)\n",
        "\n",
        "print('y_pred[0]: {:0.3f}\\ny_pred[1]: {:0.3f}'.format(y_pred[0][0], y_pred[1][0]))\n",
        "print('Final error: {:0.3f}'.format(cost_history[-1]))"
      ],
      "metadata": {
        "colab": {
          "base_uri": "https://localhost:8080/"
        },
        "id": "h9qGWvzYudVb",
        "outputId": "936c8b97-7fa1-4b69-97b7-38270cb0a485"
      },
      "execution_count": 58,
      "outputs": [
        {
          "output_type": "stream",
          "name": "stdout",
          "text": [
            "y_pred[0]: -0.747\n",
            "y_pred[1]: 0.543\n",
            "Final error: 200054698.767\n"
          ]
        }
      ]
    },
    {
      "cell_type": "code",
      "source": [
        "fig, ax = plt.subplots(figsize=(10,8))\n",
        "\n",
        "ax.set_ylabel('Error')\n",
        "ax.set_xlabel('Number of iterations')\n",
        "y_pred = np.random.randn(2,1)\n",
        "\n",
        "ax.plot(range(n_iter), cost_history, 'b.')"
      ],
      "metadata": {
        "colab": {
          "base_uri": "https://localhost:8080/",
          "height": 728
        },
        "id": "ZDkzv66rudN3",
        "outputId": "9723a109-ab0f-4757-c794-9ea5404b4188"
      },
      "execution_count": 59,
      "outputs": [
        {
          "output_type": "execute_result",
          "data": {
            "text/plain": [
              "[<matplotlib.lines.Line2D at 0x7e925e656710>]"
            ]
          },
          "metadata": {},
          "execution_count": 59
        },
        {
          "output_type": "display_data",
          "data": {
            "text/plain": [
              "<Figure size 1000x800 with 1 Axes>"
            ],
            "image/png": "[encoded data removed]"
          },
          "metadata": {}
        }
      ]
    },
    {
      "cell_type": "markdown",
      "source": [
        "ANSWER 3>>"
      ],
      "metadata": {
        "id": "F9TGs8M5xkj5"
      }
    },
    {
      "cell_type": "code",
      "source": [
        "X = 2 * np.random.rand(100, 1)\n",
        "y = 4 + 3 * X + np.random.randn(100, 1)\n",
        "def cal_cost(y_pred, X, y):\n",
        "    '''\n",
        "    Calculates the cost for given X and Y.\n",
        "    y_pred = Vector of y_preds\n",
        "    X = Row of X's np.zeros((2, j))\n",
        "    y = Actual y's np.zeros((2, 1))\n",
        "\n",
        "    where:\n",
        "        j is the no of features\n",
        "    '''\n",
        "\n",
        "    m = len(y)\n",
        "\n",
        "    predictions = X.dot(y_pred)\n",
        "    cost = (1 / 2 * m) * np.sum(np.square(predictions - y))\n",
        "\n",
        "    return cost"
      ],
      "metadata": {
        "id": "hjD7tiNbvGRH"
      },
      "execution_count": 61,
      "outputs": []
    },
    {
      "cell_type": "code",
      "source": [
        "lr = 0.01\n",
        "n_iter = 1000\n",
        "\n",
        "y_pred = np.random.randn(2,1)\n",
        "X_b = np.c_[np.ones((len(X), 1)), X]\n",
        "y_pred, cost_history, y_pred_history = gradient_descent(X_b, y, y_pred, lr, n_iter)\n",
        "\n",
        "print('y_pred[0]: {:0.3f}\\ny_pred[1]: {:0.3f}'.format(y_pred[0][0], y_pred[1][0]))\n",
        "print('Final error: {:0.3f}'.format(cost_history[-1]))"
      ],
      "metadata": {
        "colab": {
          "base_uri": "https://localhost:8080/"
        },
        "id": "rfDyWIbLvGNf",
        "outputId": "93b66e86-29f7-40ef-ea25-f4a8aff317be"
      },
      "execution_count": 66,
      "outputs": [
        {
          "output_type": "stream",
          "name": "stdout",
          "text": [
            "y_pred[0]: 3.668\n",
            "y_pred[1]: 3.291\n",
            "Final error: 5472.395\n"
          ]
        }
      ]
    },
    {
      "cell_type": "code",
      "source": [
        "lr = 0.01\n",
        "n_iter = 50\n",
        "y_pred = np.random.randn(2, 1)\n",
        "X_b = np.c_[np.ones((len(X), 1)), X]\n",
        "y_pred, cost_history = stocashtic_gradient_descent(X_b, y, y_pred, lr, n_iter)\n",
        "\n",
        "print('y_pred[0]: {:0.3f}\\ny_pred[1]: {:0.3f}'.format(y_pred[0][0], y_pred[1][0]))\n",
        "print('Final error: {:0.3f}'.format(cost_history[-1]))"
      ],
      "metadata": {
        "colab": {
          "base_uri": "https://localhost:8080/"
        },
        "id": "Ia476MMjx8DM",
        "outputId": "fe05007e-515c-4c4d-c899-01da3c7587c4"
      },
      "execution_count": 67,
      "outputs": [
        {
          "output_type": "stream",
          "name": "stdout",
          "text": [
            "y_pred[0]: 0.520\n",
            "y_pred[1]: 3.589\n",
            "Final error: 460.774\n"
          ]
        }
      ]
    },
    {
      "cell_type": "code",
      "source": [
        "lr = 0.01\n",
        "n_iter = 200\n",
        "y_pred = np.random.randn(2,1)\n",
        "y_pred, cost_history = minibatch_gradient_descent(X, y, y_pred, lr, n_iter)\n",
        "\n",
        "print('y_pred[0]: {:0.3f}\\ny_pred[1]: {:0.3f}'.format(y_pred[0][0], y_pred[1][0]))\n",
        "print('Final error: {:0.3f}'.format(cost_history[-1]))"
      ],
      "metadata": {
        "colab": {
          "base_uri": "https://localhost:8080/"
        },
        "id": "dizJopxwx7_s",
        "outputId": "ed0a8087-9a2a-427a-e8b1-bd29d8e49fce"
      },
      "execution_count": 68,
      "outputs": [
        {
          "output_type": "stream",
          "name": "stdout",
          "text": [
            "y_pred[0]: 3.605\n",
            "y_pred[1]: 3.235\n",
            "Final error: 1110.677\n"
          ]
        }
      ]
    },
    {
      "cell_type": "markdown",
      "source": [
        "Henceforth it is observed that Changing the learning rate by the same amount in Batch Gradient Descent (BGD) may lead to overshooting or slow convergence, while in Stochastic Gradient Descent (SGD), it can introduce more volatility in the updates. In Mini-batch Gradient Descent, the effects will be a balance between the characteristics of BGD and SGD."
      ],
      "metadata": {
        "id": "sXUr84Uvyawi"
      }
    },
    {
      "cell_type": "code",
      "source": [],
      "metadata": {
        "id": "lxkTi8uEx79A"
      },
      "execution_count": null,
      "outputs": []
    }
  ]
}